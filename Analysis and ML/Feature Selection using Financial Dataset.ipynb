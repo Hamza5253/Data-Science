{
 "cells": [
  {
   "cell_type": "raw",
   "metadata": {},
   "source": [
    "### Imports"
   ]
  },
  {
   "cell_type": "code",
   "execution_count": 1,
   "metadata": {},
   "outputs": [],
   "source": [
    "import pandas as pd\n",
    "import numpy as np\n",
    "import matplotlib.pyplot as plt\n",
    "import seaborn as sns\n",
    "import scipy.stats as stats\n",
    "from scipy.stats import chisquare\n",
    "from scipy.stats import chi2_contingency"
   ]
  },
  {
   "cell_type": "markdown",
   "metadata": {},
   "source": [
    "### Data Import"
   ]
  },
  {
   "cell_type": "code",
   "execution_count": 2,
   "metadata": {},
   "outputs": [],
   "source": [
    "data=pd.read_csv(\"Finance.csv\")"
   ]
  },
  {
   "cell_type": "code",
   "execution_count": 3,
   "metadata": {},
   "outputs": [
    {
     "data": {
      "text/html": [
       "<div>\n",
       "<style scoped>\n",
       "    .dataframe tbody tr th:only-of-type {\n",
       "        vertical-align: middle;\n",
       "    }\n",
       "\n",
       "    .dataframe tbody tr th {\n",
       "        vertical-align: top;\n",
       "    }\n",
       "\n",
       "    .dataframe thead th {\n",
       "        text-align: right;\n",
       "    }\n",
       "</style>\n",
       "<table border=\"1\" class=\"dataframe\">\n",
       "  <thead>\n",
       "    <tr style=\"text-align: right;\">\n",
       "      <th></th>\n",
       "      <th>age</th>\n",
       "      <th>job</th>\n",
       "      <th>marital</th>\n",
       "      <th>education</th>\n",
       "      <th>default</th>\n",
       "      <th>balance</th>\n",
       "      <th>housing</th>\n",
       "      <th>loan</th>\n",
       "      <th>contact</th>\n",
       "      <th>day</th>\n",
       "      <th>month</th>\n",
       "      <th>duration</th>\n",
       "      <th>campaign</th>\n",
       "      <th>pdays</th>\n",
       "      <th>previous</th>\n",
       "      <th>poutcome</th>\n",
       "      <th>y</th>\n",
       "    </tr>\n",
       "  </thead>\n",
       "  <tbody>\n",
       "    <tr>\n",
       "      <td>0</td>\n",
       "      <td>58</td>\n",
       "      <td>management</td>\n",
       "      <td>married</td>\n",
       "      <td>tertiary</td>\n",
       "      <td>no</td>\n",
       "      <td>2143</td>\n",
       "      <td>yes</td>\n",
       "      <td>no</td>\n",
       "      <td>unknown</td>\n",
       "      <td>5</td>\n",
       "      <td>may</td>\n",
       "      <td>261</td>\n",
       "      <td>1</td>\n",
       "      <td>-1</td>\n",
       "      <td>0</td>\n",
       "      <td>unknown</td>\n",
       "      <td>no</td>\n",
       "    </tr>\n",
       "    <tr>\n",
       "      <td>1</td>\n",
       "      <td>44</td>\n",
       "      <td>technician</td>\n",
       "      <td>single</td>\n",
       "      <td>secondary</td>\n",
       "      <td>no</td>\n",
       "      <td>29</td>\n",
       "      <td>yes</td>\n",
       "      <td>no</td>\n",
       "      <td>unknown</td>\n",
       "      <td>5</td>\n",
       "      <td>may</td>\n",
       "      <td>151</td>\n",
       "      <td>1</td>\n",
       "      <td>-1</td>\n",
       "      <td>0</td>\n",
       "      <td>unknown</td>\n",
       "      <td>no</td>\n",
       "    </tr>\n",
       "    <tr>\n",
       "      <td>2</td>\n",
       "      <td>33</td>\n",
       "      <td>entrepreneur</td>\n",
       "      <td>married</td>\n",
       "      <td>secondary</td>\n",
       "      <td>no</td>\n",
       "      <td>2</td>\n",
       "      <td>yes</td>\n",
       "      <td>yes</td>\n",
       "      <td>unknown</td>\n",
       "      <td>5</td>\n",
       "      <td>may</td>\n",
       "      <td>76</td>\n",
       "      <td>1</td>\n",
       "      <td>-1</td>\n",
       "      <td>0</td>\n",
       "      <td>unknown</td>\n",
       "      <td>no</td>\n",
       "    </tr>\n",
       "    <tr>\n",
       "      <td>3</td>\n",
       "      <td>47</td>\n",
       "      <td>blue-collar</td>\n",
       "      <td>married</td>\n",
       "      <td>unknown</td>\n",
       "      <td>no</td>\n",
       "      <td>1506</td>\n",
       "      <td>yes</td>\n",
       "      <td>no</td>\n",
       "      <td>unknown</td>\n",
       "      <td>5</td>\n",
       "      <td>may</td>\n",
       "      <td>92</td>\n",
       "      <td>1</td>\n",
       "      <td>-1</td>\n",
       "      <td>0</td>\n",
       "      <td>unknown</td>\n",
       "      <td>no</td>\n",
       "    </tr>\n",
       "    <tr>\n",
       "      <td>4</td>\n",
       "      <td>33</td>\n",
       "      <td>unknown</td>\n",
       "      <td>single</td>\n",
       "      <td>unknown</td>\n",
       "      <td>no</td>\n",
       "      <td>1</td>\n",
       "      <td>no</td>\n",
       "      <td>no</td>\n",
       "      <td>unknown</td>\n",
       "      <td>5</td>\n",
       "      <td>may</td>\n",
       "      <td>198</td>\n",
       "      <td>1</td>\n",
       "      <td>-1</td>\n",
       "      <td>0</td>\n",
       "      <td>unknown</td>\n",
       "      <td>no</td>\n",
       "    </tr>\n",
       "  </tbody>\n",
       "</table>\n",
       "</div>"
      ],
      "text/plain": [
       "   age           job  marital  education default  balance housing loan  \\\n",
       "0   58    management  married   tertiary      no     2143     yes   no   \n",
       "1   44    technician   single  secondary      no       29     yes   no   \n",
       "2   33  entrepreneur  married  secondary      no        2     yes  yes   \n",
       "3   47   blue-collar  married    unknown      no     1506     yes   no   \n",
       "4   33       unknown   single    unknown      no        1      no   no   \n",
       "\n",
       "   contact  day month  duration  campaign  pdays  previous poutcome   y  \n",
       "0  unknown    5   may       261         1     -1         0  unknown  no  \n",
       "1  unknown    5   may       151         1     -1         0  unknown  no  \n",
       "2  unknown    5   may        76         1     -1         0  unknown  no  \n",
       "3  unknown    5   may        92         1     -1         0  unknown  no  \n",
       "4  unknown    5   may       198         1     -1         0  unknown  no  "
      ]
     },
     "execution_count": 3,
     "metadata": {},
     "output_type": "execute_result"
    }
   ],
   "source": [
    "data.head()"
   ]
  },
  {
   "cell_type": "code",
   "execution_count": 4,
   "metadata": {},
   "outputs": [
    {
     "data": {
      "text/plain": [
       "(45211, 17)"
      ]
     },
     "execution_count": 4,
     "metadata": {},
     "output_type": "execute_result"
    }
   ],
   "source": [
    "data.shape"
   ]
  },
  {
   "cell_type": "code",
   "execution_count": 5,
   "metadata": {},
   "outputs": [
    {
     "data": {
      "text/plain": [
       "age          False\n",
       "job          False\n",
       "marital      False\n",
       "education    False\n",
       "default      False\n",
       "balance      False\n",
       "housing      False\n",
       "loan         False\n",
       "contact      False\n",
       "day          False\n",
       "month        False\n",
       "duration     False\n",
       "campaign     False\n",
       "pdays        False\n",
       "previous     False\n",
       "poutcome     False\n",
       "y            False\n",
       "dtype: bool"
      ]
     },
     "execution_count": 5,
     "metadata": {},
     "output_type": "execute_result"
    }
   ],
   "source": [
    "#is there any null valuein the data\n",
    "data.isnull().any()"
   ]
  },
  {
   "cell_type": "markdown",
   "metadata": {},
   "source": [
    "There is no null values in the data"
   ]
  },
  {
   "cell_type": "code",
   "execution_count": 6,
   "metadata": {},
   "outputs": [
    {
     "data": {
      "text/plain": [
       "age           int64\n",
       "job          object\n",
       "marital      object\n",
       "education    object\n",
       "default      object\n",
       "balance       int64\n",
       "housing      object\n",
       "loan         object\n",
       "contact      object\n",
       "day           int64\n",
       "month        object\n",
       "duration      int64\n",
       "campaign      int64\n",
       "pdays         int64\n",
       "previous      int64\n",
       "poutcome     object\n",
       "y            object\n",
       "dtype: object"
      ]
     },
     "execution_count": 6,
     "metadata": {},
     "output_type": "execute_result"
    }
   ],
   "source": [
    "data.dtypes"
   ]
  },
  {
   "cell_type": "markdown",
   "metadata": {},
   "source": [
    "### Using Chi Square to test Assocaition between Categorical Attributes"
   ]
  },
  {
   "cell_type": "code",
   "execution_count": 7,
   "metadata": {},
   "outputs": [
    {
     "data": {
      "text/plain": [
       "no     44396\n",
       "yes      815\n",
       "Name: default, dtype: int64"
      ]
     },
     "execution_count": 7,
     "metadata": {},
     "output_type": "execute_result"
    }
   ],
   "source": [
    "data['default'].value_counts()"
   ]
  },
  {
   "cell_type": "code",
   "execution_count": 21,
   "metadata": {},
   "outputs": [],
   "source": [
    "df=data"
   ]
  },
  {
   "cell_type": "code",
   "execution_count": 22,
   "metadata": {},
   "outputs": [],
   "source": [
    "tab = pd.crosstab(df['default'],df['y'])"
   ]
  },
  {
   "cell_type": "code",
   "execution_count": 23,
   "metadata": {},
   "outputs": [
    {
     "data": {
      "text/html": [
       "<div>\n",
       "<style scoped>\n",
       "    .dataframe tbody tr th:only-of-type {\n",
       "        vertical-align: middle;\n",
       "    }\n",
       "\n",
       "    .dataframe tbody tr th {\n",
       "        vertical-align: top;\n",
       "    }\n",
       "\n",
       "    .dataframe thead th {\n",
       "        text-align: right;\n",
       "    }\n",
       "</style>\n",
       "<table border=\"1\" class=\"dataframe\">\n",
       "  <thead>\n",
       "    <tr style=\"text-align: right;\">\n",
       "      <th>y</th>\n",
       "      <th>no</th>\n",
       "      <th>yes</th>\n",
       "    </tr>\n",
       "    <tr>\n",
       "      <th>default</th>\n",
       "      <th></th>\n",
       "      <th></th>\n",
       "    </tr>\n",
       "  </thead>\n",
       "  <tbody>\n",
       "    <tr>\n",
       "      <td>no</td>\n",
       "      <td>39159</td>\n",
       "      <td>5237</td>\n",
       "    </tr>\n",
       "    <tr>\n",
       "      <td>yes</td>\n",
       "      <td>763</td>\n",
       "      <td>52</td>\n",
       "    </tr>\n",
       "  </tbody>\n",
       "</table>\n",
       "</div>"
      ],
      "text/plain": [
       "y           no   yes\n",
       "default             \n",
       "no       39159  5237\n",
       "yes        763    52"
      ]
     },
     "execution_count": 23,
     "metadata": {},
     "output_type": "execute_result"
    }
   ],
   "source": [
    "tab"
   ]
  },
  {
   "cell_type": "code",
   "execution_count": null,
   "metadata": {},
   "outputs": [],
   "source": []
  },
  {
   "cell_type": "code",
   "execution_count": 24,
   "metadata": {},
   "outputs": [
    {
     "name": "stdout",
     "output_type": "stream",
     "text": [
      "Observed Values :-\n",
      " [[39159  5237]\n",
      " [  763    52]]\n"
     ]
    }
   ],
   "source": [
    "Observed_Values = tab.values \n",
    "print(\"Observed Values :-\\n\",Observed_Values)"
   ]
  },
  {
   "cell_type": "code",
   "execution_count": 26,
   "metadata": {},
   "outputs": [
    {
     "name": "stdout",
     "output_type": "stream",
     "text": [
      "Expected Values :-\n",
      " [[39202.34261574  5193.65738426]\n",
      " [  719.65738426    95.34261574]]\n"
     ]
    }
   ],
   "source": [
    "import scipy.stats\n",
    "b=scipy.stats.chi2_contingency(tab)\n",
    "Expected_Values = b[3]\n",
    "print(\"Expected Values :-\\n\",Expected_Values)"
   ]
  },
  {
   "cell_type": "code",
   "execution_count": 27,
   "metadata": {},
   "outputs": [
    {
     "data": {
      "text/plain": [
       "(22.20224995571685,\n",
       " 2.4538606753508344e-06,\n",
       " 1,\n",
       " array([[39202.34261574,  5193.65738426],\n",
       "        [  719.65738426,    95.34261574]]))"
      ]
     },
     "execution_count": 27,
     "metadata": {},
     "output_type": "execute_result"
    }
   ],
   "source": [
    "b"
   ]
  },
  {
   "cell_type": "code",
   "execution_count": 31,
   "metadata": {},
   "outputs": [
    {
     "name": "stdout",
     "output_type": "stream",
     "text": [
      "Degree of Freedom:- 1\n"
     ]
    }
   ],
   "source": [
    "no_of_rows=len(tab.iloc[0:2,0])\n",
    "no_of_columns=len(tab.iloc[0,0:2])\n",
    "df=(no_of_rows-1)*(no_of_columns-1)\n",
    "print(\"Degree of Freedom:-\",df)"
   ]
  },
  {
   "cell_type": "code",
   "execution_count": 32,
   "metadata": {},
   "outputs": [],
   "source": [
    "df=b[2]"
   ]
  },
  {
   "cell_type": "code",
   "execution_count": 33,
   "metadata": {},
   "outputs": [
    {
     "data": {
      "text/plain": [
       "1"
      ]
     },
     "execution_count": 33,
     "metadata": {},
     "output_type": "execute_result"
    }
   ],
   "source": [
    "df"
   ]
  },
  {
   "cell_type": "code",
   "execution_count": 34,
   "metadata": {},
   "outputs": [],
   "source": [
    "alpha=0.05"
   ]
  },
  {
   "cell_type": "code",
   "execution_count": 37,
   "metadata": {},
   "outputs": [
    {
     "name": "stdout",
     "output_type": "stream",
     "text": [
      "chi-square statistic:- 22.72350213915002\n"
     ]
    }
   ],
   "source": [
    "chi_square=sum([(o-e)**2./e for o,e in zip(Observed_Values,Expected_Values)])\n",
    "\n",
    "chi_square_statistic=chi_square[0]+chi_square[1]\n",
    "print(\"chi-square statistic:-\",chi_square_statistic)"
   ]
  },
  {
   "cell_type": "code",
   "execution_count": 36,
   "metadata": {},
   "outputs": [],
   "source": [
    "from scipy.stats import chi2"
   ]
  },
  {
   "cell_type": "code",
   "execution_count": 62,
   "metadata": {},
   "outputs": [
    {
     "name": "stdout",
     "output_type": "stream",
     "text": [
      "critical_value: 3.841458820694124\n"
     ]
    }
   ],
   "source": [
    "critical_value=chi2.ppf(q=1-alpha,df=df)\n",
    "print('critical_value:',critical_value)"
   ]
  },
  {
   "cell_type": "code",
   "execution_count": 63,
   "metadata": {},
   "outputs": [
    {
     "name": "stdout",
     "output_type": "stream",
     "text": [
      "p-value: 1.8706589343109314e-06\n"
     ]
    }
   ],
   "source": [
    "p_value=1-chi2.cdf(x=chi_square_statistic,df=df)\n",
    "print('p-value:',p_value)"
   ]
  },
  {
   "cell_type": "code",
   "execution_count": 64,
   "metadata": {},
   "outputs": [
    {
     "name": "stdout",
     "output_type": "stream",
     "text": [
      "Significance level:  0.05\n",
      "Degree of Freedom:  1\n",
      "chi-square statistic: 22.72350213915002\n",
      "critical_value: 3.841458820694124\n",
      "p-value: 1.8706589343109314e-06\n"
     ]
    }
   ],
   "source": [
    "print('Significance level: ',alpha)\n",
    "print('Degree of Freedom: ',df)\n",
    "print('chi-square statistic:',chi_square_statistic)\n",
    "print('critical_value:',critical_value)\n",
    "print('p-value:',p_value)"
   ]
  },
  {
   "cell_type": "code",
   "execution_count": 65,
   "metadata": {},
   "outputs": [
    {
     "name": "stdout",
     "output_type": "stream",
     "text": [
      "Reject H0,There is a relationship between 2 categorical variables\n",
      "Reject H0,There is a relationship between 2 categorical variables\n"
     ]
    }
   ],
   "source": [
    "if chi_square_statistic>=critical_value:\n",
    "    print(\"Reject H0,There is a relationship between 2 categorical variables\")\n",
    "else:\n",
    "    print(\"Retain H0,There is no relationship between 2 categorical variables\")\n",
    "    \n",
    "if p_value<=alpha:\n",
    "    print(\"Reject H0,There is a relationship between 2 categorical variables\")\n",
    "else:\n",
    "    print(\"Retain H0,There is no relationship between 2 categorical variables\")"
   ]
  },
  {
   "cell_type": "raw",
   "metadata": {},
   "source": [
    "Stacked Bar Charts "
   ]
  },
  {
   "cell_type": "code",
   "execution_count": 66,
   "metadata": {},
   "outputs": [
    {
     "data": {
      "text/plain": [
       "<matplotlib.axes._subplots.AxesSubplot at 0x24b0e0cf6d8>"
      ]
     },
     "execution_count": 66,
     "metadata": {},
     "output_type": "execute_result"
    },
    {
     "data": {
      "image/png": "[encoded data removed]",
      "text/plain": [
       "<Figure size 576x576 with 1 Axes>"
      ]
     },
     "metadata": {
      "needs_background": "light"
     },
     "output_type": "display_data"
    }
   ],
   "source": [
    "tab.plot(kind=\"bar\", \n",
    "                 figsize=(8,8),\n",
    "                 stacked=True)"
   ]
  },
  {
   "cell_type": "code",
   "execution_count": 44,
   "metadata": {},
   "outputs": [
    {
     "data": {
      "text/plain": [
       "cellular     29285\n",
       "unknown      13020\n",
       "telephone     2906\n",
       "Name: contact, dtype: int64"
      ]
     },
     "execution_count": 44,
     "metadata": {},
     "output_type": "execute_result"
    }
   ],
   "source": [
    "data['contact'].value_counts()"
   ]
  },
  {
   "cell_type": "code",
   "execution_count": 45,
   "metadata": {},
   "outputs": [],
   "source": [
    "tab = pd.crosstab(data['contact'],data['y'])"
   ]
  },
  {
   "cell_type": "code",
   "execution_count": 46,
   "metadata": {},
   "outputs": [
    {
     "data": {
      "text/html": [
       "<div>\n",
       "<style scoped>\n",
       "    .dataframe tbody tr th:only-of-type {\n",
       "        vertical-align: middle;\n",
       "    }\n",
       "\n",
       "    .dataframe tbody tr th {\n",
       "        vertical-align: top;\n",
       "    }\n",
       "\n",
       "    .dataframe thead th {\n",
       "        text-align: right;\n",
       "    }\n",
       "</style>\n",
       "<table border=\"1\" class=\"dataframe\">\n",
       "  <thead>\n",
       "    <tr style=\"text-align: right;\">\n",
       "      <th>y</th>\n",
       "      <th>no</th>\n",
       "      <th>yes</th>\n",
       "    </tr>\n",
       "    <tr>\n",
       "      <th>contact</th>\n",
       "      <th></th>\n",
       "      <th></th>\n",
       "    </tr>\n",
       "  </thead>\n",
       "  <tbody>\n",
       "    <tr>\n",
       "      <td>cellular</td>\n",
       "      <td>24916</td>\n",
       "      <td>4369</td>\n",
       "    </tr>\n",
       "    <tr>\n",
       "      <td>telephone</td>\n",
       "      <td>2516</td>\n",
       "      <td>390</td>\n",
       "    </tr>\n",
       "    <tr>\n",
       "      <td>unknown</td>\n",
       "      <td>12490</td>\n",
       "      <td>530</td>\n",
       "    </tr>\n",
       "  </tbody>\n",
       "</table>\n",
       "</div>"
      ],
      "text/plain": [
       "y             no   yes\n",
       "contact               \n",
       "cellular   24916  4369\n",
       "telephone   2516   390\n",
       "unknown    12490   530"
      ]
     },
     "execution_count": 46,
     "metadata": {},
     "output_type": "execute_result"
    }
   ],
   "source": [
    "tab"
   ]
  },
  {
   "cell_type": "code",
   "execution_count": 47,
   "metadata": {},
   "outputs": [
    {
     "name": "stdout",
     "output_type": "stream",
     "text": [
      "Observed Values :-\n",
      " [[24916  4369]\n",
      " [ 2516   390]\n",
      " [12490   530]]\n"
     ]
    }
   ],
   "source": [
    "Observed_Values = tab.values \n",
    "print(\"Observed Values :-\\n\",Observed_Values)"
   ]
  },
  {
   "cell_type": "code",
   "execution_count": 48,
   "metadata": {},
   "outputs": [
    {
     "name": "stdout",
     "output_type": "stream",
     "text": [
      "Expected Values :-\n",
      " [[25859.09999779  3425.90000221]\n",
      " [ 2566.04215788   339.95784212]\n",
      " [11496.85784433  1523.14215567]]\n"
     ]
    }
   ],
   "source": [
    "import scipy.stats\n",
    "b=scipy.stats.chi2_contingency(tab)\n",
    "Expected_Values = b[3]\n",
    "print(\"Expected Values :-\\n\",Expected_Values)"
   ]
  },
  {
   "cell_type": "code",
   "execution_count": 53,
   "metadata": {},
   "outputs": [
    {
     "data": {
      "text/plain": [
       "(1035.714225356292,\n",
       " 1.251738325340638e-225,\n",
       " 2,\n",
       " array([[25859.09999779,  3425.90000221],\n",
       "        [ 2566.04215788,   339.95784212],\n",
       "        [11496.85784433,  1523.14215567]]))"
      ]
     },
     "execution_count": 53,
     "metadata": {},
     "output_type": "execute_result"
    }
   ],
   "source": [
    "b"
   ]
  },
  {
   "cell_type": "code",
   "execution_count": 54,
   "metadata": {},
   "outputs": [
    {
     "name": "stdout",
     "output_type": "stream",
     "text": [
      "Degree of Freedom:- 1\n"
     ]
    }
   ],
   "source": [
    "no_of_rows=len(tab.iloc[0:4,0])\n",
    "no_of_columns=len(tab.iloc[0,0:2])\n",
    "df2=(no_of_rows-1)*(no_of_columns-1)\n",
    "print(\"Degree of Freedom:-\",df)"
   ]
  },
  {
   "cell_type": "code",
   "execution_count": 56,
   "metadata": {},
   "outputs": [
    {
     "data": {
      "text/plain": [
       "2"
      ]
     },
     "execution_count": 56,
     "metadata": {},
     "output_type": "execute_result"
    }
   ],
   "source": [
    "df2=b[2]\n",
    "df2"
   ]
  },
  {
   "cell_type": "code",
   "execution_count": 75,
   "metadata": {},
   "outputs": [
    {
     "data": {
      "text/plain": [
       "array([[25859.09999779,  3425.90000221],\n",
       "       [ 2566.04215788,   339.95784212],\n",
       "       [11496.85784433,  1523.14215567]])"
      ]
     },
     "execution_count": 75,
     "metadata": {},
     "output_type": "execute_result"
    }
   ],
   "source": [
    "alpha=0.1\n",
    "Expected_Values"
   ]
  },
  {
   "cell_type": "code",
   "execution_count": 76,
   "metadata": {},
   "outputs": [
    {
     "name": "stdout",
     "output_type": "stream",
     "text": [
      "chi-square statistic:- 1035.7142253562922\n"
     ]
    }
   ],
   "source": [
    "chi_square=sum([(o-e)**2./e for o,e in zip(Observed_Values,Expected_Values)])\n",
    "chi_square_statistic=chi_square[0]+chi_square[1]\n",
    "print(\"chi-square statistic:-\",chi_square_statistic)"
   ]
  },
  {
   "cell_type": "code",
   "execution_count": 77,
   "metadata": {},
   "outputs": [
    {
     "data": {
      "text/plain": [
       "array([121.16282626, 914.5513991 ])"
      ]
     },
     "execution_count": 77,
     "metadata": {},
     "output_type": "execute_result"
    }
   ],
   "source": [
    "chi_square"
   ]
  },
  {
   "cell_type": "code",
   "execution_count": 78,
   "metadata": {},
   "outputs": [
    {
     "data": {
      "text/plain": [
       "2"
      ]
     },
     "execution_count": 78,
     "metadata": {},
     "output_type": "execute_result"
    }
   ],
   "source": [
    "df2 "
   ]
  },
  {
   "cell_type": "code",
   "execution_count": 79,
   "metadata": {},
   "outputs": [
    {
     "name": "stdout",
     "output_type": "stream",
     "text": [
      "critical_value: 4.605170185988092\n"
     ]
    }
   ],
   "source": [
    "critical_value=chi2.ppf(q=1-alpha,df=df2)\n",
    "print('critical_value:',critical_value)"
   ]
  },
  {
   "cell_type": "code",
   "execution_count": 80,
   "metadata": {},
   "outputs": [
    {
     "name": "stdout",
     "output_type": "stream",
     "text": [
      "p-value: 0.0\n"
     ]
    }
   ],
   "source": [
    "p_value=1-chi2.cdf(x=chi_square_statistic,df=2)\n",
    "print('p-value:',p_value)"
   ]
  },
  {
   "cell_type": "code",
   "execution_count": 78,
   "metadata": {},
   "outputs": [
    {
     "data": {
      "text/plain": [
       "2"
      ]
     },
     "execution_count": 78,
     "metadata": {},
     "output_type": "execute_result"
    }
   ],
   "source": [
    "df2"
   ]
  },
  {
   "cell_type": "code",
   "execution_count": 81,
   "metadata": {},
   "outputs": [
    {
     "name": "stdout",
     "output_type": "stream",
     "text": [
      "Significance level:  0.1\n",
      "Degree of Freedom:  2\n",
      "chi-square statistic: 1035.7142253562922\n",
      "critical_value: 4.605170185988092\n",
      "p-value: 0.0\n"
     ]
    }
   ],
   "source": [
    "print('Significance level: ',alpha)\n",
    "print('Degree of Freedom: ',df2)\n",
    "print('chi-square statistic:',chi_square_statistic)\n",
    "print('critical_value:',critical_value)\n",
    "print('p-value:',p_value)"
   ]
  },
  {
   "cell_type": "code",
   "execution_count": 83,
   "metadata": {},
   "outputs": [
    {
     "name": "stdout",
     "output_type": "stream",
     "text": [
      "Reject H0,There is a relationship between 2 categorical variables\n",
      "Reject H0,There is a relationship between 2 categorical variables\n"
     ]
    }
   ],
   "source": [
    "if chi_square_statistic>=critical_value:\n",
    "    print(\"Reject H0,There is a relationship between 2 categorical variables\")\n",
    "else:\n",
    "    print(\"Retain H0,There is no relationship between 2 categorical variables\")\n",
    "    \n",
    "if p_value<=alpha:\n",
    "    print(\"Reject H0,There is a relationship between 2 categorical variables\")\n",
    "else:\n",
    "    print(\"Retain H0,There is no relationship between 2 categorical variables\")"
   ]
  },
  {
   "cell_type": "code",
   "execution_count": 81,
   "metadata": {},
   "outputs": [
    {
     "data": {
      "text/plain": [
       "<matplotlib.axes._subplots.AxesSubplot at 0x24b0dfa4588>"
      ]
     },
     "execution_count": 81,
     "metadata": {},
     "output_type": "execute_result"
    },
    {
     "data": {
      "image/png": "[encoded data removed]",
      "text/plain": [
       "<Figure size 576x576 with 1 Axes>"
      ]
     },
     "metadata": {
      "needs_background": "light"
     },
     "output_type": "display_data"
    }
   ],
   "source": [
    "tab.plot(kind=\"bar\", \n",
    "                 figsize=(8,8),\n",
    "                 stacked=True)"
   ]
  },
  {
   "cell_type": "code",
   "execution_count": 82,
   "metadata": {},
   "outputs": [],
   "source": [
    "def test_dependency(data,f1,f2,alpha):\n",
    "    tab = pd.crosstab(data[f1],data[f2])\n",
    "    \n",
    "    Observed_Values = tab.values\n",
    "    \n",
    "    b=scipy.stats.chi2_contingency(tab)\n",
    "    Expected_Values = b[3]\n",
    "    \n",
    "    no_of_rows=len(tab.iloc[0:2,0])\n",
    "    no_of_columns=len(tab.iloc[0,0:2])\n",
    "    df=(no_of_rows-1)*(no_of_columns-1)\n",
    "    chi_square=sum([(o-e)**2./e for o,e in zip(Observed_Values,Expected_Values)])\n",
    "    chi_square_statistic=chi_square[0]+chi_square[1]\n",
    "    \n",
    "    critical_value=chi2.ppf(q=1-alpha,df=df)\n",
    "    p_value=1-chi2.cdf(x=chi_square_statistic,df=df)\n",
    "    \n",
    "    print('Significance level: ',alpha)\n",
    "    print('Degree of Freedom: ',df)\n",
    "    print('chi-square statistic:',chi_square_statistic)\n",
    "    print('critical_value:',critical_value)\n",
    "    print('p-value:',p_value)\n",
    "    \n",
    "    if chi_square_statistic>=critical_value:\n",
    "        print(\"Reject H0,There is a relationship between 2 categorical variables\")\n",
    "    else:\n",
    "        print(\"Retain H0,There is no relationship between 2 categorical variables\")\n",
    "    \n",
    "    if p_value<=alpha:\n",
    "        print(\"Reject H0,There is a relationship between 2 categorical variables\")\n",
    "    else:\n",
    "        print(\"Retain H0,There is no relationship between 2 categorical variables\")\n",
    "\n",
    "\n",
    "  \n"
   ]
  },
  {
   "cell_type": "code",
   "execution_count": 83,
   "metadata": {},
   "outputs": [
    {
     "name": "stdout",
     "output_type": "stream",
     "text": [
      "Significance level:  0.005\n",
      "Degree of Freedom:  1\n",
      "chi-square statistic: 238.92350616407606\n",
      "critical_value: 7.879438576622417\n",
      "p-value: 0.0\n",
      "Reject H0,There is a relationship between 2 categorical variables\n",
      "Reject H0,There is a relationship between 2 categorical variables\n"
     ]
    }
   ],
   "source": [
    "test_dependency(data,'education','y',0.005)"
   ]
  },
  {
   "cell_type": "code",
   "execution_count": 84,
   "metadata": {},
   "outputs": [
    {
     "data": {
      "text/plain": [
       "age           int64\n",
       "job          object\n",
       "marital      object\n",
       "education    object\n",
       "default      object\n",
       "balance       int64\n",
       "housing      object\n",
       "loan         object\n",
       "contact      object\n",
       "day           int64\n",
       "month        object\n",
       "duration      int64\n",
       "campaign      int64\n",
       "pdays         int64\n",
       "previous      int64\n",
       "poutcome     object\n",
       "y            object\n",
       "dtype: object"
      ]
     },
     "execution_count": 84,
     "metadata": {},
     "output_type": "execute_result"
    }
   ],
   "source": [
    "data.dtypes"
   ]
  },
  {
   "cell_type": "markdown",
   "metadata": {},
   "source": [
    "### Computing COrrelataion Co-effcient ( Numerical vs Numerical )"
   ]
  },
  {
   "cell_type": "code",
   "execution_count": 84,
   "metadata": {},
   "outputs": [
    {
     "data": {
      "text/plain": [
       "(45211, 17)"
      ]
     },
     "execution_count": 84,
     "metadata": {},
     "output_type": "execute_result"
    }
   ],
   "source": [
    "data.shape"
   ]
  },
  {
   "cell_type": "markdown",
   "metadata": {},
   "source": [
    "Converting class to a numeric attribute"
   ]
  },
  {
   "cell_type": "code",
   "execution_count": 85,
   "metadata": {},
   "outputs": [
    {
     "data": {
      "text/plain": [
       "array(['no', 'yes'], dtype=object)"
      ]
     },
     "execution_count": 85,
     "metadata": {},
     "output_type": "execute_result"
    }
   ],
   "source": [
    "data['y'].unique()"
   ]
  },
  {
   "cell_type": "code",
   "execution_count": 87,
   "metadata": {},
   "outputs": [
    {
     "data": {
      "text/plain": [
       "<matplotlib.axes._subplots.AxesSubplot at 0x7f32faa19450>"
      ]
     },
     "execution_count": 87,
     "metadata": {},
     "output_type": "execute_result"
    },
    {
     "data": {
      "image/png": "[encoded data removed]",
      "text/plain": [
       "<Figure size 432x288 with 1 Axes>"
      ]
     },
     "metadata": {
      "needs_background": "light"
     },
     "output_type": "display_data"
    }
   ],
   "source": [
    "data['y'].value_counts().plot(kind='bar')"
   ]
  },
  {
   "cell_type": "code",
   "execution_count": 88,
   "metadata": {},
   "outputs": [],
   "source": [
    "data['y']=data['y'].apply(lambda x: 0 if x == 'no' else 1)"
   ]
  },
  {
   "cell_type": "code",
   "execution_count": 89,
   "metadata": {},
   "outputs": [
    {
     "data": {
      "text/plain": [
       "age           int64\n",
       "job          object\n",
       "marital      object\n",
       "education    object\n",
       "default      object\n",
       "balance       int64\n",
       "housing      object\n",
       "loan         object\n",
       "contact      object\n",
       "day           int64\n",
       "month        object\n",
       "duration      int64\n",
       "campaign      int64\n",
       "pdays         int64\n",
       "previous      int64\n",
       "poutcome     object\n",
       "y             int64\n",
       "dtype: object"
      ]
     },
     "execution_count": 89,
     "metadata": {},
     "output_type": "execute_result"
    }
   ],
   "source": [
    "data.dtypes"
   ]
  },
  {
   "cell_type": "code",
   "execution_count": 90,
   "metadata": {},
   "outputs": [
    {
     "name": "stdout",
     "output_type": "stream",
     "text": [
      "y           1.000000\n",
      "duration    0.394521\n",
      "pdays       0.103621\n",
      "previous    0.093236\n",
      "balance     0.052838\n",
      "age         0.025155\n",
      "day        -0.028348\n",
      "campaign   -0.073172\n",
      "Name: y, dtype: float64\n"
     ]
    }
   ],
   "source": [
    "# correlation of class variable y with all other attributes (numeric)\n",
    "matrix = data.corr()\n",
    "print(matrix['y'].sort_values(ascending=False))"
   ]
  },
  {
   "cell_type": "markdown",
   "metadata": {},
   "source": [
    "### Correlation Heatmap"
   ]
  },
  {
   "cell_type": "code",
   "execution_count": 91,
   "metadata": {},
   "outputs": [
    {
     "data": {
      "text/html": [
       "<style  type=\"text/css\" >\n",
       "    #T_7735f218_0d23_11ea_ab5d_b4b676381048row0_col0 {\n",
       "            background-color:  #003c30;\n",
       "        }    #T_7735f218_0d23_11ea_ab5d_b4b676381048row0_col1 {\n",
       "            background-color:  #91560d;\n",
       "        }    #T_7735f218_0d23_11ea_ab5d_b4b676381048row0_col2 {\n",
       "            background-color:  #7e4909;\n",
       "        }    #T_7735f218_0d23_11ea_ab5d_b4b676381048row0_col3 {\n",
       "            background-color:  #7c4709;\n",
       "        }    #T_7735f218_0d23_11ea_ab5d_b4b676381048row0_col4 {\n",
       "            background-color:  #824b09;\n",
       "        }    #T_7735f218_0d23_11ea_ab5d_b4b676381048row0_col5 {\n",
       "            background-color:  #774508;\n",
       "        }    #T_7735f218_0d23_11ea_ab5d_b4b676381048row0_col6 {\n",
       "            background-color:  #6e4007;\n",
       "        }    #T_7735f218_0d23_11ea_ab5d_b4b676381048row0_col7 {\n",
       "            background-color:  #874e0a;\n",
       "        }    #T_7735f218_0d23_11ea_ab5d_b4b676381048row1_col0 {\n",
       "            background-color:  #955910;\n",
       "        }    #T_7735f218_0d23_11ea_ab5d_b4b676381048row1_col1 {\n",
       "            background-color:  #003c30;\n",
       "        }    #T_7735f218_0d23_11ea_ab5d_b4b676381048row1_col2 {\n",
       "            background-color:  #844c09;\n",
       "        }    #T_7735f218_0d23_11ea_ab5d_b4b676381048row1_col3 {\n",
       "            background-color:  #8b500a;\n",
       "        }    #T_7735f218_0d23_11ea_ab5d_b4b676381048row1_col4 {\n",
       "            background-color:  #794608;\n",
       "        }    #T_7735f218_0d23_11ea_ab5d_b4b676381048row1_col5 {\n",
       "            background-color:  #844c09;\n",
       "        }    #T_7735f218_0d23_11ea_ab5d_b4b676381048row1_col6 {\n",
       "            background-color:  #774508;\n",
       "        }    #T_7735f218_0d23_11ea_ab5d_b4b676381048row1_col7 {\n",
       "            background-color:  #955910;\n",
       "        }    #T_7735f218_0d23_11ea_ab5d_b4b676381048row2_col0 {\n",
       "            background-color:  #5b3406;\n",
       "        }    #T_7735f218_0d23_11ea_ab5d_b4b676381048row2_col1 {\n",
       "            background-color:  #5d3506;\n",
       "        }    #T_7735f218_0d23_11ea_ab5d_b4b676381048row2_col2 {\n",
       "            background-color:  #003c30;\n",
       "        }    #T_7735f218_0d23_11ea_ab5d_b4b676381048row2_col3 {\n",
       "            background-color:  #6e4007;\n",
       "        }    #T_7735f218_0d23_11ea_ab5d_b4b676381048row2_col4 {\n",
       "            background-color:  #c99546;\n",
       "        }    #T_7735f218_0d23_11ea_ab5d_b4b676381048row2_col5 {\n",
       "            background-color:  #543005;\n",
       "        }    #T_7735f218_0d23_11ea_ab5d_b4b676381048row2_col6 {\n",
       "            background-color:  #543005;\n",
       "        }    #T_7735f218_0d23_11ea_ab5d_b4b676381048row2_col7 {\n",
       "            background-color:  #6a3d07;\n",
       "        }    #T_7735f218_0d23_11ea_ab5d_b4b676381048row3_col0 {\n",
       "            background-color:  #5d3506;\n",
       "        }    #T_7735f218_0d23_11ea_ab5d_b4b676381048row3_col1 {\n",
       "            background-color:  #683c07;\n",
       "        }    #T_7735f218_0d23_11ea_ab5d_b4b676381048row3_col2 {\n",
       "            background-color:  #734208;\n",
       "        }    #T_7735f218_0d23_11ea_ab5d_b4b676381048row3_col3 {\n",
       "            background-color:  #003c30;\n",
       "        }    #T_7735f218_0d23_11ea_ab5d_b4b676381048row3_col4 {\n",
       "            background-color:  #543005;\n",
       "        }    #T_7735f218_0d23_11ea_ab5d_b4b676381048row3_col5 {\n",
       "            background-color:  #824b09;\n",
       "        }    #T_7735f218_0d23_11ea_ab5d_b4b676381048row3_col6 {\n",
       "            background-color:  #6e4007;\n",
       "        }    #T_7735f218_0d23_11ea_ab5d_b4b676381048row3_col7 {\n",
       "            background-color:  #f6edd5;\n",
       "        }    #T_7735f218_0d23_11ea_ab5d_b4b676381048row4_col0 {\n",
       "            background-color:  #633906;\n",
       "        }    #T_7735f218_0d23_11ea_ab5d_b4b676381048row4_col1 {\n",
       "            background-color:  #543005;\n",
       "        }    #T_7735f218_0d23_11ea_ab5d_b4b676381048row4_col2 {\n",
       "            background-color:  #c99546;\n",
       "        }    #T_7735f218_0d23_11ea_ab5d_b4b676381048row4_col3 {\n",
       "            background-color:  #543005;\n",
       "        }    #T_7735f218_0d23_11ea_ab5d_b4b676381048row4_col4 {\n",
       "            background-color:  #003c30;\n",
       "        }    #T_7735f218_0d23_11ea_ab5d_b4b676381048row4_col5 {\n",
       "            background-color:  #563105;\n",
       "        }    #T_7735f218_0d23_11ea_ab5d_b4b676381048row4_col6 {\n",
       "            background-color:  #5d3506;\n",
       "        }    #T_7735f218_0d23_11ea_ab5d_b4b676381048row4_col7 {\n",
       "            background-color:  #543005;\n",
       "        }    #T_7735f218_0d23_11ea_ab5d_b4b676381048row5_col0 {\n",
       "            background-color:  #543005;\n",
       "        }    #T_7735f218_0d23_11ea_ab5d_b4b676381048row5_col1 {\n",
       "            background-color:  #5d3506;\n",
       "        }    #T_7735f218_0d23_11ea_ab5d_b4b676381048row5_col2 {\n",
       "            background-color:  #543005;\n",
       "        }    #T_7735f218_0d23_11ea_ab5d_b4b676381048row5_col3 {\n",
       "            background-color:  #7e4909;\n",
       "        }    #T_7735f218_0d23_11ea_ab5d_b4b676381048row5_col4 {\n",
       "            background-color:  #543005;\n",
       "        }    #T_7735f218_0d23_11ea_ab5d_b4b676381048row5_col5 {\n",
       "            background-color:  #003c30;\n",
       "        }    #T_7735f218_0d23_11ea_ab5d_b4b676381048row5_col6 {\n",
       "            background-color:  #f5f3ec;\n",
       "        }    #T_7735f218_0d23_11ea_ab5d_b4b676381048row5_col7 {\n",
       "            background-color:  #ad7021;\n",
       "        }    #T_7735f218_0d23_11ea_ab5d_b4b676381048row6_col0 {\n",
       "            background-color:  #613806;\n",
       "        }    #T_7735f218_0d23_11ea_ab5d_b4b676381048row6_col1 {\n",
       "            background-color:  #633906;\n",
       "        }    #T_7735f218_0d23_11ea_ab5d_b4b676381048row6_col2 {\n",
       "            background-color:  #683c07;\n",
       "        }    #T_7735f218_0d23_11ea_ab5d_b4b676381048row6_col3 {\n",
       "            background-color:  #804a09;\n",
       "        }    #T_7735f218_0d23_11ea_ab5d_b4b676381048row6_col4 {\n",
       "            background-color:  #714108;\n",
       "        }    #T_7735f218_0d23_11ea_ab5d_b4b676381048row6_col5 {\n",
       "            background-color:  #f4f5f5;\n",
       "        }    #T_7735f218_0d23_11ea_ab5d_b4b676381048row6_col6 {\n",
       "            background-color:  #003c30;\n",
       "        }    #T_7735f218_0d23_11ea_ab5d_b4b676381048row6_col7 {\n",
       "            background-color:  #a76a1d;\n",
       "        }    #T_7735f218_0d23_11ea_ab5d_b4b676381048row7_col0 {\n",
       "            background-color:  #6e4007;\n",
       "        }    #T_7735f218_0d23_11ea_ab5d_b4b676381048row7_col1 {\n",
       "            background-color:  #794608;\n",
       "        }    #T_7735f218_0d23_11ea_ab5d_b4b676381048row7_col2 {\n",
       "            background-color:  #754308;\n",
       "        }    #T_7735f218_0d23_11ea_ab5d_b4b676381048row7_col3 {\n",
       "            background-color:  #f6eed9;\n",
       "        }    #T_7735f218_0d23_11ea_ab5d_b4b676381048row7_col4 {\n",
       "            background-color:  #5b3406;\n",
       "        }    #T_7735f218_0d23_11ea_ab5d_b4b676381048row7_col5 {\n",
       "            background-color:  #b57826;\n",
       "        }    #T_7735f218_0d23_11ea_ab5d_b4b676381048row7_col6 {\n",
       "            background-color:  #9f6317;\n",
       "        }    #T_7735f218_0d23_11ea_ab5d_b4b676381048row7_col7 {\n",
       "            background-color:  #003c30;\n",
       "        }</style>  \n",
       "<table id=\"T_7735f218_0d23_11ea_ab5d_b4b676381048\" > \n",
       "<thead>    <tr> \n",
       "        <th class=\"blank level0\" ></th> \n",
       "        <th class=\"col_heading level0 col0\" >age</th> \n",
       "        <th class=\"col_heading level0 col1\" >balance</th> \n",
       "        <th class=\"col_heading level0 col2\" >day</th> \n",
       "        <th class=\"col_heading level0 col3\" >duration</th> \n",
       "        <th class=\"col_heading level0 col4\" >campaign</th> \n",
       "        <th class=\"col_heading level0 col5\" >pdays</th> \n",
       "        <th class=\"col_heading level0 col6\" >previous</th> \n",
       "        <th class=\"col_heading level0 col7\" >y</th> \n",
       "    </tr></thead> \n",
       "<tbody>    <tr> \n",
       "        <th id=\"T_7735f218_0d23_11ea_ab5d_b4b676381048level0_row0\" class=\"row_heading level0 row0\" >age</th> \n",
       "        <td id=\"T_7735f218_0d23_11ea_ab5d_b4b676381048row0_col0\" class=\"data row0 col0\" >1</td> \n",
       "        <td id=\"T_7735f218_0d23_11ea_ab5d_b4b676381048row0_col1\" class=\"data row0 col1\" >0.0977827</td> \n",
       "        <td id=\"T_7735f218_0d23_11ea_ab5d_b4b676381048row0_col2\" class=\"data row0 col2\" >-0.00912005</td> \n",
       "        <td id=\"T_7735f218_0d23_11ea_ab5d_b4b676381048row0_col3\" class=\"data row0 col3\" >-0.00464843</td> \n",
       "        <td id=\"T_7735f218_0d23_11ea_ab5d_b4b676381048row0_col4\" class=\"data row0 col4\" >0.00476031</td> \n",
       "        <td id=\"T_7735f218_0d23_11ea_ab5d_b4b676381048row0_col5\" class=\"data row0 col5\" >-0.023758</td> \n",
       "        <td id=\"T_7735f218_0d23_11ea_ab5d_b4b676381048row0_col6\" class=\"data row0 col6\" >0.00128832</td> \n",
       "        <td id=\"T_7735f218_0d23_11ea_ab5d_b4b676381048row0_col7\" class=\"data row0 col7\" >0.025155</td> \n",
       "    </tr>    <tr> \n",
       "        <th id=\"T_7735f218_0d23_11ea_ab5d_b4b676381048level0_row1\" class=\"row_heading level0 row1\" >balance</th> \n",
       "        <td id=\"T_7735f218_0d23_11ea_ab5d_b4b676381048row1_col0\" class=\"data row1 col0\" >0.0977827</td> \n",
       "        <td id=\"T_7735f218_0d23_11ea_ab5d_b4b676381048row1_col1\" class=\"data row1 col1\" >1</td> \n",
       "        <td id=\"T_7735f218_0d23_11ea_ab5d_b4b676381048row1_col2\" class=\"data row1 col2\" >0.00450259</td> \n",
       "        <td id=\"T_7735f218_0d23_11ea_ab5d_b4b676381048row1_col3\" class=\"data row1 col3\" >0.0215604</td> \n",
       "        <td id=\"T_7735f218_0d23_11ea_ab5d_b4b676381048row1_col4\" class=\"data row1 col4\" >-0.0145783</td> \n",
       "        <td id=\"T_7735f218_0d23_11ea_ab5d_b4b676381048row1_col5\" class=\"data row1 col5\" >0.00343532</td> \n",
       "        <td id=\"T_7735f218_0d23_11ea_ab5d_b4b676381048row1_col6\" class=\"data row1 col6\" >0.0166736</td> \n",
       "        <td id=\"T_7735f218_0d23_11ea_ab5d_b4b676381048row1_col7\" class=\"data row1 col7\" >0.0528384</td> \n",
       "    </tr>    <tr> \n",
       "        <th id=\"T_7735f218_0d23_11ea_ab5d_b4b676381048level0_row2\" class=\"row_heading level0 row2\" >day</th> \n",
       "        <td id=\"T_7735f218_0d23_11ea_ab5d_b4b676381048row2_col0\" class=\"data row2 col0\" >-0.00912005</td> \n",
       "        <td id=\"T_7735f218_0d23_11ea_ab5d_b4b676381048row2_col1\" class=\"data row2 col1\" >0.00450259</td> \n",
       "        <td id=\"T_7735f218_0d23_11ea_ab5d_b4b676381048row2_col2\" class=\"data row2 col2\" >1</td> \n",
       "        <td id=\"T_7735f218_0d23_11ea_ab5d_b4b676381048row2_col3\" class=\"data row2 col3\" >-0.0302063</td> \n",
       "        <td id=\"T_7735f218_0d23_11ea_ab5d_b4b676381048row2_col4\" class=\"data row2 col4\" >0.16249</td> \n",
       "        <td id=\"T_7735f218_0d23_11ea_ab5d_b4b676381048row2_col5\" class=\"data row2 col5\" >-0.0930441</td> \n",
       "        <td id=\"T_7735f218_0d23_11ea_ab5d_b4b676381048row2_col6\" class=\"data row2 col6\" >-0.0517105</td> \n",
       "        <td id=\"T_7735f218_0d23_11ea_ab5d_b4b676381048row2_col7\" class=\"data row2 col7\" >-0.0283478</td> \n",
       "    </tr>    <tr> \n",
       "        <th id=\"T_7735f218_0d23_11ea_ab5d_b4b676381048level0_row3\" class=\"row_heading level0 row3\" >duration</th> \n",
       "        <td id=\"T_7735f218_0d23_11ea_ab5d_b4b676381048row3_col0\" class=\"data row3 col0\" >-0.00464843</td> \n",
       "        <td id=\"T_7735f218_0d23_11ea_ab5d_b4b676381048row3_col1\" class=\"data row3 col1\" >0.0215604</td> \n",
       "        <td id=\"T_7735f218_0d23_11ea_ab5d_b4b676381048row3_col2\" class=\"data row3 col2\" >-0.0302063</td> \n",
       "        <td id=\"T_7735f218_0d23_11ea_ab5d_b4b676381048row3_col3\" class=\"data row3 col3\" >1</td> \n",
       "        <td id=\"T_7735f218_0d23_11ea_ab5d_b4b676381048row3_col4\" class=\"data row3 col4\" >-0.0845695</td> \n",
       "        <td id=\"T_7735f218_0d23_11ea_ab5d_b4b676381048row3_col5\" class=\"data row3 col5\" >-0.00156477</td> \n",
       "        <td id=\"T_7735f218_0d23_11ea_ab5d_b4b676381048row3_col6\" class=\"data row3 col6\" >0.00120306</td> \n",
       "        <td id=\"T_7735f218_0d23_11ea_ab5d_b4b676381048row3_col7\" class=\"data row3 col7\" >0.394521</td> \n",
       "    </tr>    <tr> \n",
       "        <th id=\"T_7735f218_0d23_11ea_ab5d_b4b676381048level0_row4\" class=\"row_heading level0 row4\" >campaign</th> \n",
       "        <td id=\"T_7735f218_0d23_11ea_ab5d_b4b676381048row4_col0\" class=\"data row4 col0\" >0.00476031</td> \n",
       "        <td id=\"T_7735f218_0d23_11ea_ab5d_b4b676381048row4_col1\" class=\"data row4 col1\" >-0.0145783</td> \n",
       "        <td id=\"T_7735f218_0d23_11ea_ab5d_b4b676381048row4_col2\" class=\"data row4 col2\" >0.16249</td> \n",
       "        <td id=\"T_7735f218_0d23_11ea_ab5d_b4b676381048row4_col3\" class=\"data row4 col3\" >-0.0845695</td> \n",
       "        <td id=\"T_7735f218_0d23_11ea_ab5d_b4b676381048row4_col4\" class=\"data row4 col4\" >1</td> \n",
       "        <td id=\"T_7735f218_0d23_11ea_ab5d_b4b676381048row4_col5\" class=\"data row4 col5\" >-0.0886277</td> \n",
       "        <td id=\"T_7735f218_0d23_11ea_ab5d_b4b676381048row4_col6\" class=\"data row4 col6\" >-0.0328553</td> \n",
       "        <td id=\"T_7735f218_0d23_11ea_ab5d_b4b676381048row4_col7\" class=\"data row4 col7\" >-0.073172</td> \n",
       "    </tr>    <tr> \n",
       "        <th id=\"T_7735f218_0d23_11ea_ab5d_b4b676381048level0_row5\" class=\"row_heading level0 row5\" >pdays</th> \n",
       "        <td id=\"T_7735f218_0d23_11ea_ab5d_b4b676381048row5_col0\" class=\"data row5 col0\" >-0.023758</td> \n",
       "        <td id=\"T_7735f218_0d23_11ea_ab5d_b4b676381048row5_col1\" class=\"data row5 col1\" >0.00343532</td> \n",
       "        <td id=\"T_7735f218_0d23_11ea_ab5d_b4b676381048row5_col2\" class=\"data row5 col2\" >-0.0930441</td> \n",
       "        <td id=\"T_7735f218_0d23_11ea_ab5d_b4b676381048row5_col3\" class=\"data row5 col3\" >-0.00156477</td> \n",
       "        <td id=\"T_7735f218_0d23_11ea_ab5d_b4b676381048row5_col4\" class=\"data row5 col4\" >-0.0886277</td> \n",
       "        <td id=\"T_7735f218_0d23_11ea_ab5d_b4b676381048row5_col5\" class=\"data row5 col5\" >1</td> \n",
       "        <td id=\"T_7735f218_0d23_11ea_ab5d_b4b676381048row5_col6\" class=\"data row5 col6\" >0.45482</td> \n",
       "        <td id=\"T_7735f218_0d23_11ea_ab5d_b4b676381048row5_col7\" class=\"data row5 col7\" >0.103621</td> \n",
       "    </tr>    <tr> \n",
       "        <th id=\"T_7735f218_0d23_11ea_ab5d_b4b676381048level0_row6\" class=\"row_heading level0 row6\" >previous</th> \n",
       "        <td id=\"T_7735f218_0d23_11ea_ab5d_b4b676381048row6_col0\" class=\"data row6 col0\" >0.00128832</td> \n",
       "        <td id=\"T_7735f218_0d23_11ea_ab5d_b4b676381048row6_col1\" class=\"data row6 col1\" >0.0166736</td> \n",
       "        <td id=\"T_7735f218_0d23_11ea_ab5d_b4b676381048row6_col2\" class=\"data row6 col2\" >-0.0517105</td> \n",
       "        <td id=\"T_7735f218_0d23_11ea_ab5d_b4b676381048row6_col3\" class=\"data row6 col3\" >0.00120306</td> \n",
       "        <td id=\"T_7735f218_0d23_11ea_ab5d_b4b676381048row6_col4\" class=\"data row6 col4\" >-0.0328553</td> \n",
       "        <td id=\"T_7735f218_0d23_11ea_ab5d_b4b676381048row6_col5\" class=\"data row6 col5\" >0.45482</td> \n",
       "        <td id=\"T_7735f218_0d23_11ea_ab5d_b4b676381048row6_col6\" class=\"data row6 col6\" >1</td> \n",
       "        <td id=\"T_7735f218_0d23_11ea_ab5d_b4b676381048row6_col7\" class=\"data row6 col7\" >0.0932358</td> \n",
       "    </tr>    <tr> \n",
       "        <th id=\"T_7735f218_0d23_11ea_ab5d_b4b676381048level0_row7\" class=\"row_heading level0 row7\" >y</th> \n",
       "        <td id=\"T_7735f218_0d23_11ea_ab5d_b4b676381048row7_col0\" class=\"data row7 col0\" >0.025155</td> \n",
       "        <td id=\"T_7735f218_0d23_11ea_ab5d_b4b676381048row7_col1\" class=\"data row7 col1\" >0.0528384</td> \n",
       "        <td id=\"T_7735f218_0d23_11ea_ab5d_b4b676381048row7_col2\" class=\"data row7 col2\" >-0.0283478</td> \n",
       "        <td id=\"T_7735f218_0d23_11ea_ab5d_b4b676381048row7_col3\" class=\"data row7 col3\" >0.394521</td> \n",
       "        <td id=\"T_7735f218_0d23_11ea_ab5d_b4b676381048row7_col4\" class=\"data row7 col4\" >-0.073172</td> \n",
       "        <td id=\"T_7735f218_0d23_11ea_ab5d_b4b676381048row7_col5\" class=\"data row7 col5\" >0.103621</td> \n",
       "        <td id=\"T_7735f218_0d23_11ea_ab5d_b4b676381048row7_col6\" class=\"data row7 col6\" >0.0932358</td> \n",
       "        <td id=\"T_7735f218_0d23_11ea_ab5d_b4b676381048row7_col7\" class=\"data row7 col7\" >1</td> \n",
       "    </tr></tbody> \n",
       "</table> "
      ],
      "text/plain": [
       "<pandas.io.formats.style.Styler at 0x24b0dffb898>"
      ]
     },
     "execution_count": 91,
     "metadata": {},
     "output_type": "execute_result"
    }
   ],
   "source": [
    "corr = data.corr()\n",
    "corr.style.background_gradient(cmap='BrBG')\n",
    "# 'RdBu_r' & 'BrBG' are other good diverging colormaps"
   ]
  },
  {
   "cell_type": "code",
   "execution_count": 92,
   "metadata": {},
   "outputs": [],
   "source": [
    "tab = pd.crosstab(data['duration'],data['y'])"
   ]
  },
  {
   "cell_type": "code",
   "execution_count": 93,
   "metadata": {},
   "outputs": [
    {
     "data": {
      "text/html": [
       "<div>\n",
       "<style scoped>\n",
       "    .dataframe tbody tr th:only-of-type {\n",
       "        vertical-align: middle;\n",
       "    }\n",
       "\n",
       "    .dataframe tbody tr th {\n",
       "        vertical-align: top;\n",
       "    }\n",
       "\n",
       "    .dataframe thead th {\n",
       "        text-align: right;\n",
       "    }\n",
       "</style>\n",
       "<table border=\"1\" class=\"dataframe\">\n",
       "  <thead>\n",
       "    <tr style=\"text-align: right;\">\n",
       "      <th>y</th>\n",
       "      <th>0</th>\n",
       "      <th>1</th>\n",
       "    </tr>\n",
       "    <tr>\n",
       "      <th>duration</th>\n",
       "      <th></th>\n",
       "      <th></th>\n",
       "    </tr>\n",
       "  </thead>\n",
       "  <tbody>\n",
       "    <tr>\n",
       "      <th>0</th>\n",
       "      <td>3</td>\n",
       "      <td>0</td>\n",
       "    </tr>\n",
       "    <tr>\n",
       "      <th>1</th>\n",
       "      <td>2</td>\n",
       "      <td>0</td>\n",
       "    </tr>\n",
       "    <tr>\n",
       "      <th>2</th>\n",
       "      <td>3</td>\n",
       "      <td>0</td>\n",
       "    </tr>\n",
       "    <tr>\n",
       "      <th>3</th>\n",
       "      <td>4</td>\n",
       "      <td>0</td>\n",
       "    </tr>\n",
       "    <tr>\n",
       "      <th>4</th>\n",
       "      <td>15</td>\n",
       "      <td>0</td>\n",
       "    </tr>\n",
       "    <tr>\n",
       "      <th>5</th>\n",
       "      <td>35</td>\n",
       "      <td>0</td>\n",
       "    </tr>\n",
       "    <tr>\n",
       "      <th>6</th>\n",
       "      <td>45</td>\n",
       "      <td>0</td>\n",
       "    </tr>\n",
       "    <tr>\n",
       "      <th>7</th>\n",
       "      <td>73</td>\n",
       "      <td>0</td>\n",
       "    </tr>\n",
       "    <tr>\n",
       "      <th>8</th>\n",
       "      <td>84</td>\n",
       "      <td>1</td>\n",
       "    </tr>\n",
       "    <tr>\n",
       "      <th>9</th>\n",
       "      <td>77</td>\n",
       "      <td>0</td>\n",
       "    </tr>\n",
       "    <tr>\n",
       "      <th>10</th>\n",
       "      <td>76</td>\n",
       "      <td>0</td>\n",
       "    </tr>\n",
       "    <tr>\n",
       "      <th>11</th>\n",
       "      <td>96</td>\n",
       "      <td>1</td>\n",
       "    </tr>\n",
       "    <tr>\n",
       "      <th>12</th>\n",
       "      <td>80</td>\n",
       "      <td>0</td>\n",
       "    </tr>\n",
       "    <tr>\n",
       "      <th>13</th>\n",
       "      <td>88</td>\n",
       "      <td>0</td>\n",
       "    </tr>\n",
       "    <tr>\n",
       "      <th>14</th>\n",
       "      <td>84</td>\n",
       "      <td>0</td>\n",
       "    </tr>\n",
       "    <tr>\n",
       "      <th>15</th>\n",
       "      <td>85</td>\n",
       "      <td>0</td>\n",
       "    </tr>\n",
       "    <tr>\n",
       "      <th>16</th>\n",
       "      <td>88</td>\n",
       "      <td>0</td>\n",
       "    </tr>\n",
       "    <tr>\n",
       "      <th>17</th>\n",
       "      <td>81</td>\n",
       "      <td>0</td>\n",
       "    </tr>\n",
       "    <tr>\n",
       "      <th>18</th>\n",
       "      <td>94</td>\n",
       "      <td>0</td>\n",
       "    </tr>\n",
       "    <tr>\n",
       "      <th>19</th>\n",
       "      <td>71</td>\n",
       "      <td>0</td>\n",
       "    </tr>\n",
       "    <tr>\n",
       "      <th>20</th>\n",
       "      <td>83</td>\n",
       "      <td>0</td>\n",
       "    </tr>\n",
       "    <tr>\n",
       "      <th>21</th>\n",
       "      <td>79</td>\n",
       "      <td>0</td>\n",
       "    </tr>\n",
       "    <tr>\n",
       "      <th>22</th>\n",
       "      <td>87</td>\n",
       "      <td>0</td>\n",
       "    </tr>\n",
       "    <tr>\n",
       "      <th>23</th>\n",
       "      <td>76</td>\n",
       "      <td>1</td>\n",
       "    </tr>\n",
       "    <tr>\n",
       "      <th>24</th>\n",
       "      <td>80</td>\n",
       "      <td>0</td>\n",
       "    </tr>\n",
       "    <tr>\n",
       "      <th>25</th>\n",
       "      <td>78</td>\n",
       "      <td>1</td>\n",
       "    </tr>\n",
       "    <tr>\n",
       "      <th>26</th>\n",
       "      <td>70</td>\n",
       "      <td>0</td>\n",
       "    </tr>\n",
       "    <tr>\n",
       "      <th>27</th>\n",
       "      <td>71</td>\n",
       "      <td>0</td>\n",
       "    </tr>\n",
       "    <tr>\n",
       "      <th>28</th>\n",
       "      <td>55</td>\n",
       "      <td>0</td>\n",
       "    </tr>\n",
       "    <tr>\n",
       "      <th>29</th>\n",
       "      <td>80</td>\n",
       "      <td>0</td>\n",
       "    </tr>\n",
       "    <tr>\n",
       "      <th>...</th>\n",
       "      <td>...</td>\n",
       "      <td>...</td>\n",
       "    </tr>\n",
       "    <tr>\n",
       "      <th>2389</th>\n",
       "      <td>1</td>\n",
       "      <td>0</td>\n",
       "    </tr>\n",
       "    <tr>\n",
       "      <th>2420</th>\n",
       "      <td>0</td>\n",
       "      <td>1</td>\n",
       "    </tr>\n",
       "    <tr>\n",
       "      <th>2429</th>\n",
       "      <td>1</td>\n",
       "      <td>0</td>\n",
       "    </tr>\n",
       "    <tr>\n",
       "      <th>2453</th>\n",
       "      <td>0</td>\n",
       "      <td>1</td>\n",
       "    </tr>\n",
       "    <tr>\n",
       "      <th>2456</th>\n",
       "      <td>0</td>\n",
       "      <td>1</td>\n",
       "    </tr>\n",
       "    <tr>\n",
       "      <th>2462</th>\n",
       "      <td>1</td>\n",
       "      <td>0</td>\n",
       "    </tr>\n",
       "    <tr>\n",
       "      <th>2485</th>\n",
       "      <td>1</td>\n",
       "      <td>0</td>\n",
       "    </tr>\n",
       "    <tr>\n",
       "      <th>2516</th>\n",
       "      <td>0</td>\n",
       "      <td>1</td>\n",
       "    </tr>\n",
       "    <tr>\n",
       "      <th>2621</th>\n",
       "      <td>0</td>\n",
       "      <td>1</td>\n",
       "    </tr>\n",
       "    <tr>\n",
       "      <th>2635</th>\n",
       "      <td>1</td>\n",
       "      <td>0</td>\n",
       "    </tr>\n",
       "    <tr>\n",
       "      <th>2653</th>\n",
       "      <td>0</td>\n",
       "      <td>1</td>\n",
       "    </tr>\n",
       "    <tr>\n",
       "      <th>2692</th>\n",
       "      <td>0</td>\n",
       "      <td>1</td>\n",
       "    </tr>\n",
       "    <tr>\n",
       "      <th>2769</th>\n",
       "      <td>0</td>\n",
       "      <td>1</td>\n",
       "    </tr>\n",
       "    <tr>\n",
       "      <th>2770</th>\n",
       "      <td>0</td>\n",
       "      <td>1</td>\n",
       "    </tr>\n",
       "    <tr>\n",
       "      <th>2775</th>\n",
       "      <td>0</td>\n",
       "      <td>1</td>\n",
       "    </tr>\n",
       "    <tr>\n",
       "      <th>2870</th>\n",
       "      <td>1</td>\n",
       "      <td>0</td>\n",
       "    </tr>\n",
       "    <tr>\n",
       "      <th>3025</th>\n",
       "      <td>1</td>\n",
       "      <td>0</td>\n",
       "    </tr>\n",
       "    <tr>\n",
       "      <th>3076</th>\n",
       "      <td>0</td>\n",
       "      <td>1</td>\n",
       "    </tr>\n",
       "    <tr>\n",
       "      <th>3078</th>\n",
       "      <td>1</td>\n",
       "      <td>0</td>\n",
       "    </tr>\n",
       "    <tr>\n",
       "      <th>3094</th>\n",
       "      <td>0</td>\n",
       "      <td>1</td>\n",
       "    </tr>\n",
       "    <tr>\n",
       "      <th>3102</th>\n",
       "      <td>0</td>\n",
       "      <td>1</td>\n",
       "    </tr>\n",
       "    <tr>\n",
       "      <th>3183</th>\n",
       "      <td>0</td>\n",
       "      <td>1</td>\n",
       "    </tr>\n",
       "    <tr>\n",
       "      <th>3253</th>\n",
       "      <td>0</td>\n",
       "      <td>1</td>\n",
       "    </tr>\n",
       "    <tr>\n",
       "      <th>3284</th>\n",
       "      <td>1</td>\n",
       "      <td>0</td>\n",
       "    </tr>\n",
       "    <tr>\n",
       "      <th>3322</th>\n",
       "      <td>1</td>\n",
       "      <td>0</td>\n",
       "    </tr>\n",
       "    <tr>\n",
       "      <th>3366</th>\n",
       "      <td>1</td>\n",
       "      <td>0</td>\n",
       "    </tr>\n",
       "    <tr>\n",
       "      <th>3422</th>\n",
       "      <td>1</td>\n",
       "      <td>0</td>\n",
       "    </tr>\n",
       "    <tr>\n",
       "      <th>3785</th>\n",
       "      <td>1</td>\n",
       "      <td>0</td>\n",
       "    </tr>\n",
       "    <tr>\n",
       "      <th>3881</th>\n",
       "      <td>0</td>\n",
       "      <td>1</td>\n",
       "    </tr>\n",
       "    <tr>\n",
       "      <th>4918</th>\n",
       "      <td>1</td>\n",
       "      <td>0</td>\n",
       "    </tr>\n",
       "  </tbody>\n",
       "</table>\n",
       "<p>1573 rows × 2 columns</p>\n",
       "</div>"
      ],
      "text/plain": [
       "y          0  1\n",
       "duration       \n",
       "0          3  0\n",
       "1          2  0\n",
       "2          3  0\n",
       "3          4  0\n",
       "4         15  0\n",
       "5         35  0\n",
       "6         45  0\n",
       "7         73  0\n",
       "8         84  1\n",
       "9         77  0\n",
       "10        76  0\n",
       "11        96  1\n",
       "12        80  0\n",
       "13        88  0\n",
       "14        84  0\n",
       "15        85  0\n",
       "16        88  0\n",
       "17        81  0\n",
       "18        94  0\n",
       "19        71  0\n",
       "20        83  0\n",
       "21        79  0\n",
       "22        87  0\n",
       "23        76  1\n",
       "24        80  0\n",
       "25        78  1\n",
       "26        70  0\n",
       "27        71  0\n",
       "28        55  0\n",
       "29        80  0\n",
       "...       .. ..\n",
       "2389       1  0\n",
       "2420       0  1\n",
       "2429       1  0\n",
       "2453       0  1\n",
       "2456       0  1\n",
       "2462       1  0\n",
       "2485       1  0\n",
       "2516       0  1\n",
       "2621       0  1\n",
       "2635       1  0\n",
       "2653       0  1\n",
       "2692       0  1\n",
       "2769       0  1\n",
       "2770       0  1\n",
       "2775       0  1\n",
       "2870       1  0\n",
       "3025       1  0\n",
       "3076       0  1\n",
       "3078       1  0\n",
       "3094       0  1\n",
       "3102       0  1\n",
       "3183       0  1\n",
       "3253       0  1\n",
       "3284       1  0\n",
       "3322       1  0\n",
       "3366       1  0\n",
       "3422       1  0\n",
       "3785       1  0\n",
       "3881       0  1\n",
       "4918       1  0\n",
       "\n",
       "[1573 rows x 2 columns]"
      ]
     },
     "execution_count": 93,
     "metadata": {},
     "output_type": "execute_result"
    }
   ],
   "source": [
    "tab"
   ]
  },
  {
   "cell_type": "markdown",
   "metadata": {},
   "source": [
    "Observation: Highest frequency is of married"
   ]
  },
  {
   "cell_type": "markdown",
   "metadata": {},
   "source": []
  },
  {
   "cell_type": "code",
   "execution_count": 94,
   "metadata": {},
   "outputs": [],
   "source": [
    "data['default']=data['default'].apply(lambda x: 0 if x == 'no'else 1)"
   ]
  },
  {
   "cell_type": "code",
   "execution_count": 95,
   "metadata": {},
   "outputs": [
    {
     "data": {
      "text/plain": [
       "0    44396\n",
       "1      815\n",
       "Name: default, dtype: int64"
      ]
     },
     "execution_count": 95,
     "metadata": {},
     "output_type": "execute_result"
    }
   ],
   "source": [
    "data['default'].value_counts()"
   ]
  },
  {
   "cell_type": "code",
   "execution_count": 96,
   "metadata": {},
   "outputs": [
    {
     "name": "stdout",
     "output_type": "stream",
     "text": [
      "default     1.000000\n",
      "campaign    0.016822\n",
      "day         0.009424\n",
      "duration   -0.010021\n",
      "age        -0.017879\n",
      "previous   -0.018329\n",
      "y          -0.022419\n",
      "pdays      -0.029979\n",
      "balance    -0.066745\n",
      "Name: default, dtype: float64\n"
     ]
    }
   ],
   "source": [
    "corr_matrix = data.corr()\n",
    "print(corr_matrix[\"default\"].sort_values(ascending=False))"
   ]
  },
  {
   "cell_type": "code",
   "execution_count": 97,
   "metadata": {},
   "outputs": [
    {
     "data": {
      "text/html": [
       "<style  type=\"text/css\" >\n",
       "    #T_79e01c6e_0d23_11ea_b5eb_b4b676381048row0_col0 {\n",
       "            background-color:  #003c30;\n",
       "        }    #T_79e01c6e_0d23_11ea_b5eb_b4b676381048row0_col1 {\n",
       "            background-color:  #91560d;\n",
       "        }    #T_79e01c6e_0d23_11ea_b5eb_b4b676381048row0_col2 {\n",
       "            background-color:  #7e4909;\n",
       "        }    #T_79e01c6e_0d23_11ea_b5eb_b4b676381048row0_col3 {\n",
       "            background-color:  #7c4709;\n",
       "        }    #T_79e01c6e_0d23_11ea_b5eb_b4b676381048row0_col4 {\n",
       "            background-color:  #824b09;\n",
       "        }    #T_79e01c6e_0d23_11ea_b5eb_b4b676381048row0_col5 {\n",
       "            background-color:  #774508;\n",
       "        }    #T_79e01c6e_0d23_11ea_b5eb_b4b676381048row0_col6 {\n",
       "            background-color:  #6e4007;\n",
       "        }    #T_79e01c6e_0d23_11ea_b5eb_b4b676381048row0_col7 {\n",
       "            background-color:  #874e0a;\n",
       "        }    #T_79e01c6e_0d23_11ea_b5eb_b4b676381048row1_col0 {\n",
       "            background-color:  #955910;\n",
       "        }    #T_79e01c6e_0d23_11ea_b5eb_b4b676381048row1_col1 {\n",
       "            background-color:  #003c30;\n",
       "        }    #T_79e01c6e_0d23_11ea_b5eb_b4b676381048row1_col2 {\n",
       "            background-color:  #844c09;\n",
       "        }    #T_79e01c6e_0d23_11ea_b5eb_b4b676381048row1_col3 {\n",
       "            background-color:  #8b500a;\n",
       "        }    #T_79e01c6e_0d23_11ea_b5eb_b4b676381048row1_col4 {\n",
       "            background-color:  #794608;\n",
       "        }    #T_79e01c6e_0d23_11ea_b5eb_b4b676381048row1_col5 {\n",
       "            background-color:  #844c09;\n",
       "        }    #T_79e01c6e_0d23_11ea_b5eb_b4b676381048row1_col6 {\n",
       "            background-color:  #774508;\n",
       "        }    #T_79e01c6e_0d23_11ea_b5eb_b4b676381048row1_col7 {\n",
       "            background-color:  #955910;\n",
       "        }    #T_79e01c6e_0d23_11ea_b5eb_b4b676381048row2_col0 {\n",
       "            background-color:  #5b3406;\n",
       "        }    #T_79e01c6e_0d23_11ea_b5eb_b4b676381048row2_col1 {\n",
       "            background-color:  #5d3506;\n",
       "        }    #T_79e01c6e_0d23_11ea_b5eb_b4b676381048row2_col2 {\n",
       "            background-color:  #003c30;\n",
       "        }    #T_79e01c6e_0d23_11ea_b5eb_b4b676381048row2_col3 {\n",
       "            background-color:  #6e4007;\n",
       "        }    #T_79e01c6e_0d23_11ea_b5eb_b4b676381048row2_col4 {\n",
       "            background-color:  #c99546;\n",
       "        }    #T_79e01c6e_0d23_11ea_b5eb_b4b676381048row2_col5 {\n",
       "            background-color:  #543005;\n",
       "        }    #T_79e01c6e_0d23_11ea_b5eb_b4b676381048row2_col6 {\n",
       "            background-color:  #543005;\n",
       "        }    #T_79e01c6e_0d23_11ea_b5eb_b4b676381048row2_col7 {\n",
       "            background-color:  #6a3d07;\n",
       "        }    #T_79e01c6e_0d23_11ea_b5eb_b4b676381048row3_col0 {\n",
       "            background-color:  #5d3506;\n",
       "        }    #T_79e01c6e_0d23_11ea_b5eb_b4b676381048row3_col1 {\n",
       "            background-color:  #683c07;\n",
       "        }    #T_79e01c6e_0d23_11ea_b5eb_b4b676381048row3_col2 {\n",
       "            background-color:  #734208;\n",
       "        }    #T_79e01c6e_0d23_11ea_b5eb_b4b676381048row3_col3 {\n",
       "            background-color:  #003c30;\n",
       "        }    #T_79e01c6e_0d23_11ea_b5eb_b4b676381048row3_col4 {\n",
       "            background-color:  #543005;\n",
       "        }    #T_79e01c6e_0d23_11ea_b5eb_b4b676381048row3_col5 {\n",
       "            background-color:  #824b09;\n",
       "        }    #T_79e01c6e_0d23_11ea_b5eb_b4b676381048row3_col6 {\n",
       "            background-color:  #6e4007;\n",
       "        }    #T_79e01c6e_0d23_11ea_b5eb_b4b676381048row3_col7 {\n",
       "            background-color:  #f6edd5;\n",
       "        }    #T_79e01c6e_0d23_11ea_b5eb_b4b676381048row4_col0 {\n",
       "            background-color:  #633906;\n",
       "        }    #T_79e01c6e_0d23_11ea_b5eb_b4b676381048row4_col1 {\n",
       "            background-color:  #543005;\n",
       "        }    #T_79e01c6e_0d23_11ea_b5eb_b4b676381048row4_col2 {\n",
       "            background-color:  #c99546;\n",
       "        }    #T_79e01c6e_0d23_11ea_b5eb_b4b676381048row4_col3 {\n",
       "            background-color:  #543005;\n",
       "        }    #T_79e01c6e_0d23_11ea_b5eb_b4b676381048row4_col4 {\n",
       "            background-color:  #003c30;\n",
       "        }    #T_79e01c6e_0d23_11ea_b5eb_b4b676381048row4_col5 {\n",
       "            background-color:  #563105;\n",
       "        }    #T_79e01c6e_0d23_11ea_b5eb_b4b676381048row4_col6 {\n",
       "            background-color:  #5d3506;\n",
       "        }    #T_79e01c6e_0d23_11ea_b5eb_b4b676381048row4_col7 {\n",
       "            background-color:  #543005;\n",
       "        }    #T_79e01c6e_0d23_11ea_b5eb_b4b676381048row5_col0 {\n",
       "            background-color:  #543005;\n",
       "        }    #T_79e01c6e_0d23_11ea_b5eb_b4b676381048row5_col1 {\n",
       "            background-color:  #5d3506;\n",
       "        }    #T_79e01c6e_0d23_11ea_b5eb_b4b676381048row5_col2 {\n",
       "            background-color:  #543005;\n",
       "        }    #T_79e01c6e_0d23_11ea_b5eb_b4b676381048row5_col3 {\n",
       "            background-color:  #7e4909;\n",
       "        }    #T_79e01c6e_0d23_11ea_b5eb_b4b676381048row5_col4 {\n",
       "            background-color:  #543005;\n",
       "        }    #T_79e01c6e_0d23_11ea_b5eb_b4b676381048row5_col5 {\n",
       "            background-color:  #003c30;\n",
       "        }    #T_79e01c6e_0d23_11ea_b5eb_b4b676381048row5_col6 {\n",
       "            background-color:  #f5f3ec;\n",
       "        }    #T_79e01c6e_0d23_11ea_b5eb_b4b676381048row5_col7 {\n",
       "            background-color:  #ad7021;\n",
       "        }    #T_79e01c6e_0d23_11ea_b5eb_b4b676381048row6_col0 {\n",
       "            background-color:  #613806;\n",
       "        }    #T_79e01c6e_0d23_11ea_b5eb_b4b676381048row6_col1 {\n",
       "            background-color:  #633906;\n",
       "        }    #T_79e01c6e_0d23_11ea_b5eb_b4b676381048row6_col2 {\n",
       "            background-color:  #683c07;\n",
       "        }    #T_79e01c6e_0d23_11ea_b5eb_b4b676381048row6_col3 {\n",
       "            background-color:  #804a09;\n",
       "        }    #T_79e01c6e_0d23_11ea_b5eb_b4b676381048row6_col4 {\n",
       "            background-color:  #714108;\n",
       "        }    #T_79e01c6e_0d23_11ea_b5eb_b4b676381048row6_col5 {\n",
       "            background-color:  #f4f5f5;\n",
       "        }    #T_79e01c6e_0d23_11ea_b5eb_b4b676381048row6_col6 {\n",
       "            background-color:  #003c30;\n",
       "        }    #T_79e01c6e_0d23_11ea_b5eb_b4b676381048row6_col7 {\n",
       "            background-color:  #a76a1d;\n",
       "        }    #T_79e01c6e_0d23_11ea_b5eb_b4b676381048row7_col0 {\n",
       "            background-color:  #6e4007;\n",
       "        }    #T_79e01c6e_0d23_11ea_b5eb_b4b676381048row7_col1 {\n",
       "            background-color:  #794608;\n",
       "        }    #T_79e01c6e_0d23_11ea_b5eb_b4b676381048row7_col2 {\n",
       "            background-color:  #754308;\n",
       "        }    #T_79e01c6e_0d23_11ea_b5eb_b4b676381048row7_col3 {\n",
       "            background-color:  #f6eed9;\n",
       "        }    #T_79e01c6e_0d23_11ea_b5eb_b4b676381048row7_col4 {\n",
       "            background-color:  #5b3406;\n",
       "        }    #T_79e01c6e_0d23_11ea_b5eb_b4b676381048row7_col5 {\n",
       "            background-color:  #b57826;\n",
       "        }    #T_79e01c6e_0d23_11ea_b5eb_b4b676381048row7_col6 {\n",
       "            background-color:  #9f6317;\n",
       "        }    #T_79e01c6e_0d23_11ea_b5eb_b4b676381048row7_col7 {\n",
       "            background-color:  #003c30;\n",
       "        }</style>  \n",
       "<table id=\"T_79e01c6e_0d23_11ea_b5eb_b4b676381048\" > \n",
       "<thead>    <tr> \n",
       "        <th class=\"blank level0\" ></th> \n",
       "        <th class=\"col_heading level0 col0\" >age</th> \n",
       "        <th class=\"col_heading level0 col1\" >balance</th> \n",
       "        <th class=\"col_heading level0 col2\" >day</th> \n",
       "        <th class=\"col_heading level0 col3\" >duration</th> \n",
       "        <th class=\"col_heading level0 col4\" >campaign</th> \n",
       "        <th class=\"col_heading level0 col5\" >pdays</th> \n",
       "        <th class=\"col_heading level0 col6\" >previous</th> \n",
       "        <th class=\"col_heading level0 col7\" >y</th> \n",
       "    </tr></thead> \n",
       "<tbody>    <tr> \n",
       "        <th id=\"T_79e01c6e_0d23_11ea_b5eb_b4b676381048level0_row0\" class=\"row_heading level0 row0\" >age</th> \n",
       "        <td id=\"T_79e01c6e_0d23_11ea_b5eb_b4b676381048row0_col0\" class=\"data row0 col0\" >1</td> \n",
       "        <td id=\"T_79e01c6e_0d23_11ea_b5eb_b4b676381048row0_col1\" class=\"data row0 col1\" >0.0977827</td> \n",
       "        <td id=\"T_79e01c6e_0d23_11ea_b5eb_b4b676381048row0_col2\" class=\"data row0 col2\" >-0.00912005</td> \n",
       "        <td id=\"T_79e01c6e_0d23_11ea_b5eb_b4b676381048row0_col3\" class=\"data row0 col3\" >-0.00464843</td> \n",
       "        <td id=\"T_79e01c6e_0d23_11ea_b5eb_b4b676381048row0_col4\" class=\"data row0 col4\" >0.00476031</td> \n",
       "        <td id=\"T_79e01c6e_0d23_11ea_b5eb_b4b676381048row0_col5\" class=\"data row0 col5\" >-0.023758</td> \n",
       "        <td id=\"T_79e01c6e_0d23_11ea_b5eb_b4b676381048row0_col6\" class=\"data row0 col6\" >0.00128832</td> \n",
       "        <td id=\"T_79e01c6e_0d23_11ea_b5eb_b4b676381048row0_col7\" class=\"data row0 col7\" >0.025155</td> \n",
       "    </tr>    <tr> \n",
       "        <th id=\"T_79e01c6e_0d23_11ea_b5eb_b4b676381048level0_row1\" class=\"row_heading level0 row1\" >balance</th> \n",
       "        <td id=\"T_79e01c6e_0d23_11ea_b5eb_b4b676381048row1_col0\" class=\"data row1 col0\" >0.0977827</td> \n",
       "        <td id=\"T_79e01c6e_0d23_11ea_b5eb_b4b676381048row1_col1\" class=\"data row1 col1\" >1</td> \n",
       "        <td id=\"T_79e01c6e_0d23_11ea_b5eb_b4b676381048row1_col2\" class=\"data row1 col2\" >0.00450259</td> \n",
       "        <td id=\"T_79e01c6e_0d23_11ea_b5eb_b4b676381048row1_col3\" class=\"data row1 col3\" >0.0215604</td> \n",
       "        <td id=\"T_79e01c6e_0d23_11ea_b5eb_b4b676381048row1_col4\" class=\"data row1 col4\" >-0.0145783</td> \n",
       "        <td id=\"T_79e01c6e_0d23_11ea_b5eb_b4b676381048row1_col5\" class=\"data row1 col5\" >0.00343532</td> \n",
       "        <td id=\"T_79e01c6e_0d23_11ea_b5eb_b4b676381048row1_col6\" class=\"data row1 col6\" >0.0166736</td> \n",
       "        <td id=\"T_79e01c6e_0d23_11ea_b5eb_b4b676381048row1_col7\" class=\"data row1 col7\" >0.0528384</td> \n",
       "    </tr>    <tr> \n",
       "        <th id=\"T_79e01c6e_0d23_11ea_b5eb_b4b676381048level0_row2\" class=\"row_heading level0 row2\" >day</th> \n",
       "        <td id=\"T_79e01c6e_0d23_11ea_b5eb_b4b676381048row2_col0\" class=\"data row2 col0\" >-0.00912005</td> \n",
       "        <td id=\"T_79e01c6e_0d23_11ea_b5eb_b4b676381048row2_col1\" class=\"data row2 col1\" >0.00450259</td> \n",
       "        <td id=\"T_79e01c6e_0d23_11ea_b5eb_b4b676381048row2_col2\" class=\"data row2 col2\" >1</td> \n",
       "        <td id=\"T_79e01c6e_0d23_11ea_b5eb_b4b676381048row2_col3\" class=\"data row2 col3\" >-0.0302063</td> \n",
       "        <td id=\"T_79e01c6e_0d23_11ea_b5eb_b4b676381048row2_col4\" class=\"data row2 col4\" >0.16249</td> \n",
       "        <td id=\"T_79e01c6e_0d23_11ea_b5eb_b4b676381048row2_col5\" class=\"data row2 col5\" >-0.0930441</td> \n",
       "        <td id=\"T_79e01c6e_0d23_11ea_b5eb_b4b676381048row2_col6\" class=\"data row2 col6\" >-0.0517105</td> \n",
       "        <td id=\"T_79e01c6e_0d23_11ea_b5eb_b4b676381048row2_col7\" class=\"data row2 col7\" >-0.0283478</td> \n",
       "    </tr>    <tr> \n",
       "        <th id=\"T_79e01c6e_0d23_11ea_b5eb_b4b676381048level0_row3\" class=\"row_heading level0 row3\" >duration</th> \n",
       "        <td id=\"T_79e01c6e_0d23_11ea_b5eb_b4b676381048row3_col0\" class=\"data row3 col0\" >-0.00464843</td> \n",
       "        <td id=\"T_79e01c6e_0d23_11ea_b5eb_b4b676381048row3_col1\" class=\"data row3 col1\" >0.0215604</td> \n",
       "        <td id=\"T_79e01c6e_0d23_11ea_b5eb_b4b676381048row3_col2\" class=\"data row3 col2\" >-0.0302063</td> \n",
       "        <td id=\"T_79e01c6e_0d23_11ea_b5eb_b4b676381048row3_col3\" class=\"data row3 col3\" >1</td> \n",
       "        <td id=\"T_79e01c6e_0d23_11ea_b5eb_b4b676381048row3_col4\" class=\"data row3 col4\" >-0.0845695</td> \n",
       "        <td id=\"T_79e01c6e_0d23_11ea_b5eb_b4b676381048row3_col5\" class=\"data row3 col5\" >-0.00156477</td> \n",
       "        <td id=\"T_79e01c6e_0d23_11ea_b5eb_b4b676381048row3_col6\" class=\"data row3 col6\" >0.00120306</td> \n",
       "        <td id=\"T_79e01c6e_0d23_11ea_b5eb_b4b676381048row3_col7\" class=\"data row3 col7\" >0.394521</td> \n",
       "    </tr>    <tr> \n",
       "        <th id=\"T_79e01c6e_0d23_11ea_b5eb_b4b676381048level0_row4\" class=\"row_heading level0 row4\" >campaign</th> \n",
       "        <td id=\"T_79e01c6e_0d23_11ea_b5eb_b4b676381048row4_col0\" class=\"data row4 col0\" >0.00476031</td> \n",
       "        <td id=\"T_79e01c6e_0d23_11ea_b5eb_b4b676381048row4_col1\" class=\"data row4 col1\" >-0.0145783</td> \n",
       "        <td id=\"T_79e01c6e_0d23_11ea_b5eb_b4b676381048row4_col2\" class=\"data row4 col2\" >0.16249</td> \n",
       "        <td id=\"T_79e01c6e_0d23_11ea_b5eb_b4b676381048row4_col3\" class=\"data row4 col3\" >-0.0845695</td> \n",
       "        <td id=\"T_79e01c6e_0d23_11ea_b5eb_b4b676381048row4_col4\" class=\"data row4 col4\" >1</td> \n",
       "        <td id=\"T_79e01c6e_0d23_11ea_b5eb_b4b676381048row4_col5\" class=\"data row4 col5\" >-0.0886277</td> \n",
       "        <td id=\"T_79e01c6e_0d23_11ea_b5eb_b4b676381048row4_col6\" class=\"data row4 col6\" >-0.0328553</td> \n",
       "        <td id=\"T_79e01c6e_0d23_11ea_b5eb_b4b676381048row4_col7\" class=\"data row4 col7\" >-0.073172</td> \n",
       "    </tr>    <tr> \n",
       "        <th id=\"T_79e01c6e_0d23_11ea_b5eb_b4b676381048level0_row5\" class=\"row_heading level0 row5\" >pdays</th> \n",
       "        <td id=\"T_79e01c6e_0d23_11ea_b5eb_b4b676381048row5_col0\" class=\"data row5 col0\" >-0.023758</td> \n",
       "        <td id=\"T_79e01c6e_0d23_11ea_b5eb_b4b676381048row5_col1\" class=\"data row5 col1\" >0.00343532</td> \n",
       "        <td id=\"T_79e01c6e_0d23_11ea_b5eb_b4b676381048row5_col2\" class=\"data row5 col2\" >-0.0930441</td> \n",
       "        <td id=\"T_79e01c6e_0d23_11ea_b5eb_b4b676381048row5_col3\" class=\"data row5 col3\" >-0.00156477</td> \n",
       "        <td id=\"T_79e01c6e_0d23_11ea_b5eb_b4b676381048row5_col4\" class=\"data row5 col4\" >-0.0886277</td> \n",
       "        <td id=\"T_79e01c6e_0d23_11ea_b5eb_b4b676381048row5_col5\" class=\"data row5 col5\" >1</td> \n",
       "        <td id=\"T_79e01c6e_0d23_11ea_b5eb_b4b676381048row5_col6\" class=\"data row5 col6\" >0.45482</td> \n",
       "        <td id=\"T_79e01c6e_0d23_11ea_b5eb_b4b676381048row5_col7\" class=\"data row5 col7\" >0.103621</td> \n",
       "    </tr>    <tr> \n",
       "        <th id=\"T_79e01c6e_0d23_11ea_b5eb_b4b676381048level0_row6\" class=\"row_heading level0 row6\" >previous</th> \n",
       "        <td id=\"T_79e01c6e_0d23_11ea_b5eb_b4b676381048row6_col0\" class=\"data row6 col0\" >0.00128832</td> \n",
       "        <td id=\"T_79e01c6e_0d23_11ea_b5eb_b4b676381048row6_col1\" class=\"data row6 col1\" >0.0166736</td> \n",
       "        <td id=\"T_79e01c6e_0d23_11ea_b5eb_b4b676381048row6_col2\" class=\"data row6 col2\" >-0.0517105</td> \n",
       "        <td id=\"T_79e01c6e_0d23_11ea_b5eb_b4b676381048row6_col3\" class=\"data row6 col3\" >0.00120306</td> \n",
       "        <td id=\"T_79e01c6e_0d23_11ea_b5eb_b4b676381048row6_col4\" class=\"data row6 col4\" >-0.0328553</td> \n",
       "        <td id=\"T_79e01c6e_0d23_11ea_b5eb_b4b676381048row6_col5\" class=\"data row6 col5\" >0.45482</td> \n",
       "        <td id=\"T_79e01c6e_0d23_11ea_b5eb_b4b676381048row6_col6\" class=\"data row6 col6\" >1</td> \n",
       "        <td id=\"T_79e01c6e_0d23_11ea_b5eb_b4b676381048row6_col7\" class=\"data row6 col7\" >0.0932358</td> \n",
       "    </tr>    <tr> \n",
       "        <th id=\"T_79e01c6e_0d23_11ea_b5eb_b4b676381048level0_row7\" class=\"row_heading level0 row7\" >y</th> \n",
       "        <td id=\"T_79e01c6e_0d23_11ea_b5eb_b4b676381048row7_col0\" class=\"data row7 col0\" >0.025155</td> \n",
       "        <td id=\"T_79e01c6e_0d23_11ea_b5eb_b4b676381048row7_col1\" class=\"data row7 col1\" >0.0528384</td> \n",
       "        <td id=\"T_79e01c6e_0d23_11ea_b5eb_b4b676381048row7_col2\" class=\"data row7 col2\" >-0.0283478</td> \n",
       "        <td id=\"T_79e01c6e_0d23_11ea_b5eb_b4b676381048row7_col3\" class=\"data row7 col3\" >0.394521</td> \n",
       "        <td id=\"T_79e01c6e_0d23_11ea_b5eb_b4b676381048row7_col4\" class=\"data row7 col4\" >-0.073172</td> \n",
       "        <td id=\"T_79e01c6e_0d23_11ea_b5eb_b4b676381048row7_col5\" class=\"data row7 col5\" >0.103621</td> \n",
       "        <td id=\"T_79e01c6e_0d23_11ea_b5eb_b4b676381048row7_col6\" class=\"data row7 col6\" >0.0932358</td> \n",
       "        <td id=\"T_79e01c6e_0d23_11ea_b5eb_b4b676381048row7_col7\" class=\"data row7 col7\" >1</td> \n",
       "    </tr></tbody> \n",
       "</table> "
      ],
      "text/plain": [
       "<pandas.io.formats.style.Styler at 0x24b0e694b70>"
      ]
     },
     "execution_count": 97,
     "metadata": {},
     "output_type": "execute_result"
    }
   ],
   "source": [
    "corr_matrix = data.corr()\n",
    "corr.style.background_gradient(cmap='BrBG')\n",
    "# 'RdBu_r' & 'BrBG' are other good diverging colormaps"
   ]
  },
  {
   "cell_type": "markdown",
   "metadata": {},
   "source": [
    "#### Correlation between Categorical-Numerical"
   ]
  },
  {
   "cell_type": "raw",
   "metadata": {},
   "source": [
    "stats.f_oneway(df['y'],df['age'])"
   ]
  },
  {
   "cell_type": "raw",
   "metadata": {},
   "source": [
    "stats.f_oneway(df['y'],df['duration'])"
   ]
  },
  {
   "cell_type": "raw",
   "metadata": {},
   "source": [
    "stats.f_oneway(df['duration'],df['y'])"
   ]
  },
  {
   "cell_type": "code",
   "execution_count": null,
   "metadata": {},
   "outputs": [],
   "source": []
  },
  {
   "cell_type": "code",
   "execution_count": null,
   "metadata": {},
   "outputs": [],
   "source": []
  }
 ],
 "metadata": {
  "kernelspec": {
   "display_name": "Python 3",
   "language": "python",
   "name": "python3"
  },
  "language_info": {
   "codemirror_mode": {
    "name": "ipython",
    "version": 3
   },
   "file_extension": ".py",
   "mimetype": "text/x-python",
   "name": "python",
   "nbconvert_exporter": "python",
   "pygments_lexer": "ipython3",
   "version": "3.7.4"
  }
 },
 "nbformat": 4,
 "nbformat_minor": 2
}
