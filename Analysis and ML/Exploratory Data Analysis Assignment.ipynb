{
 "cells": [
  {
   "cell_type": "code",
   "execution_count": 1,
   "metadata": {},
   "outputs": [],
   "source": [
    "import pandas as pd\n",
    "import numpy as np\n",
    "import re"
   ]
  },
  {
   "cell_type": "code",
   "execution_count": 2,
   "metadata": {},
   "outputs": [],
   "source": [
    "data=pd.read_csv(\"Data/Sales.Dirty.csv\",dtype={\"Order ID\":\"object\"})"
   ]
  },
  {
   "cell_type": "code",
   "execution_count": 3,
   "metadata": {},
   "outputs": [
    {
     "data": {
      "text/html": [
       "<div>\n",
       "<style scoped>\n",
       "    .dataframe tbody tr th:only-of-type {\n",
       "        vertical-align: middle;\n",
       "    }\n",
       "\n",
       "    .dataframe tbody tr th {\n",
       "        vertical-align: top;\n",
       "    }\n",
       "\n",
       "    .dataframe thead th {\n",
       "        text-align: right;\n",
       "    }\n",
       "</style>\n",
       "<table border=\"1\" class=\"dataframe\">\n",
       "  <thead>\n",
       "    <tr style=\"text-align: right;\">\n",
       "      <th></th>\n",
       "      <th>Order ID</th>\n",
       "      <th>Order Date</th>\n",
       "      <th>Order Priority</th>\n",
       "      <th>Order Quantity</th>\n",
       "      <th>Sales</th>\n",
       "      <th>Discount</th>\n",
       "      <th>Ship Mode</th>\n",
       "      <th>Profit</th>\n",
       "      <th>Unit Price</th>\n",
       "      <th>Shipping Cost</th>\n",
       "      <th>Customer Name</th>\n",
       "      <th>Province</th>\n",
       "      <th>Region</th>\n",
       "      <th>Customer Segment</th>\n",
       "      <th>Product Category</th>\n",
       "      <th>Product Sub-Category</th>\n",
       "      <th>Product Name</th>\n",
       "      <th>Product Container</th>\n",
       "      <th>Ship Date</th>\n",
       "    </tr>\n",
       "  </thead>\n",
       "  <tbody>\n",
       "    <tr>\n",
       "      <th>0</th>\n",
       "      <td>3</td>\n",
       "      <td>Male</td>\n",
       "      <td>Low</td>\n",
       "      <td>6</td>\n",
       "      <td>261.54</td>\n",
       "      <td>0.04</td>\n",
       "      <td>Regular Air</td>\n",
       "      <td>-213.25</td>\n",
       "      <td>38.94</td>\n",
       "      <td>35</td>\n",
       "      <td>25000</td>\n",
       "      <td>Nunavut</td>\n",
       "      <td>Nunavut</td>\n",
       "      <td>Small Business</td>\n",
       "      <td>Office Supplies</td>\n",
       "      <td>Storage &amp; Organization</td>\n",
       "      <td>Eldon Base for stackable storage shelf, platinum</td>\n",
       "      <td>Large Box</td>\n",
       "      <td>#VALUE!</td>\n",
       "    </tr>\n",
       "    <tr>\n",
       "      <th>1</th>\n",
       "      <td>293</td>\n",
       "      <td>10/1/2012</td>\n",
       "      <td>High</td>\n",
       "      <td>49</td>\n",
       "      <td>10123.02</td>\n",
       "      <td>0.07</td>\n",
       "      <td>Delivery Truck</td>\n",
       "      <td>457.81</td>\n",
       "      <td>208.16</td>\n",
       "      <td>68.02</td>\n",
       "      <td>Barry French</td>\n",
       "      <td>Nunavut</td>\n",
       "      <td>Nunavut</td>\n",
       "      <td>Consumer</td>\n",
       "      <td>Office Supplies</td>\n",
       "      <td>Appliances</td>\n",
       "      <td>1.7 Cubic Foot Compact \"Cube\" Office Refrigera...</td>\n",
       "      <td>Jumbo Drum</td>\n",
       "      <td>10/2/2012</td>\n",
       "    </tr>\n",
       "    <tr>\n",
       "      <th>2</th>\n",
       "      <td>293</td>\n",
       "      <td>10/1/2012</td>\n",
       "      <td>High</td>\n",
       "      <td>27</td>\n",
       "      <td>244.57</td>\n",
       "      <td>0.01</td>\n",
       "      <td>Regular Air</td>\n",
       "      <td>46.71</td>\n",
       "      <td>8.69</td>\n",
       "      <td>2.99</td>\n",
       "      <td>Barry French</td>\n",
       "      <td>Nunavut</td>\n",
       "      <td>Nunavut</td>\n",
       "      <td>Consumer</td>\n",
       "      <td>Office Supplies</td>\n",
       "      <td>Binders and Binder Accessories</td>\n",
       "      <td>Cardinal Slant-D® Ring Binder, Heavy Gauge Vinyl</td>\n",
       "      <td>Small Box</td>\n",
       "      <td>10/3/2012</td>\n",
       "    </tr>\n",
       "    <tr>\n",
       "      <th>3</th>\n",
       "      <td>483</td>\n",
       "      <td>7/10/2011</td>\n",
       "      <td>High</td>\n",
       "      <td>NaN</td>\n",
       "      <td>4965.7595</td>\n",
       "      <td>0.08</td>\n",
       "      <td>Regular Air</td>\n",
       "      <td>1198.97</td>\n",
       "      <td>195.99</td>\n",
       "      <td>3.99</td>\n",
       "      <td>Clay Rozendal</td>\n",
       "      <td>Nunavut</td>\n",
       "      <td>Nunavut</td>\n",
       "      <td>Corporate</td>\n",
       "      <td>Technology</td>\n",
       "      <td>Telephones and Communication</td>\n",
       "      <td>R380</td>\n",
       "      <td>Small Box</td>\n",
       "      <td>7/12/2011</td>\n",
       "    </tr>\n",
       "    <tr>\n",
       "      <th>4</th>\n",
       "      <td>515</td>\n",
       "      <td>8/28/2010</td>\n",
       "      <td>Not Specified</td>\n",
       "      <td>19</td>\n",
       "      <td>394.27</td>\n",
       "      <td>0.08</td>\n",
       "      <td>Regular Air</td>\n",
       "      <td>30.94</td>\n",
       "      <td>21.78</td>\n",
       "      <td>5.94</td>\n",
       "      <td>Carlos Soltero</td>\n",
       "      <td>Nunavut</td>\n",
       "      <td>Nunavut</td>\n",
       "      <td>Consumer</td>\n",
       "      <td>Office Supplies</td>\n",
       "      <td>Appliances</td>\n",
       "      <td>Holmes HEPA Air Purifier</td>\n",
       "      <td>Medium Box</td>\n",
       "      <td>8/30/2010</td>\n",
       "    </tr>\n",
       "  </tbody>\n",
       "</table>\n",
       "</div>"
      ],
      "text/plain": [
       "  Order ID Order Date Order Priority Order Quantity      Sales  Discount  \\\n",
       "0        3       Male            Low              6     261.54      0.04   \n",
       "1      293  10/1/2012           High             49   10123.02      0.07   \n",
       "2      293  10/1/2012           High             27     244.57      0.01   \n",
       "3      483  7/10/2011           High            NaN  4965.7595      0.08   \n",
       "4      515  8/28/2010  Not Specified             19     394.27      0.08   \n",
       "\n",
       "        Ship Mode   Profit  Unit Price Shipping Cost   Customer Name Province  \\\n",
       "0     Regular Air  -213.25       38.94            35           25000  Nunavut   \n",
       "1  Delivery Truck   457.81      208.16         68.02    Barry French  Nunavut   \n",
       "2     Regular Air    46.71        8.69          2.99    Barry French  Nunavut   \n",
       "3     Regular Air  1198.97      195.99          3.99   Clay Rozendal  Nunavut   \n",
       "4     Regular Air    30.94       21.78          5.94  Carlos Soltero  Nunavut   \n",
       "\n",
       "    Region Customer Segment Product Category            Product Sub-Category  \\\n",
       "0  Nunavut   Small Business  Office Supplies          Storage & Organization   \n",
       "1  Nunavut         Consumer  Office Supplies                      Appliances   \n",
       "2  Nunavut         Consumer  Office Supplies  Binders and Binder Accessories   \n",
       "3  Nunavut        Corporate       Technology    Telephones and Communication   \n",
       "4  Nunavut         Consumer  Office Supplies                      Appliances   \n",
       "\n",
       "                                        Product Name Product Container  \\\n",
       "0   Eldon Base for stackable storage shelf, platinum         Large Box   \n",
       "1  1.7 Cubic Foot Compact \"Cube\" Office Refrigera...        Jumbo Drum   \n",
       "2   Cardinal Slant-D® Ring Binder, Heavy Gauge Vinyl         Small Box   \n",
       "3                                               R380         Small Box   \n",
       "4                           Holmes HEPA Air Purifier        Medium Box   \n",
       "\n",
       "   Ship Date  \n",
       "0    #VALUE!  \n",
       "1  10/2/2012  \n",
       "2  10/3/2012  \n",
       "3  7/12/2011  \n",
       "4  8/30/2010  "
      ]
     },
     "execution_count": 3,
     "metadata": {},
     "output_type": "execute_result"
    }
   ],
   "source": [
    "data.head()"
   ]
  },
  {
   "cell_type": "code",
   "execution_count": 4,
   "metadata": {},
   "outputs": [
    {
     "data": {
      "text/plain": [
       "(8399, 19)"
      ]
     },
     "execution_count": 4,
     "metadata": {},
     "output_type": "execute_result"
    }
   ],
   "source": [
    "data.shape"
   ]
  },
  {
   "cell_type": "code",
   "execution_count": 5,
   "metadata": {},
   "outputs": [
    {
     "data": {
      "text/html": [
       "<div>\n",
       "<style scoped>\n",
       "    .dataframe tbody tr th:only-of-type {\n",
       "        vertical-align: middle;\n",
       "    }\n",
       "\n",
       "    .dataframe tbody tr th {\n",
       "        vertical-align: top;\n",
       "    }\n",
       "\n",
       "    .dataframe thead th {\n",
       "        text-align: right;\n",
       "    }\n",
       "</style>\n",
       "<table border=\"1\" class=\"dataframe\">\n",
       "  <thead>\n",
       "    <tr style=\"text-align: right;\">\n",
       "      <th></th>\n",
       "      <th>Order ID</th>\n",
       "      <th>Order Date</th>\n",
       "      <th>Order Priority</th>\n",
       "      <th>Order Quantity</th>\n",
       "      <th>Sales</th>\n",
       "      <th>Discount</th>\n",
       "      <th>Ship Mode</th>\n",
       "      <th>Profit</th>\n",
       "      <th>Unit Price</th>\n",
       "      <th>Shipping Cost</th>\n",
       "      <th>Customer Name</th>\n",
       "      <th>Province</th>\n",
       "      <th>Region</th>\n",
       "      <th>Customer Segment</th>\n",
       "      <th>Product Category</th>\n",
       "      <th>Product Sub-Category</th>\n",
       "      <th>Product Name</th>\n",
       "      <th>Product Container</th>\n",
       "      <th>Ship Date</th>\n",
       "    </tr>\n",
       "  </thead>\n",
       "  <tbody>\n",
       "    <tr>\n",
       "      <th>8394</th>\n",
       "      <td>55558</td>\n",
       "      <td>8/9/2010</td>\n",
       "      <td>Medium</td>\n",
       "      <td>8</td>\n",
       "      <td>1294.04</td>\n",
       "      <td>0.05</td>\n",
       "      <td>Delivery Truck</td>\n",
       "      <td>-323.18</td>\n",
       "      <td>150.98</td>\n",
       "      <td>66.27</td>\n",
       "      <td>Mick Brown</td>\n",
       "      <td>Alberta</td>\n",
       "      <td>West</td>\n",
       "      <td>Consumer</td>\n",
       "      <td>Furniture</td>\n",
       "      <td>Bookcases</td>\n",
       "      <td>Bush Mission Pointe Library</td>\n",
       "      <td>Jumbo Box</td>\n",
       "      <td>8/9/2010</td>\n",
       "    </tr>\n",
       "    <tr>\n",
       "      <th>8395</th>\n",
       "      <td>55558</td>\n",
       "      <td>8/9/2010</td>\n",
       "      <td>Medium</td>\n",
       "      <td>23</td>\n",
       "      <td>392.57</td>\n",
       "      <td>0.04</td>\n",
       "      <td>Regular Air</td>\n",
       "      <td>22.25</td>\n",
       "      <td>17.07</td>\n",
       "      <td>8.13</td>\n",
       "      <td>Mick Brown</td>\n",
       "      <td>Alberta</td>\n",
       "      <td>West</td>\n",
       "      <td>Consumer</td>\n",
       "      <td>Office Supplies</td>\n",
       "      <td>Envelopes</td>\n",
       "      <td>Recycled Interoffice Envelopes with Re-Use-A-S...</td>\n",
       "      <td>Small Box</td>\n",
       "      <td>8/11/2010</td>\n",
       "    </tr>\n",
       "    <tr>\n",
       "      <th>8396</th>\n",
       "      <td>56550</td>\n",
       "      <td>4/8/2011</td>\n",
       "      <td>Not Specified</td>\n",
       "      <td>37</td>\n",
       "      <td>823.78</td>\n",
       "      <td>0.03</td>\n",
       "      <td>Express Air</td>\n",
       "      <td>343.05</td>\n",
       "      <td>22.23</td>\n",
       "      <td>5.08</td>\n",
       "      <td>Frank Hawley</td>\n",
       "      <td>Alberta</td>\n",
       "      <td>West</td>\n",
       "      <td>Home Office</td>\n",
       "      <td>Furniture</td>\n",
       "      <td>Office Furnishings</td>\n",
       "      <td>Executive Impressions 14\"</td>\n",
       "      <td>Small Pack</td>\n",
       "      <td>4/10/2011</td>\n",
       "    </tr>\n",
       "    <tr>\n",
       "      <th>8397</th>\n",
       "      <td>56550</td>\n",
       "      <td>4/8/2011</td>\n",
       "      <td>Not Specified</td>\n",
       "      <td>8</td>\n",
       "      <td>469.8375</td>\n",
       "      <td>0.00</td>\n",
       "      <td>Regular Air</td>\n",
       "      <td>-159.24</td>\n",
       "      <td>65.99</td>\n",
       "      <td>8.99</td>\n",
       "      <td>Frank Hawley</td>\n",
       "      <td>Alberta</td>\n",
       "      <td>West</td>\n",
       "      <td>Home Office</td>\n",
       "      <td>Technology</td>\n",
       "      <td>Telephones and Communication</td>\n",
       "      <td>Talkabout T8367</td>\n",
       "      <td>Small Box</td>\n",
       "      <td>4/9/2011</td>\n",
       "    </tr>\n",
       "    <tr>\n",
       "      <th>8398</th>\n",
       "      <td>56581</td>\n",
       "      <td>2/8/2009</td>\n",
       "      <td>High</td>\n",
       "      <td>20</td>\n",
       "      <td>2026.01</td>\n",
       "      <td>0.10</td>\n",
       "      <td>Express Air</td>\n",
       "      <td>580.43</td>\n",
       "      <td>105.98</td>\n",
       "      <td>13.99</td>\n",
       "      <td>Grant Donatelli</td>\n",
       "      <td>Alberta</td>\n",
       "      <td>West</td>\n",
       "      <td>Consumer</td>\n",
       "      <td>Furniture</td>\n",
       "      <td>Office Furnishings</td>\n",
       "      <td>Tenex 46\" x 60\" Computer Anti-Static Chairmat,...</td>\n",
       "      <td>Medium Box</td>\n",
       "      <td>2/11/2009</td>\n",
       "    </tr>\n",
       "  </tbody>\n",
       "</table>\n",
       "</div>"
      ],
      "text/plain": [
       "     Order ID Order Date Order Priority Order Quantity     Sales  Discount  \\\n",
       "8394    55558   8/9/2010         Medium              8   1294.04      0.05   \n",
       "8395    55558   8/9/2010         Medium             23    392.57      0.04   \n",
       "8396    56550   4/8/2011  Not Specified             37    823.78      0.03   \n",
       "8397    56550   4/8/2011  Not Specified              8  469.8375      0.00   \n",
       "8398    56581   2/8/2009           High             20   2026.01      0.10   \n",
       "\n",
       "           Ship Mode   Profit  Unit Price Shipping Cost    Customer Name  \\\n",
       "8394  Delivery Truck  -323.18      150.98         66.27       Mick Brown   \n",
       "8395     Regular Air    22.25       17.07          8.13       Mick Brown   \n",
       "8396     Express Air   343.05       22.23          5.08     Frank Hawley   \n",
       "8397     Regular Air  -159.24       65.99          8.99     Frank Hawley   \n",
       "8398     Express Air   580.43      105.98         13.99  Grant Donatelli   \n",
       "\n",
       "     Province Region Customer Segment Product Category  \\\n",
       "8394  Alberta   West         Consumer        Furniture   \n",
       "8395  Alberta   West         Consumer  Office Supplies   \n",
       "8396  Alberta   West      Home Office        Furniture   \n",
       "8397  Alberta   West      Home Office       Technology   \n",
       "8398  Alberta   West         Consumer        Furniture   \n",
       "\n",
       "              Product Sub-Category  \\\n",
       "8394                     Bookcases   \n",
       "8395                     Envelopes   \n",
       "8396            Office Furnishings   \n",
       "8397  Telephones and Communication   \n",
       "8398            Office Furnishings   \n",
       "\n",
       "                                           Product Name Product Container  \\\n",
       "8394                        Bush Mission Pointe Library         Jumbo Box   \n",
       "8395  Recycled Interoffice Envelopes with Re-Use-A-S...         Small Box   \n",
       "8396                          Executive Impressions 14\"        Small Pack   \n",
       "8397                                    Talkabout T8367         Small Box   \n",
       "8398  Tenex 46\" x 60\" Computer Anti-Static Chairmat,...        Medium Box   \n",
       "\n",
       "      Ship Date  \n",
       "8394   8/9/2010  \n",
       "8395  8/11/2010  \n",
       "8396  4/10/2011  \n",
       "8397   4/9/2011  \n",
       "8398  2/11/2009  "
      ]
     },
     "execution_count": 5,
     "metadata": {},
     "output_type": "execute_result"
    }
   ],
   "source": [
    "data.tail()"
   ]
  },
  {
   "cell_type": "code",
   "execution_count": 6,
   "metadata": {},
   "outputs": [
    {
     "data": {
      "text/plain": [
       "Index(['Order ID', 'Order Date', 'Order Priority', 'Order Quantity', 'Sales',\n",
       "       'Discount', 'Ship Mode', 'Profit', 'Unit Price', 'Shipping Cost',\n",
       "       'Customer Name', 'Province', 'Region', 'Customer Segment',\n",
       "       'Product Category', 'Product Sub-Category', 'Product Name',\n",
       "       'Product Container', 'Ship Date'],\n",
       "      dtype='object')"
      ]
     },
     "execution_count": 6,
     "metadata": {},
     "output_type": "execute_result"
    }
   ],
   "source": [
    "data.columns"
   ]
  },
  {
   "cell_type": "code",
   "execution_count": 7,
   "metadata": {},
   "outputs": [],
   "source": [
    "data.rename(columns={\"Order ID\":\"Order_ID\",\"Order Date\":\"Order_Date\",\n",
    "                     \"Order Priority\":\"Order_Priority\",\n",
    "                       \"Order Quantity\":\"Order_Quantity\",\"Ship Mode\":\"Ship_Mode\",\n",
    "                    \"Unit Price\":\"Unit_Price\",\"Shipping Cost\":\"Shipping_Cost\",\n",
    "                    \"Customer Name\":\"Customer_Name\",\"Customer Segment\":\"Customer_Segment\",\n",
    "                    \"Product Category\":\"Product_Category\",\"Product Sub-Category\":\"Product_Sub-Category\",\n",
    "                    \"Product Name\":\"Product_Name\",\"Product Container\":\"Product_Container\",\n",
    "                    \"Ship Date\":\"Ship_Date\"},inplace=True)"
   ]
  },
  {
   "cell_type": "code",
   "execution_count": 8,
   "metadata": {},
   "outputs": [
    {
     "data": {
      "text/html": [
       "<div>\n",
       "<style scoped>\n",
       "    .dataframe tbody tr th:only-of-type {\n",
       "        vertical-align: middle;\n",
       "    }\n",
       "\n",
       "    .dataframe tbody tr th {\n",
       "        vertical-align: top;\n",
       "    }\n",
       "\n",
       "    .dataframe thead th {\n",
       "        text-align: right;\n",
       "    }\n",
       "</style>\n",
       "<table border=\"1\" class=\"dataframe\">\n",
       "  <thead>\n",
       "    <tr style=\"text-align: right;\">\n",
       "      <th></th>\n",
       "      <th>Order_ID</th>\n",
       "      <th>Order_Date</th>\n",
       "      <th>Order_Priority</th>\n",
       "      <th>Order_Quantity</th>\n",
       "      <th>Sales</th>\n",
       "      <th>Discount</th>\n",
       "      <th>Ship_Mode</th>\n",
       "      <th>Profit</th>\n",
       "      <th>Unit_Price</th>\n",
       "      <th>Shipping_Cost</th>\n",
       "      <th>Customer_Name</th>\n",
       "      <th>Province</th>\n",
       "      <th>Region</th>\n",
       "      <th>Customer_Segment</th>\n",
       "      <th>Product_Category</th>\n",
       "      <th>Product_Sub-Category</th>\n",
       "      <th>Product_Name</th>\n",
       "      <th>Product_Container</th>\n",
       "      <th>Ship_Date</th>\n",
       "    </tr>\n",
       "  </thead>\n",
       "  <tbody>\n",
       "    <tr>\n",
       "      <th>0</th>\n",
       "      <td>3</td>\n",
       "      <td>Male</td>\n",
       "      <td>Low</td>\n",
       "      <td>6</td>\n",
       "      <td>261.54</td>\n",
       "      <td>0.04</td>\n",
       "      <td>Regular Air</td>\n",
       "      <td>-213.25</td>\n",
       "      <td>38.94</td>\n",
       "      <td>35</td>\n",
       "      <td>25000</td>\n",
       "      <td>Nunavut</td>\n",
       "      <td>Nunavut</td>\n",
       "      <td>Small Business</td>\n",
       "      <td>Office Supplies</td>\n",
       "      <td>Storage &amp; Organization</td>\n",
       "      <td>Eldon Base for stackable storage shelf, platinum</td>\n",
       "      <td>Large Box</td>\n",
       "      <td>#VALUE!</td>\n",
       "    </tr>\n",
       "    <tr>\n",
       "      <th>1</th>\n",
       "      <td>293</td>\n",
       "      <td>10/1/2012</td>\n",
       "      <td>High</td>\n",
       "      <td>49</td>\n",
       "      <td>10123.02</td>\n",
       "      <td>0.07</td>\n",
       "      <td>Delivery Truck</td>\n",
       "      <td>457.81</td>\n",
       "      <td>208.16</td>\n",
       "      <td>68.02</td>\n",
       "      <td>Barry French</td>\n",
       "      <td>Nunavut</td>\n",
       "      <td>Nunavut</td>\n",
       "      <td>Consumer</td>\n",
       "      <td>Office Supplies</td>\n",
       "      <td>Appliances</td>\n",
       "      <td>1.7 Cubic Foot Compact \"Cube\" Office Refrigera...</td>\n",
       "      <td>Jumbo Drum</td>\n",
       "      <td>10/2/2012</td>\n",
       "    </tr>\n",
       "    <tr>\n",
       "      <th>2</th>\n",
       "      <td>293</td>\n",
       "      <td>10/1/2012</td>\n",
       "      <td>High</td>\n",
       "      <td>27</td>\n",
       "      <td>244.57</td>\n",
       "      <td>0.01</td>\n",
       "      <td>Regular Air</td>\n",
       "      <td>46.71</td>\n",
       "      <td>8.69</td>\n",
       "      <td>2.99</td>\n",
       "      <td>Barry French</td>\n",
       "      <td>Nunavut</td>\n",
       "      <td>Nunavut</td>\n",
       "      <td>Consumer</td>\n",
       "      <td>Office Supplies</td>\n",
       "      <td>Binders and Binder Accessories</td>\n",
       "      <td>Cardinal Slant-D® Ring Binder, Heavy Gauge Vinyl</td>\n",
       "      <td>Small Box</td>\n",
       "      <td>10/3/2012</td>\n",
       "    </tr>\n",
       "    <tr>\n",
       "      <th>3</th>\n",
       "      <td>483</td>\n",
       "      <td>7/10/2011</td>\n",
       "      <td>High</td>\n",
       "      <td>NaN</td>\n",
       "      <td>4965.7595</td>\n",
       "      <td>0.08</td>\n",
       "      <td>Regular Air</td>\n",
       "      <td>1198.97</td>\n",
       "      <td>195.99</td>\n",
       "      <td>3.99</td>\n",
       "      <td>Clay Rozendal</td>\n",
       "      <td>Nunavut</td>\n",
       "      <td>Nunavut</td>\n",
       "      <td>Corporate</td>\n",
       "      <td>Technology</td>\n",
       "      <td>Telephones and Communication</td>\n",
       "      <td>R380</td>\n",
       "      <td>Small Box</td>\n",
       "      <td>7/12/2011</td>\n",
       "    </tr>\n",
       "    <tr>\n",
       "      <th>4</th>\n",
       "      <td>515</td>\n",
       "      <td>8/28/2010</td>\n",
       "      <td>Not Specified</td>\n",
       "      <td>19</td>\n",
       "      <td>394.27</td>\n",
       "      <td>0.08</td>\n",
       "      <td>Regular Air</td>\n",
       "      <td>30.94</td>\n",
       "      <td>21.78</td>\n",
       "      <td>5.94</td>\n",
       "      <td>Carlos Soltero</td>\n",
       "      <td>Nunavut</td>\n",
       "      <td>Nunavut</td>\n",
       "      <td>Consumer</td>\n",
       "      <td>Office Supplies</td>\n",
       "      <td>Appliances</td>\n",
       "      <td>Holmes HEPA Air Purifier</td>\n",
       "      <td>Medium Box</td>\n",
       "      <td>8/30/2010</td>\n",
       "    </tr>\n",
       "  </tbody>\n",
       "</table>\n",
       "</div>"
      ],
      "text/plain": [
       "  Order_ID Order_Date Order_Priority Order_Quantity      Sales  Discount  \\\n",
       "0        3       Male            Low              6     261.54      0.04   \n",
       "1      293  10/1/2012           High             49   10123.02      0.07   \n",
       "2      293  10/1/2012           High             27     244.57      0.01   \n",
       "3      483  7/10/2011           High            NaN  4965.7595      0.08   \n",
       "4      515  8/28/2010  Not Specified             19     394.27      0.08   \n",
       "\n",
       "        Ship_Mode   Profit  Unit_Price Shipping_Cost   Customer_Name Province  \\\n",
       "0     Regular Air  -213.25       38.94            35           25000  Nunavut   \n",
       "1  Delivery Truck   457.81      208.16         68.02    Barry French  Nunavut   \n",
       "2     Regular Air    46.71        8.69          2.99    Barry French  Nunavut   \n",
       "3     Regular Air  1198.97      195.99          3.99   Clay Rozendal  Nunavut   \n",
       "4     Regular Air    30.94       21.78          5.94  Carlos Soltero  Nunavut   \n",
       "\n",
       "    Region Customer_Segment Product_Category            Product_Sub-Category  \\\n",
       "0  Nunavut   Small Business  Office Supplies          Storage & Organization   \n",
       "1  Nunavut         Consumer  Office Supplies                      Appliances   \n",
       "2  Nunavut         Consumer  Office Supplies  Binders and Binder Accessories   \n",
       "3  Nunavut        Corporate       Technology    Telephones and Communication   \n",
       "4  Nunavut         Consumer  Office Supplies                      Appliances   \n",
       "\n",
       "                                        Product_Name Product_Container  \\\n",
       "0   Eldon Base for stackable storage shelf, platinum         Large Box   \n",
       "1  1.7 Cubic Foot Compact \"Cube\" Office Refrigera...        Jumbo Drum   \n",
       "2   Cardinal Slant-D® Ring Binder, Heavy Gauge Vinyl         Small Box   \n",
       "3                                               R380         Small Box   \n",
       "4                           Holmes HEPA Air Purifier        Medium Box   \n",
       "\n",
       "   Ship_Date  \n",
       "0    #VALUE!  \n",
       "1  10/2/2012  \n",
       "2  10/3/2012  \n",
       "3  7/12/2011  \n",
       "4  8/30/2010  "
      ]
     },
     "execution_count": 8,
     "metadata": {},
     "output_type": "execute_result"
    }
   ],
   "source": [
    "data.head()"
   ]
  },
  {
   "cell_type": "code",
   "execution_count": 9,
   "metadata": {},
   "outputs": [
    {
     "name": "stdout",
     "output_type": "stream",
     "text": [
      "<class 'pandas.core.frame.DataFrame'>\n",
      "RangeIndex: 8399 entries, 0 to 8398\n",
      "Data columns (total 19 columns):\n",
      "Order_ID                7854 non-null object\n",
      "Order_Date              8390 non-null object\n",
      "Order_Priority          8387 non-null object\n",
      "Order_Quantity          8398 non-null object\n",
      "Sales                   8380 non-null object\n",
      "Discount                8399 non-null float64\n",
      "Ship_Mode               8395 non-null object\n",
      "Profit                  8399 non-null object\n",
      "Unit_Price              8399 non-null float64\n",
      "Shipping_Cost           8399 non-null object\n",
      "Customer_Name           8398 non-null object\n",
      "Province                8399 non-null object\n",
      "Region                  8369 non-null object\n",
      "Customer_Segment        8399 non-null object\n",
      "Product_Category        8368 non-null object\n",
      "Product_Sub-Category    8399 non-null object\n",
      "Product_Name            8386 non-null object\n",
      "Product_Container       8384 non-null object\n",
      "Ship_Date               8389 non-null object\n",
      "dtypes: float64(2), object(17)\n",
      "memory usage: 1.2+ MB\n"
     ]
    }
   ],
   "source": [
    "data.info()"
   ]
  },
  {
   "cell_type": "code",
   "execution_count": 10,
   "metadata": {},
   "outputs": [
    {
     "data": {
      "text/html": [
       "<div>\n",
       "<style scoped>\n",
       "    .dataframe tbody tr th:only-of-type {\n",
       "        vertical-align: middle;\n",
       "    }\n",
       "\n",
       "    .dataframe tbody tr th {\n",
       "        vertical-align: top;\n",
       "    }\n",
       "\n",
       "    .dataframe thead th {\n",
       "        text-align: right;\n",
       "    }\n",
       "</style>\n",
       "<table border=\"1\" class=\"dataframe\">\n",
       "  <thead>\n",
       "    <tr style=\"text-align: right;\">\n",
       "      <th></th>\n",
       "      <th>Discount</th>\n",
       "      <th>Unit_Price</th>\n",
       "    </tr>\n",
       "  </thead>\n",
       "  <tbody>\n",
       "    <tr>\n",
       "      <th>count</th>\n",
       "      <td>8399.000000</td>\n",
       "      <td>8399.000000</td>\n",
       "    </tr>\n",
       "    <tr>\n",
       "      <th>mean</th>\n",
       "      <td>0.049671</td>\n",
       "      <td>89.331438</td>\n",
       "    </tr>\n",
       "    <tr>\n",
       "      <th>std</th>\n",
       "      <td>0.031823</td>\n",
       "      <td>290.441095</td>\n",
       "    </tr>\n",
       "    <tr>\n",
       "      <th>min</th>\n",
       "      <td>0.000000</td>\n",
       "      <td>-456.000000</td>\n",
       "    </tr>\n",
       "    <tr>\n",
       "      <th>25%</th>\n",
       "      <td>0.020000</td>\n",
       "      <td>6.480000</td>\n",
       "    </tr>\n",
       "    <tr>\n",
       "      <th>50%</th>\n",
       "      <td>0.050000</td>\n",
       "      <td>20.990000</td>\n",
       "    </tr>\n",
       "    <tr>\n",
       "      <th>75%</th>\n",
       "      <td>0.080000</td>\n",
       "      <td>85.990000</td>\n",
       "    </tr>\n",
       "    <tr>\n",
       "      <th>max</th>\n",
       "      <td>0.250000</td>\n",
       "      <td>6783.020000</td>\n",
       "    </tr>\n",
       "  </tbody>\n",
       "</table>\n",
       "</div>"
      ],
      "text/plain": [
       "          Discount   Unit_Price\n",
       "count  8399.000000  8399.000000\n",
       "mean      0.049671    89.331438\n",
       "std       0.031823   290.441095\n",
       "min       0.000000  -456.000000\n",
       "25%       0.020000     6.480000\n",
       "50%       0.050000    20.990000\n",
       "75%       0.080000    85.990000\n",
       "max       0.250000  6783.020000"
      ]
     },
     "execution_count": 10,
     "metadata": {},
     "output_type": "execute_result"
    }
   ],
   "source": [
    "data.describe()"
   ]
  },
  {
   "cell_type": "code",
   "execution_count": 11,
   "metadata": {},
   "outputs": [
    {
     "data": {
      "text/html": [
       "<div>\n",
       "<style scoped>\n",
       "    .dataframe tbody tr th:only-of-type {\n",
       "        vertical-align: middle;\n",
       "    }\n",
       "\n",
       "    .dataframe tbody tr th {\n",
       "        vertical-align: top;\n",
       "    }\n",
       "\n",
       "    .dataframe thead th {\n",
       "        text-align: right;\n",
       "    }\n",
       "</style>\n",
       "<table border=\"1\" class=\"dataframe\">\n",
       "  <thead>\n",
       "    <tr style=\"text-align: right;\">\n",
       "      <th></th>\n",
       "      <th>Order_ID</th>\n",
       "      <th>Order_Date</th>\n",
       "      <th>Order_Priority</th>\n",
       "      <th>Order_Quantity</th>\n",
       "      <th>Sales</th>\n",
       "      <th>Ship_Mode</th>\n",
       "      <th>Profit</th>\n",
       "      <th>Shipping_Cost</th>\n",
       "      <th>Customer_Name</th>\n",
       "      <th>Province</th>\n",
       "      <th>Region</th>\n",
       "      <th>Customer_Segment</th>\n",
       "      <th>Product_Category</th>\n",
       "      <th>Product_Sub-Category</th>\n",
       "      <th>Product_Name</th>\n",
       "      <th>Product_Container</th>\n",
       "      <th>Ship_Date</th>\n",
       "    </tr>\n",
       "  </thead>\n",
       "  <tbody>\n",
       "    <tr>\n",
       "      <th>count</th>\n",
       "      <td>7854</td>\n",
       "      <td>8390</td>\n",
       "      <td>8387</td>\n",
       "      <td>8398</td>\n",
       "      <td>8380</td>\n",
       "      <td>8395</td>\n",
       "      <td>8399</td>\n",
       "      <td>8399</td>\n",
       "      <td>8398</td>\n",
       "      <td>8399</td>\n",
       "      <td>8369</td>\n",
       "      <td>8399</td>\n",
       "      <td>8368</td>\n",
       "      <td>8399</td>\n",
       "      <td>8386</td>\n",
       "      <td>8384</td>\n",
       "      <td>8389</td>\n",
       "    </tr>\n",
       "    <tr>\n",
       "      <th>unique</th>\n",
       "      <td>5141</td>\n",
       "      <td>1422</td>\n",
       "      <td>6</td>\n",
       "      <td>56</td>\n",
       "      <td>8131</td>\n",
       "      <td>3</td>\n",
       "      <td>7807</td>\n",
       "      <td>653</td>\n",
       "      <td>802</td>\n",
       "      <td>13</td>\n",
       "      <td>8</td>\n",
       "      <td>4</td>\n",
       "      <td>3</td>\n",
       "      <td>17</td>\n",
       "      <td>1263</td>\n",
       "      <td>7</td>\n",
       "      <td>1460</td>\n",
       "    </tr>\n",
       "    <tr>\n",
       "      <th>top</th>\n",
       "      <td>43745</td>\n",
       "      <td>9/15/2011</td>\n",
       "      <td>High</td>\n",
       "      <td>31</td>\n",
       "      <td>Bad</td>\n",
       "      <td>Regular Air</td>\n",
       "      <td>-969.05</td>\n",
       "      <td>19.99</td>\n",
       "      <td>Darren Budd</td>\n",
       "      <td>Ontario</td>\n",
       "      <td>West</td>\n",
       "      <td>Corporate</td>\n",
       "      <td>Office Supplies</td>\n",
       "      <td>Paper</td>\n",
       "      <td>Global High-Back Leather Tilter, Burgundy</td>\n",
       "      <td>Small Box</td>\n",
       "      <td>5/21/2011</td>\n",
       "    </tr>\n",
       "    <tr>\n",
       "      <th>freq</th>\n",
       "      <td>6</td>\n",
       "      <td>20</td>\n",
       "      <td>1765</td>\n",
       "      <td>202</td>\n",
       "      <td>9</td>\n",
       "      <td>6268</td>\n",
       "      <td>8</td>\n",
       "      <td>352</td>\n",
       "      <td>41</td>\n",
       "      <td>1826</td>\n",
       "      <td>1991</td>\n",
       "      <td>3076</td>\n",
       "      <td>4592</td>\n",
       "      <td>1225</td>\n",
       "      <td>24</td>\n",
       "      <td>4341</td>\n",
       "      <td>19</td>\n",
       "    </tr>\n",
       "  </tbody>\n",
       "</table>\n",
       "</div>"
      ],
      "text/plain": [
       "       Order_ID Order_Date Order_Priority Order_Quantity Sales    Ship_Mode  \\\n",
       "count      7854       8390           8387           8398  8380         8395   \n",
       "unique     5141       1422              6             56  8131            3   \n",
       "top       43745  9/15/2011           High             31   Bad  Regular Air   \n",
       "freq          6         20           1765            202     9         6268   \n",
       "\n",
       "         Profit Shipping_Cost Customer_Name Province Region Customer_Segment  \\\n",
       "count      8399          8399          8398     8399   8369             8399   \n",
       "unique     7807           653           802       13      8                4   \n",
       "top     -969.05         19.99   Darren Budd  Ontario   West        Corporate   \n",
       "freq          8           352            41     1826   1991             3076   \n",
       "\n",
       "       Product_Category Product_Sub-Category  \\\n",
       "count              8368                 8399   \n",
       "unique                3                   17   \n",
       "top     Office Supplies                Paper   \n",
       "freq               4592                 1225   \n",
       "\n",
       "                                     Product_Name Product_Container  Ship_Date  \n",
       "count                                        8386              8384       8389  \n",
       "unique                                       1263                 7       1460  \n",
       "top     Global High-Back Leather Tilter, Burgundy         Small Box  5/21/2011  \n",
       "freq                                           24              4341         19  "
      ]
     },
     "execution_count": 11,
     "metadata": {},
     "output_type": "execute_result"
    }
   ],
   "source": [
    "data.describe(include=[\"object\"])"
   ]
  },
  {
   "cell_type": "code",
   "execution_count": 12,
   "metadata": {},
   "outputs": [
    {
     "data": {
      "text/plain": [
       "Order_ID                545\n",
       "Order_Date                9\n",
       "Order_Priority           12\n",
       "Order_Quantity            1\n",
       "Sales                    19\n",
       "Discount                  0\n",
       "Ship_Mode                 4\n",
       "Profit                    0\n",
       "Unit_Price                0\n",
       "Shipping_Cost             0\n",
       "Customer_Name             1\n",
       "Province                  0\n",
       "Region                   30\n",
       "Customer_Segment          0\n",
       "Product_Category         31\n",
       "Product_Sub-Category      0\n",
       "Product_Name             13\n",
       "Product_Container        15\n",
       "Ship_Date                10\n",
       "dtype: int64"
      ]
     },
     "execution_count": 12,
     "metadata": {},
     "output_type": "execute_result"
    }
   ],
   "source": [
    "data.isnull().sum()"
   ]
  },
  {
   "cell_type": "code",
   "execution_count": 13,
   "metadata": {},
   "outputs": [],
   "source": [
    "data=data.dropna(how='any',subset=[\"Order_ID\",\"Order_Date\",\"Order_Priority\",\"Order_Quantity\"\n",
    "                                   ,\"Ship_Mode\"\n",
    "                                   ,\"Customer_Name\",\"Region\",\"Product_Category\",\n",
    "                                  \"Product_Name\",\"Product_Container\",\"Ship_Date\"])"
   ]
  },
  {
   "cell_type": "code",
   "execution_count": 14,
   "metadata": {},
   "outputs": [],
   "source": [
    "data.reset_index(drop=True,inplace=True)"
   ]
  },
  {
   "cell_type": "code",
   "execution_count": 15,
   "metadata": {},
   "outputs": [
    {
     "data": {
      "text/html": [
       "<div>\n",
       "<style scoped>\n",
       "    .dataframe tbody tr th:only-of-type {\n",
       "        vertical-align: middle;\n",
       "    }\n",
       "\n",
       "    .dataframe tbody tr th {\n",
       "        vertical-align: top;\n",
       "    }\n",
       "\n",
       "    .dataframe thead th {\n",
       "        text-align: right;\n",
       "    }\n",
       "</style>\n",
       "<table border=\"1\" class=\"dataframe\">\n",
       "  <thead>\n",
       "    <tr style=\"text-align: right;\">\n",
       "      <th></th>\n",
       "      <th>Order_ID</th>\n",
       "      <th>Order_Date</th>\n",
       "      <th>Order_Priority</th>\n",
       "      <th>Order_Quantity</th>\n",
       "      <th>Sales</th>\n",
       "      <th>Discount</th>\n",
       "      <th>Ship_Mode</th>\n",
       "      <th>Profit</th>\n",
       "      <th>Unit_Price</th>\n",
       "      <th>Shipping_Cost</th>\n",
       "      <th>Customer_Name</th>\n",
       "      <th>Province</th>\n",
       "      <th>Region</th>\n",
       "      <th>Customer_Segment</th>\n",
       "      <th>Product_Category</th>\n",
       "      <th>Product_Sub-Category</th>\n",
       "      <th>Product_Name</th>\n",
       "      <th>Product_Container</th>\n",
       "      <th>Ship_Date</th>\n",
       "    </tr>\n",
       "  </thead>\n",
       "  <tbody>\n",
       "    <tr>\n",
       "      <th>0</th>\n",
       "      <td>3</td>\n",
       "      <td>Male</td>\n",
       "      <td>Low</td>\n",
       "      <td>6</td>\n",
       "      <td>261.54</td>\n",
       "      <td>0.04</td>\n",
       "      <td>Regular Air</td>\n",
       "      <td>-213.25</td>\n",
       "      <td>38.94</td>\n",
       "      <td>35</td>\n",
       "      <td>25000</td>\n",
       "      <td>Nunavut</td>\n",
       "      <td>Nunavut</td>\n",
       "      <td>Small Business</td>\n",
       "      <td>Office Supplies</td>\n",
       "      <td>Storage &amp; Organization</td>\n",
       "      <td>Eldon Base for stackable storage shelf, platinum</td>\n",
       "      <td>Large Box</td>\n",
       "      <td>#VALUE!</td>\n",
       "    </tr>\n",
       "    <tr>\n",
       "      <th>1</th>\n",
       "      <td>293</td>\n",
       "      <td>10/1/2012</td>\n",
       "      <td>High</td>\n",
       "      <td>49</td>\n",
       "      <td>10123.02</td>\n",
       "      <td>0.07</td>\n",
       "      <td>Delivery Truck</td>\n",
       "      <td>457.81</td>\n",
       "      <td>208.16</td>\n",
       "      <td>68.02</td>\n",
       "      <td>Barry French</td>\n",
       "      <td>Nunavut</td>\n",
       "      <td>Nunavut</td>\n",
       "      <td>Consumer</td>\n",
       "      <td>Office Supplies</td>\n",
       "      <td>Appliances</td>\n",
       "      <td>1.7 Cubic Foot Compact \"Cube\" Office Refrigera...</td>\n",
       "      <td>Jumbo Drum</td>\n",
       "      <td>10/2/2012</td>\n",
       "    </tr>\n",
       "    <tr>\n",
       "      <th>2</th>\n",
       "      <td>293</td>\n",
       "      <td>10/1/2012</td>\n",
       "      <td>High</td>\n",
       "      <td>27</td>\n",
       "      <td>244.57</td>\n",
       "      <td>0.01</td>\n",
       "      <td>Regular Air</td>\n",
       "      <td>46.71</td>\n",
       "      <td>8.69</td>\n",
       "      <td>2.99</td>\n",
       "      <td>Barry French</td>\n",
       "      <td>Nunavut</td>\n",
       "      <td>Nunavut</td>\n",
       "      <td>Consumer</td>\n",
       "      <td>Office Supplies</td>\n",
       "      <td>Binders and Binder Accessories</td>\n",
       "      <td>Cardinal Slant-D® Ring Binder, Heavy Gauge Vinyl</td>\n",
       "      <td>Small Box</td>\n",
       "      <td>10/3/2012</td>\n",
       "    </tr>\n",
       "    <tr>\n",
       "      <th>3</th>\n",
       "      <td>515</td>\n",
       "      <td>8/28/2010</td>\n",
       "      <td>Not Specified</td>\n",
       "      <td>19</td>\n",
       "      <td>394.27</td>\n",
       "      <td>0.08</td>\n",
       "      <td>Regular Air</td>\n",
       "      <td>30.94</td>\n",
       "      <td>21.78</td>\n",
       "      <td>5.94</td>\n",
       "      <td>Carlos Soltero</td>\n",
       "      <td>Nunavut</td>\n",
       "      <td>Nunavut</td>\n",
       "      <td>Consumer</td>\n",
       "      <td>Office Supplies</td>\n",
       "      <td>Appliances</td>\n",
       "      <td>Holmes HEPA Air Purifier</td>\n",
       "      <td>Medium Box</td>\n",
       "      <td>8/30/2010</td>\n",
       "    </tr>\n",
       "    <tr>\n",
       "      <th>4</th>\n",
       "      <td>613</td>\n",
       "      <td>6/17/2011</td>\n",
       "      <td>High</td>\n",
       "      <td>12</td>\n",
       "      <td>93.54</td>\n",
       "      <td>0.03</td>\n",
       "      <td>Regular Air</td>\n",
       "      <td>-54.04</td>\n",
       "      <td>7.30</td>\n",
       "      <td>7.72</td>\n",
       "      <td>Carl Jackson</td>\n",
       "      <td>Nunavut</td>\n",
       "      <td>Nunavut</td>\n",
       "      <td>Corporate</td>\n",
       "      <td>Office Supplies</td>\n",
       "      <td>Binders and Binder Accessories</td>\n",
       "      <td>Angle-D Binders with Locking Rings, Label Holders</td>\n",
       "      <td>Small Box</td>\n",
       "      <td>6/17/2011</td>\n",
       "    </tr>\n",
       "  </tbody>\n",
       "</table>\n",
       "</div>"
      ],
      "text/plain": [
       "  Order_ID Order_Date Order_Priority Order_Quantity     Sales  Discount  \\\n",
       "0        3       Male            Low              6    261.54      0.04   \n",
       "1      293  10/1/2012           High             49  10123.02      0.07   \n",
       "2      293  10/1/2012           High             27    244.57      0.01   \n",
       "3      515  8/28/2010  Not Specified             19    394.27      0.08   \n",
       "4      613  6/17/2011           High             12     93.54      0.03   \n",
       "\n",
       "        Ship_Mode   Profit  Unit_Price Shipping_Cost   Customer_Name Province  \\\n",
       "0     Regular Air  -213.25       38.94            35           25000  Nunavut   \n",
       "1  Delivery Truck   457.81      208.16         68.02    Barry French  Nunavut   \n",
       "2     Regular Air    46.71        8.69          2.99    Barry French  Nunavut   \n",
       "3     Regular Air    30.94       21.78          5.94  Carlos Soltero  Nunavut   \n",
       "4     Regular Air   -54.04        7.30          7.72    Carl Jackson  Nunavut   \n",
       "\n",
       "    Region Customer_Segment Product_Category            Product_Sub-Category  \\\n",
       "0  Nunavut   Small Business  Office Supplies          Storage & Organization   \n",
       "1  Nunavut         Consumer  Office Supplies                      Appliances   \n",
       "2  Nunavut         Consumer  Office Supplies  Binders and Binder Accessories   \n",
       "3  Nunavut         Consumer  Office Supplies                      Appliances   \n",
       "4  Nunavut        Corporate  Office Supplies  Binders and Binder Accessories   \n",
       "\n",
       "                                        Product_Name Product_Container  \\\n",
       "0   Eldon Base for stackable storage shelf, platinum         Large Box   \n",
       "1  1.7 Cubic Foot Compact \"Cube\" Office Refrigera...        Jumbo Drum   \n",
       "2   Cardinal Slant-D® Ring Binder, Heavy Gauge Vinyl         Small Box   \n",
       "3                           Holmes HEPA Air Purifier        Medium Box   \n",
       "4  Angle-D Binders with Locking Rings, Label Holders         Small Box   \n",
       "\n",
       "   Ship_Date  \n",
       "0    #VALUE!  \n",
       "1  10/2/2012  \n",
       "2  10/3/2012  \n",
       "3  8/30/2010  \n",
       "4  6/17/2011  "
      ]
     },
     "execution_count": 15,
     "metadata": {},
     "output_type": "execute_result"
    }
   ],
   "source": [
    "data.head()"
   ]
  },
  {
   "cell_type": "code",
   "execution_count": 16,
   "metadata": {},
   "outputs": [
    {
     "data": {
      "text/plain": [
       "Order_ID                 0\n",
       "Order_Date               0\n",
       "Order_Priority           0\n",
       "Order_Quantity           0\n",
       "Sales                   19\n",
       "Discount                 0\n",
       "Ship_Mode                0\n",
       "Profit                   0\n",
       "Unit_Price               0\n",
       "Shipping_Cost            0\n",
       "Customer_Name            0\n",
       "Province                 0\n",
       "Region                   0\n",
       "Customer_Segment         0\n",
       "Product_Category         0\n",
       "Product_Sub-Category     0\n",
       "Product_Name             0\n",
       "Product_Container        0\n",
       "Ship_Date                0\n",
       "dtype: int64"
      ]
     },
     "execution_count": 16,
     "metadata": {},
     "output_type": "execute_result"
    }
   ],
   "source": [
    "data.isnull().sum()"
   ]
  },
  {
   "cell_type": "code",
   "execution_count": 17,
   "metadata": {},
   "outputs": [
    {
     "data": {
      "text/plain": [
       "dtype('O')"
      ]
     },
     "execution_count": 17,
     "metadata": {},
     "output_type": "execute_result"
    }
   ],
   "source": [
    "data[\"Sales\"].dtypes"
   ]
  },
  {
   "cell_type": "code",
   "execution_count": 18,
   "metadata": {},
   "outputs": [
    {
     "data": {
      "text/plain": [
       "False    7738\n",
       "True       19\n",
       "Name: Sales, dtype: int64"
      ]
     },
     "execution_count": 18,
     "metadata": {},
     "output_type": "execute_result"
    }
   ],
   "source": [
    "data[\"Sales\"].isnull().value_counts()"
   ]
  },
  {
   "cell_type": "code",
   "execution_count": 19,
   "metadata": {},
   "outputs": [],
   "source": [
    "data[\"Sales\"].fillna('aba',inplace=True)"
   ]
  },
  {
   "cell_type": "code",
   "execution_count": 20,
   "metadata": {},
   "outputs": [
    {
     "data": {
      "text/plain": [
       "0"
      ]
     },
     "execution_count": 20,
     "metadata": {},
     "output_type": "execute_result"
    }
   ],
   "source": [
    "data['Sales'].isnull().sum()"
   ]
  },
  {
   "cell_type": "code",
   "execution_count": 21,
   "metadata": {},
   "outputs": [],
   "source": [
    "count=0\n",
    "for i in data[\"Sales\"]:\n",
    "    if (any(x.isalpha() for x in i)):\n",
    "        data.loc[count,\"Sales\"]=np.nan\n",
    "    count+=1"
   ]
  },
  {
   "cell_type": "code",
   "execution_count": 22,
   "metadata": {},
   "outputs": [
    {
     "data": {
      "text/plain": [
       "33"
      ]
     },
     "execution_count": 22,
     "metadata": {},
     "output_type": "execute_result"
    }
   ],
   "source": [
    "data['Sales'].isnull().sum()"
   ]
  },
  {
   "cell_type": "code",
   "execution_count": 23,
   "metadata": {},
   "outputs": [],
   "source": [
    "data['Sales']=data['Sales'].astype('float')"
   ]
  },
  {
   "cell_type": "code",
   "execution_count": 24,
   "metadata": {},
   "outputs": [],
   "source": [
    "Sales_mean=data['Sales'].mean()\n",
    "data['Sales'].fillna(Sales_mean,inplace=True)"
   ]
  },
  {
   "cell_type": "code",
   "execution_count": 25,
   "metadata": {},
   "outputs": [
    {
     "name": "stdout",
     "output_type": "stream",
     "text": [
      "<class 'pandas.core.frame.DataFrame'>\n",
      "RangeIndex: 7757 entries, 0 to 7756\n",
      "Data columns (total 19 columns):\n",
      "Order_ID                7757 non-null object\n",
      "Order_Date              7757 non-null object\n",
      "Order_Priority          7757 non-null object\n",
      "Order_Quantity          7757 non-null object\n",
      "Sales                   7757 non-null float64\n",
      "Discount                7757 non-null float64\n",
      "Ship_Mode               7757 non-null object\n",
      "Profit                  7757 non-null object\n",
      "Unit_Price              7757 non-null float64\n",
      "Shipping_Cost           7757 non-null object\n",
      "Customer_Name           7757 non-null object\n",
      "Province                7757 non-null object\n",
      "Region                  7757 non-null object\n",
      "Customer_Segment        7757 non-null object\n",
      "Product_Category        7757 non-null object\n",
      "Product_Sub-Category    7757 non-null object\n",
      "Product_Name            7757 non-null object\n",
      "Product_Container       7757 non-null object\n",
      "Ship_Date               7757 non-null object\n",
      "dtypes: float64(3), object(16)\n",
      "memory usage: 1.1+ MB\n"
     ]
    }
   ],
   "source": [
    "data.info()"
   ]
  },
  {
   "cell_type": "code",
   "execution_count": 26,
   "metadata": {},
   "outputs": [
    {
     "data": {
      "text/html": [
       "<div>\n",
       "<style scoped>\n",
       "    .dataframe tbody tr th:only-of-type {\n",
       "        vertical-align: middle;\n",
       "    }\n",
       "\n",
       "    .dataframe tbody tr th {\n",
       "        vertical-align: top;\n",
       "    }\n",
       "\n",
       "    .dataframe thead th {\n",
       "        text-align: right;\n",
       "    }\n",
       "</style>\n",
       "<table border=\"1\" class=\"dataframe\">\n",
       "  <thead>\n",
       "    <tr style=\"text-align: right;\">\n",
       "      <th></th>\n",
       "      <th>Order_ID</th>\n",
       "      <th>Order_Date</th>\n",
       "      <th>Order_Priority</th>\n",
       "      <th>Order_Quantity</th>\n",
       "      <th>Sales</th>\n",
       "      <th>Discount</th>\n",
       "      <th>Ship_Mode</th>\n",
       "      <th>Profit</th>\n",
       "      <th>Unit_Price</th>\n",
       "      <th>Shipping_Cost</th>\n",
       "      <th>Customer_Name</th>\n",
       "      <th>Province</th>\n",
       "      <th>Region</th>\n",
       "      <th>Customer_Segment</th>\n",
       "      <th>Product_Category</th>\n",
       "      <th>Product_Sub-Category</th>\n",
       "      <th>Product_Name</th>\n",
       "      <th>Product_Container</th>\n",
       "      <th>Ship_Date</th>\n",
       "    </tr>\n",
       "  </thead>\n",
       "  <tbody>\n",
       "    <tr>\n",
       "      <th>0</th>\n",
       "      <td>3</td>\n",
       "      <td>Male</td>\n",
       "      <td>Low</td>\n",
       "      <td>6</td>\n",
       "      <td>261.54</td>\n",
       "      <td>0.04</td>\n",
       "      <td>Regular Air</td>\n",
       "      <td>-213.25</td>\n",
       "      <td>38.94</td>\n",
       "      <td>35</td>\n",
       "      <td>25000</td>\n",
       "      <td>Nunavut</td>\n",
       "      <td>Nunavut</td>\n",
       "      <td>Small Business</td>\n",
       "      <td>Office Supplies</td>\n",
       "      <td>Storage &amp; Organization</td>\n",
       "      <td>Eldon Base for stackable storage shelf, platinum</td>\n",
       "      <td>Large Box</td>\n",
       "      <td>#VALUE!</td>\n",
       "    </tr>\n",
       "    <tr>\n",
       "      <th>1</th>\n",
       "      <td>293</td>\n",
       "      <td>10/1/2012</td>\n",
       "      <td>High</td>\n",
       "      <td>49</td>\n",
       "      <td>10123.02</td>\n",
       "      <td>0.07</td>\n",
       "      <td>Delivery Truck</td>\n",
       "      <td>457.81</td>\n",
       "      <td>208.16</td>\n",
       "      <td>68.02</td>\n",
       "      <td>Barry French</td>\n",
       "      <td>Nunavut</td>\n",
       "      <td>Nunavut</td>\n",
       "      <td>Consumer</td>\n",
       "      <td>Office Supplies</td>\n",
       "      <td>Appliances</td>\n",
       "      <td>1.7 Cubic Foot Compact \"Cube\" Office Refrigera...</td>\n",
       "      <td>Jumbo Drum</td>\n",
       "      <td>10/2/2012</td>\n",
       "    </tr>\n",
       "    <tr>\n",
       "      <th>2</th>\n",
       "      <td>293</td>\n",
       "      <td>10/1/2012</td>\n",
       "      <td>High</td>\n",
       "      <td>27</td>\n",
       "      <td>244.57</td>\n",
       "      <td>0.01</td>\n",
       "      <td>Regular Air</td>\n",
       "      <td>46.71</td>\n",
       "      <td>8.69</td>\n",
       "      <td>2.99</td>\n",
       "      <td>Barry French</td>\n",
       "      <td>Nunavut</td>\n",
       "      <td>Nunavut</td>\n",
       "      <td>Consumer</td>\n",
       "      <td>Office Supplies</td>\n",
       "      <td>Binders and Binder Accessories</td>\n",
       "      <td>Cardinal Slant-D® Ring Binder, Heavy Gauge Vinyl</td>\n",
       "      <td>Small Box</td>\n",
       "      <td>10/3/2012</td>\n",
       "    </tr>\n",
       "    <tr>\n",
       "      <th>3</th>\n",
       "      <td>515</td>\n",
       "      <td>8/28/2010</td>\n",
       "      <td>Not Specified</td>\n",
       "      <td>19</td>\n",
       "      <td>394.27</td>\n",
       "      <td>0.08</td>\n",
       "      <td>Regular Air</td>\n",
       "      <td>30.94</td>\n",
       "      <td>21.78</td>\n",
       "      <td>5.94</td>\n",
       "      <td>Carlos Soltero</td>\n",
       "      <td>Nunavut</td>\n",
       "      <td>Nunavut</td>\n",
       "      <td>Consumer</td>\n",
       "      <td>Office Supplies</td>\n",
       "      <td>Appliances</td>\n",
       "      <td>Holmes HEPA Air Purifier</td>\n",
       "      <td>Medium Box</td>\n",
       "      <td>8/30/2010</td>\n",
       "    </tr>\n",
       "    <tr>\n",
       "      <th>4</th>\n",
       "      <td>613</td>\n",
       "      <td>6/17/2011</td>\n",
       "      <td>High</td>\n",
       "      <td>12</td>\n",
       "      <td>93.54</td>\n",
       "      <td>0.03</td>\n",
       "      <td>Regular Air</td>\n",
       "      <td>-54.04</td>\n",
       "      <td>7.30</td>\n",
       "      <td>7.72</td>\n",
       "      <td>Carl Jackson</td>\n",
       "      <td>Nunavut</td>\n",
       "      <td>Nunavut</td>\n",
       "      <td>Corporate</td>\n",
       "      <td>Office Supplies</td>\n",
       "      <td>Binders and Binder Accessories</td>\n",
       "      <td>Angle-D Binders with Locking Rings, Label Holders</td>\n",
       "      <td>Small Box</td>\n",
       "      <td>6/17/2011</td>\n",
       "    </tr>\n",
       "    <tr>\n",
       "      <th>5</th>\n",
       "      <td>613</td>\n",
       "      <td>6/17/2011</td>\n",
       "      <td>High</td>\n",
       "      <td>22</td>\n",
       "      <td>905.08</td>\n",
       "      <td>0.09</td>\n",
       "      <td>Regular Air</td>\n",
       "      <td>ASD127.7</td>\n",
       "      <td>42.76</td>\n",
       "      <td>6.22</td>\n",
       "      <td>Carl Jackson</td>\n",
       "      <td>Nunavut</td>\n",
       "      <td>Nunavut</td>\n",
       "      <td>Corporate</td>\n",
       "      <td>Office Supplies</td>\n",
       "      <td>Storage &amp; Organization</td>\n",
       "      <td>SAFCO Mobile Desk Side File, Wire Frame</td>\n",
       "      <td>Small Box</td>\n",
       "      <td>6/18/2011</td>\n",
       "    </tr>\n",
       "    <tr>\n",
       "      <th>6</th>\n",
       "      <td>643</td>\n",
       "      <td>3/24/2011</td>\n",
       "      <td>High</td>\n",
       "      <td>21</td>\n",
       "      <td>2781.82</td>\n",
       "      <td>0.07</td>\n",
       "      <td>Express Air</td>\n",
       "      <td>-695.26</td>\n",
       "      <td>138.14</td>\n",
       "      <td>35</td>\n",
       "      <td>Monica Federle</td>\n",
       "      <td>Nunavut</td>\n",
       "      <td>Nunavut</td>\n",
       "      <td>Corporate</td>\n",
       "      <td>Office Supplies</td>\n",
       "      <td>Storage &amp; Organization</td>\n",
       "      <td>SAFCO Commercial Wire Shelving, Black</td>\n",
       "      <td>Large Box</td>\n",
       "      <td>3/25/2011</td>\n",
       "    </tr>\n",
       "    <tr>\n",
       "      <th>7</th>\n",
       "      <td>678</td>\n",
       "      <td>2/26/2010</td>\n",
       "      <td>Low</td>\n",
       "      <td>ABC</td>\n",
       "      <td>228.41</td>\n",
       "      <td>0.07</td>\n",
       "      <td>Regular Air</td>\n",
       "      <td>-226.36</td>\n",
       "      <td>4.98</td>\n",
       "      <td>8.33</td>\n",
       "      <td>Dorothy Badders</td>\n",
       "      <td>Nunavut</td>\n",
       "      <td>Nunavut</td>\n",
       "      <td>Home Office</td>\n",
       "      <td>Office Supplies</td>\n",
       "      <td>Paper</td>\n",
       "      <td>Xerox 198</td>\n",
       "      <td>Small Box</td>\n",
       "      <td>2/26/2010</td>\n",
       "    </tr>\n",
       "    <tr>\n",
       "      <th>8</th>\n",
       "      <td>807</td>\n",
       "      <td>11/23/2010</td>\n",
       "      <td>Medium</td>\n",
       "      <td>45</td>\n",
       "      <td>196.85</td>\n",
       "      <td>0.01</td>\n",
       "      <td>Regular Air</td>\n",
       "      <td>-166.85</td>\n",
       "      <td>4.28</td>\n",
       "      <td>6.18</td>\n",
       "      <td>Neola Schneider</td>\n",
       "      <td>Nunavut</td>\n",
       "      <td>Nunavut</td>\n",
       "      <td>Home Office</td>\n",
       "      <td>Office Supplies</td>\n",
       "      <td>Paper</td>\n",
       "      <td>Xerox 1980</td>\n",
       "      <td>Small Box</td>\n",
       "      <td>11/24/2010</td>\n",
       "    </tr>\n",
       "    <tr>\n",
       "      <th>9</th>\n",
       "      <td>807</td>\n",
       "      <td>11/23/2010</td>\n",
       "      <td>Medium</td>\n",
       "      <td>32</td>\n",
       "      <td>124.56</td>\n",
       "      <td>0.04</td>\n",
       "      <td>Regular Air</td>\n",
       "      <td>-14.33</td>\n",
       "      <td>3.95</td>\n",
       "      <td>BCD</td>\n",
       "      <td>Neola Schneider</td>\n",
       "      <td>Nunavut</td>\n",
       "      <td>Nunavut</td>\n",
       "      <td>Home Office</td>\n",
       "      <td>Office Supplies</td>\n",
       "      <td>Rubber Bands</td>\n",
       "      <td>Advantus Map Pennant Flags and Round Head Tacks</td>\n",
       "      <td>Wrap Bag</td>\n",
       "      <td>11/24/2010</td>\n",
       "    </tr>\n",
       "  </tbody>\n",
       "</table>\n",
       "</div>"
      ],
      "text/plain": [
       "  Order_ID  Order_Date Order_Priority Order_Quantity     Sales  Discount  \\\n",
       "0        3        Male            Low              6    261.54      0.04   \n",
       "1      293   10/1/2012           High             49  10123.02      0.07   \n",
       "2      293   10/1/2012           High             27    244.57      0.01   \n",
       "3      515   8/28/2010  Not Specified             19    394.27      0.08   \n",
       "4      613   6/17/2011           High             12     93.54      0.03   \n",
       "5      613   6/17/2011           High             22    905.08      0.09   \n",
       "6      643   3/24/2011           High             21   2781.82      0.07   \n",
       "7      678   2/26/2010            Low            ABC    228.41      0.07   \n",
       "8      807  11/23/2010         Medium             45    196.85      0.01   \n",
       "9      807  11/23/2010         Medium             32    124.56      0.04   \n",
       "\n",
       "        Ship_Mode    Profit  Unit_Price Shipping_Cost    Customer_Name  \\\n",
       "0     Regular Air   -213.25       38.94            35            25000   \n",
       "1  Delivery Truck    457.81      208.16         68.02     Barry French   \n",
       "2     Regular Air     46.71        8.69          2.99     Barry French   \n",
       "3     Regular Air     30.94       21.78          5.94   Carlos Soltero   \n",
       "4     Regular Air    -54.04        7.30          7.72     Carl Jackson   \n",
       "5     Regular Air  ASD127.7       42.76          6.22     Carl Jackson   \n",
       "6     Express Air   -695.26      138.14            35   Monica Federle   \n",
       "7     Regular Air   -226.36        4.98          8.33  Dorothy Badders   \n",
       "8     Regular Air   -166.85        4.28          6.18  Neola Schneider   \n",
       "9     Regular Air    -14.33        3.95           BCD  Neola Schneider   \n",
       "\n",
       "  Province   Region Customer_Segment Product_Category  \\\n",
       "0  Nunavut  Nunavut   Small Business  Office Supplies   \n",
       "1  Nunavut  Nunavut         Consumer  Office Supplies   \n",
       "2  Nunavut  Nunavut         Consumer  Office Supplies   \n",
       "3  Nunavut  Nunavut         Consumer  Office Supplies   \n",
       "4  Nunavut  Nunavut        Corporate  Office Supplies   \n",
       "5  Nunavut  Nunavut        Corporate  Office Supplies   \n",
       "6  Nunavut  Nunavut        Corporate  Office Supplies   \n",
       "7  Nunavut  Nunavut      Home Office  Office Supplies   \n",
       "8  Nunavut  Nunavut      Home Office  Office Supplies   \n",
       "9  Nunavut  Nunavut      Home Office  Office Supplies   \n",
       "\n",
       "             Product_Sub-Category  \\\n",
       "0          Storage & Organization   \n",
       "1                      Appliances   \n",
       "2  Binders and Binder Accessories   \n",
       "3                      Appliances   \n",
       "4  Binders and Binder Accessories   \n",
       "5          Storage & Organization   \n",
       "6          Storage & Organization   \n",
       "7                           Paper   \n",
       "8                           Paper   \n",
       "9                    Rubber Bands   \n",
       "\n",
       "                                        Product_Name Product_Container  \\\n",
       "0   Eldon Base for stackable storage shelf, platinum         Large Box   \n",
       "1  1.7 Cubic Foot Compact \"Cube\" Office Refrigera...        Jumbo Drum   \n",
       "2   Cardinal Slant-D® Ring Binder, Heavy Gauge Vinyl         Small Box   \n",
       "3                           Holmes HEPA Air Purifier        Medium Box   \n",
       "4  Angle-D Binders with Locking Rings, Label Holders         Small Box   \n",
       "5            SAFCO Mobile Desk Side File, Wire Frame         Small Box   \n",
       "6              SAFCO Commercial Wire Shelving, Black         Large Box   \n",
       "7                                          Xerox 198         Small Box   \n",
       "8                                         Xerox 1980         Small Box   \n",
       "9    Advantus Map Pennant Flags and Round Head Tacks          Wrap Bag   \n",
       "\n",
       "    Ship_Date  \n",
       "0     #VALUE!  \n",
       "1   10/2/2012  \n",
       "2   10/3/2012  \n",
       "3   8/30/2010  \n",
       "4   6/17/2011  \n",
       "5   6/18/2011  \n",
       "6   3/25/2011  \n",
       "7   2/26/2010  \n",
       "8  11/24/2010  \n",
       "9  11/24/2010  "
      ]
     },
     "execution_count": 26,
     "metadata": {},
     "output_type": "execute_result"
    }
   ],
   "source": [
    "data.head(10)"
   ]
  },
  {
   "cell_type": "code",
   "execution_count": 27,
   "metadata": {},
   "outputs": [
    {
     "data": {
      "text/html": [
       "<div>\n",
       "<style scoped>\n",
       "    .dataframe tbody tr th:only-of-type {\n",
       "        vertical-align: middle;\n",
       "    }\n",
       "\n",
       "    .dataframe tbody tr th {\n",
       "        vertical-align: top;\n",
       "    }\n",
       "\n",
       "    .dataframe thead th {\n",
       "        text-align: right;\n",
       "    }\n",
       "</style>\n",
       "<table border=\"1\" class=\"dataframe\">\n",
       "  <thead>\n",
       "    <tr style=\"text-align: right;\">\n",
       "      <th></th>\n",
       "      <th>Order_ID</th>\n",
       "      <th>Order_Date</th>\n",
       "      <th>Order_Priority</th>\n",
       "      <th>Order_Quantity</th>\n",
       "      <th>Sales</th>\n",
       "      <th>Discount</th>\n",
       "      <th>Ship_Mode</th>\n",
       "      <th>Profit</th>\n",
       "      <th>Unit_Price</th>\n",
       "      <th>Shipping_Cost</th>\n",
       "      <th>Customer_Name</th>\n",
       "      <th>Province</th>\n",
       "      <th>Region</th>\n",
       "      <th>Customer_Segment</th>\n",
       "      <th>Product_Category</th>\n",
       "      <th>Product_Sub-Category</th>\n",
       "      <th>Product_Name</th>\n",
       "      <th>Product_Container</th>\n",
       "      <th>Ship_Date</th>\n",
       "    </tr>\n",
       "  </thead>\n",
       "  <tbody>\n",
       "    <tr>\n",
       "      <th>7747</th>\n",
       "      <td>46212</td>\n",
       "      <td>9/12/2012</td>\n",
       "      <td>Not Specified</td>\n",
       "      <td>43</td>\n",
       "      <td>322.4700</td>\n",
       "      <td>0.09</td>\n",
       "      <td>Express Air</td>\n",
       "      <td>72.28</td>\n",
       "      <td>7.78</td>\n",
       "      <td>2.5</td>\n",
       "      <td>Grant Donatelli</td>\n",
       "      <td>Alberta</td>\n",
       "      <td>West</td>\n",
       "      <td>Consumer</td>\n",
       "      <td>Office Supplies</td>\n",
       "      <td>Envelopes</td>\n",
       "      <td>Staples #10 Colored Envelopes</td>\n",
       "      <td>Small Box</td>\n",
       "      <td>9/14/2012</td>\n",
       "    </tr>\n",
       "    <tr>\n",
       "      <th>7748</th>\n",
       "      <td>46437</td>\n",
       "      <td>9/15/2009</td>\n",
       "      <td>Medium</td>\n",
       "      <td>49</td>\n",
       "      <td>1488.6600</td>\n",
       "      <td>0.00</td>\n",
       "      <td>Regular Air</td>\n",
       "      <td>385.37</td>\n",
       "      <td>29.34</td>\n",
       "      <td>7.87</td>\n",
       "      <td>Mick Brown</td>\n",
       "      <td>Alberta</td>\n",
       "      <td>West</td>\n",
       "      <td>Consumer</td>\n",
       "      <td>Furniture</td>\n",
       "      <td>Office Furnishings</td>\n",
       "      <td>Seth Thomas 14\" Putty-Colored Wall Clock</td>\n",
       "      <td>Small Box</td>\n",
       "      <td>9/17/2009</td>\n",
       "    </tr>\n",
       "    <tr>\n",
       "      <th>7749</th>\n",
       "      <td>47360</td>\n",
       "      <td>10/8/2010</td>\n",
       "      <td>Not Specified</td>\n",
       "      <td>25</td>\n",
       "      <td>2200.6400</td>\n",
       "      <td>0.05</td>\n",
       "      <td>Delivery Truck</td>\n",
       "      <td>-514.18</td>\n",
       "      <td>89.99</td>\n",
       "      <td>42</td>\n",
       "      <td>Frank Hawley</td>\n",
       "      <td>Alberta</td>\n",
       "      <td>West</td>\n",
       "      <td>Home Office</td>\n",
       "      <td>Furniture</td>\n",
       "      <td>Chairs &amp; Chairmats</td>\n",
       "      <td>Global Leather Task Chair, Black</td>\n",
       "      <td>Jumbo Drum</td>\n",
       "      <td>10/10/2010</td>\n",
       "    </tr>\n",
       "    <tr>\n",
       "      <th>7750</th>\n",
       "      <td>52706</td>\n",
       "      <td>7/9/2012</td>\n",
       "      <td>Low</td>\n",
       "      <td>34</td>\n",
       "      <td>1041.6600</td>\n",
       "      <td>0.02</td>\n",
       "      <td>Express Air</td>\n",
       "      <td>480.53</td>\n",
       "      <td>28.53</td>\n",
       "      <td>1.49</td>\n",
       "      <td>Harry Greene</td>\n",
       "      <td>Alberta</td>\n",
       "      <td>West</td>\n",
       "      <td>Corporate</td>\n",
       "      <td>Office Supplies</td>\n",
       "      <td>Binders and Binder Accessories</td>\n",
       "      <td>Lock-Up Easel 'Spel-Binder'</td>\n",
       "      <td>Small Box</td>\n",
       "      <td>7/16/2012</td>\n",
       "    </tr>\n",
       "    <tr>\n",
       "      <th>7751</th>\n",
       "      <td>54279</td>\n",
       "      <td>7/30/2011</td>\n",
       "      <td>High</td>\n",
       "      <td>41</td>\n",
       "      <td>10071.0900</td>\n",
       "      <td>0.10</td>\n",
       "      <td>Delivery Truck</td>\n",
       "      <td>1977.69</td>\n",
       "      <td>264.98</td>\n",
       "      <td>17.86</td>\n",
       "      <td>Harry Greene</td>\n",
       "      <td>Alberta</td>\n",
       "      <td>West</td>\n",
       "      <td>Corporate</td>\n",
       "      <td>Technology</td>\n",
       "      <td>Office Machines</td>\n",
       "      <td>Panasonic KX-P1131 Dot Matrix Printer</td>\n",
       "      <td>Jumbo Drum</td>\n",
       "      <td>7/31/2011</td>\n",
       "    </tr>\n",
       "    <tr>\n",
       "      <th>7752</th>\n",
       "      <td>55558</td>\n",
       "      <td>8/9/2010</td>\n",
       "      <td>Medium</td>\n",
       "      <td>8</td>\n",
       "      <td>1294.0400</td>\n",
       "      <td>0.05</td>\n",
       "      <td>Delivery Truck</td>\n",
       "      <td>-323.18</td>\n",
       "      <td>150.98</td>\n",
       "      <td>66.27</td>\n",
       "      <td>Mick Brown</td>\n",
       "      <td>Alberta</td>\n",
       "      <td>West</td>\n",
       "      <td>Consumer</td>\n",
       "      <td>Furniture</td>\n",
       "      <td>Bookcases</td>\n",
       "      <td>Bush Mission Pointe Library</td>\n",
       "      <td>Jumbo Box</td>\n",
       "      <td>8/9/2010</td>\n",
       "    </tr>\n",
       "    <tr>\n",
       "      <th>7753</th>\n",
       "      <td>55558</td>\n",
       "      <td>8/9/2010</td>\n",
       "      <td>Medium</td>\n",
       "      <td>23</td>\n",
       "      <td>392.5700</td>\n",
       "      <td>0.04</td>\n",
       "      <td>Regular Air</td>\n",
       "      <td>22.25</td>\n",
       "      <td>17.07</td>\n",
       "      <td>8.13</td>\n",
       "      <td>Mick Brown</td>\n",
       "      <td>Alberta</td>\n",
       "      <td>West</td>\n",
       "      <td>Consumer</td>\n",
       "      <td>Office Supplies</td>\n",
       "      <td>Envelopes</td>\n",
       "      <td>Recycled Interoffice Envelopes with Re-Use-A-S...</td>\n",
       "      <td>Small Box</td>\n",
       "      <td>8/11/2010</td>\n",
       "    </tr>\n",
       "    <tr>\n",
       "      <th>7754</th>\n",
       "      <td>56550</td>\n",
       "      <td>4/8/2011</td>\n",
       "      <td>Not Specified</td>\n",
       "      <td>37</td>\n",
       "      <td>823.7800</td>\n",
       "      <td>0.03</td>\n",
       "      <td>Express Air</td>\n",
       "      <td>343.05</td>\n",
       "      <td>22.23</td>\n",
       "      <td>5.08</td>\n",
       "      <td>Frank Hawley</td>\n",
       "      <td>Alberta</td>\n",
       "      <td>West</td>\n",
       "      <td>Home Office</td>\n",
       "      <td>Furniture</td>\n",
       "      <td>Office Furnishings</td>\n",
       "      <td>Executive Impressions 14\"</td>\n",
       "      <td>Small Pack</td>\n",
       "      <td>4/10/2011</td>\n",
       "    </tr>\n",
       "    <tr>\n",
       "      <th>7755</th>\n",
       "      <td>56550</td>\n",
       "      <td>4/8/2011</td>\n",
       "      <td>Not Specified</td>\n",
       "      <td>8</td>\n",
       "      <td>469.8375</td>\n",
       "      <td>0.00</td>\n",
       "      <td>Regular Air</td>\n",
       "      <td>-159.24</td>\n",
       "      <td>65.99</td>\n",
       "      <td>8.99</td>\n",
       "      <td>Frank Hawley</td>\n",
       "      <td>Alberta</td>\n",
       "      <td>West</td>\n",
       "      <td>Home Office</td>\n",
       "      <td>Technology</td>\n",
       "      <td>Telephones and Communication</td>\n",
       "      <td>Talkabout T8367</td>\n",
       "      <td>Small Box</td>\n",
       "      <td>4/9/2011</td>\n",
       "    </tr>\n",
       "    <tr>\n",
       "      <th>7756</th>\n",
       "      <td>56581</td>\n",
       "      <td>2/8/2009</td>\n",
       "      <td>High</td>\n",
       "      <td>20</td>\n",
       "      <td>2026.0100</td>\n",
       "      <td>0.10</td>\n",
       "      <td>Express Air</td>\n",
       "      <td>580.43</td>\n",
       "      <td>105.98</td>\n",
       "      <td>13.99</td>\n",
       "      <td>Grant Donatelli</td>\n",
       "      <td>Alberta</td>\n",
       "      <td>West</td>\n",
       "      <td>Consumer</td>\n",
       "      <td>Furniture</td>\n",
       "      <td>Office Furnishings</td>\n",
       "      <td>Tenex 46\" x 60\" Computer Anti-Static Chairmat,...</td>\n",
       "      <td>Medium Box</td>\n",
       "      <td>2/11/2009</td>\n",
       "    </tr>\n",
       "  </tbody>\n",
       "</table>\n",
       "</div>"
      ],
      "text/plain": [
       "     Order_ID Order_Date Order_Priority Order_Quantity       Sales  Discount  \\\n",
       "7747    46212  9/12/2012  Not Specified             43    322.4700      0.09   \n",
       "7748    46437  9/15/2009         Medium             49   1488.6600      0.00   \n",
       "7749    47360  10/8/2010  Not Specified             25   2200.6400      0.05   \n",
       "7750    52706   7/9/2012            Low             34   1041.6600      0.02   \n",
       "7751    54279  7/30/2011           High             41  10071.0900      0.10   \n",
       "7752    55558   8/9/2010         Medium              8   1294.0400      0.05   \n",
       "7753    55558   8/9/2010         Medium             23    392.5700      0.04   \n",
       "7754    56550   4/8/2011  Not Specified             37    823.7800      0.03   \n",
       "7755    56550   4/8/2011  Not Specified              8    469.8375      0.00   \n",
       "7756    56581   2/8/2009           High             20   2026.0100      0.10   \n",
       "\n",
       "           Ship_Mode   Profit  Unit_Price Shipping_Cost    Customer_Name  \\\n",
       "7747     Express Air    72.28        7.78           2.5  Grant Donatelli   \n",
       "7748     Regular Air   385.37       29.34          7.87       Mick Brown   \n",
       "7749  Delivery Truck  -514.18       89.99            42     Frank Hawley   \n",
       "7750     Express Air   480.53       28.53          1.49     Harry Greene   \n",
       "7751  Delivery Truck  1977.69      264.98         17.86     Harry Greene   \n",
       "7752  Delivery Truck  -323.18      150.98         66.27       Mick Brown   \n",
       "7753     Regular Air    22.25       17.07          8.13       Mick Brown   \n",
       "7754     Express Air   343.05       22.23          5.08     Frank Hawley   \n",
       "7755     Regular Air  -159.24       65.99          8.99     Frank Hawley   \n",
       "7756     Express Air   580.43      105.98         13.99  Grant Donatelli   \n",
       "\n",
       "     Province Region Customer_Segment Product_Category  \\\n",
       "7747  Alberta   West         Consumer  Office Supplies   \n",
       "7748  Alberta   West         Consumer        Furniture   \n",
       "7749  Alberta   West      Home Office        Furniture   \n",
       "7750  Alberta   West        Corporate  Office Supplies   \n",
       "7751  Alberta   West        Corporate       Technology   \n",
       "7752  Alberta   West         Consumer        Furniture   \n",
       "7753  Alberta   West         Consumer  Office Supplies   \n",
       "7754  Alberta   West      Home Office        Furniture   \n",
       "7755  Alberta   West      Home Office       Technology   \n",
       "7756  Alberta   West         Consumer        Furniture   \n",
       "\n",
       "                Product_Sub-Category  \\\n",
       "7747                       Envelopes   \n",
       "7748              Office Furnishings   \n",
       "7749              Chairs & Chairmats   \n",
       "7750  Binders and Binder Accessories   \n",
       "7751                 Office Machines   \n",
       "7752                       Bookcases   \n",
       "7753                       Envelopes   \n",
       "7754              Office Furnishings   \n",
       "7755    Telephones and Communication   \n",
       "7756              Office Furnishings   \n",
       "\n",
       "                                           Product_Name Product_Container  \\\n",
       "7747                      Staples #10 Colored Envelopes         Small Box   \n",
       "7748           Seth Thomas 14\" Putty-Colored Wall Clock         Small Box   \n",
       "7749                   Global Leather Task Chair, Black        Jumbo Drum   \n",
       "7750                        Lock-Up Easel 'Spel-Binder'         Small Box   \n",
       "7751              Panasonic KX-P1131 Dot Matrix Printer        Jumbo Drum   \n",
       "7752                        Bush Mission Pointe Library         Jumbo Box   \n",
       "7753  Recycled Interoffice Envelopes with Re-Use-A-S...         Small Box   \n",
       "7754                          Executive Impressions 14\"        Small Pack   \n",
       "7755                                    Talkabout T8367         Small Box   \n",
       "7756  Tenex 46\" x 60\" Computer Anti-Static Chairmat,...        Medium Box   \n",
       "\n",
       "       Ship_Date  \n",
       "7747   9/14/2012  \n",
       "7748   9/17/2009  \n",
       "7749  10/10/2010  \n",
       "7750   7/16/2012  \n",
       "7751   7/31/2011  \n",
       "7752    8/9/2010  \n",
       "7753   8/11/2010  \n",
       "7754   4/10/2011  \n",
       "7755    4/9/2011  \n",
       "7756   2/11/2009  "
      ]
     },
     "execution_count": 27,
     "metadata": {},
     "output_type": "execute_result"
    }
   ],
   "source": [
    "data.tail(10)"
   ]
  },
  {
   "cell_type": "code",
   "execution_count": 28,
   "metadata": {},
   "outputs": [],
   "source": [
    "#Order_Priority\n",
    "count=0\n",
    "for i in data['Order_Priority']:\n",
    "    if (any(x.isalpha() for x in i)):\n",
    "        pass\n",
    "    else:\n",
    "        data.loc[count,'Order_Priority']=np.nan\n",
    "    count+=1"
   ]
  },
  {
   "cell_type": "code",
   "execution_count": 29,
   "metadata": {},
   "outputs": [],
   "source": [
    "#Order_Date\n",
    "count=0\n",
    "for i in data['Order_Date']:\n",
    "    if (any(x.isalpha() for x in i)):\n",
    "        data.loc[count,'Order_Date']=np.nan\n",
    "    count+=1"
   ]
  },
  {
   "cell_type": "code",
   "execution_count": 30,
   "metadata": {},
   "outputs": [
    {
     "data": {
      "text/plain": [
       "array(['6', '49', '27', '19', '12', '22', '21', 'ABC', '45', '32', '31',\n",
       "       '15', '46', '16', '44', '11', 'XYZ15', '18', '13', '33', '38',\n",
       "       '30', '23', '25', '28', '10', '39', '24', '47', '5', '8', '9',\n",
       "       '50', '3', '7', '42', '40', '41', '37', '4', '35', '36', '34', '1',\n",
       "       '29', '20', '14', '48', '26', '17', '2', '43', 'Female',\n",
       "       'Teenager', 'Old'], dtype=object)"
      ]
     },
     "execution_count": 30,
     "metadata": {},
     "output_type": "execute_result"
    }
   ],
   "source": [
    "data['Order_Quantity'].unique()"
   ]
  },
  {
   "cell_type": "code",
   "execution_count": 31,
   "metadata": {},
   "outputs": [],
   "source": [
    "#Order_Quantity\n",
    "count=0\n",
    "for i in data['Order_Quantity']:\n",
    "    if (any(x.isalpha() for x in i)):\n",
    "        data.loc[count,'Order_Quantity']=np.nan\n",
    "    count+=1"
   ]
  },
  {
   "cell_type": "code",
   "execution_count": 32,
   "metadata": {},
   "outputs": [
    {
     "data": {
      "text/plain": [
       "array(['Regular Air', 'Delivery Truck', 'Express Air'], dtype=object)"
      ]
     },
     "execution_count": 32,
     "metadata": {},
     "output_type": "execute_result"
    }
   ],
   "source": [
    "data['Ship_Mode'].unique()"
   ]
  },
  {
   "cell_type": "code",
   "execution_count": 33,
   "metadata": {},
   "outputs": [],
   "source": [
    "#Profit\n",
    "count=0\n",
    "for i in data['Profit']:\n",
    "    if (any(x.isalpha() for x in i)):\n",
    "        data.loc[count,'Profit']=np.nan\n",
    "    count+=1"
   ]
  },
  {
   "cell_type": "code",
   "execution_count": 34,
   "metadata": {},
   "outputs": [],
   "source": [
    "data['Profit']=data['Profit'].astype('float')"
   ]
  },
  {
   "cell_type": "code",
   "execution_count": null,
   "metadata": {},
   "outputs": [],
   "source": []
  },
  {
   "cell_type": "code",
   "execution_count": 35,
   "metadata": {},
   "outputs": [],
   "source": [
    "#Shipping_Cost\n",
    "count=0\n",
    "for i in data['Shipping_Cost']:\n",
    "    if (any(x.isalpha() for x in i)):\n",
    "        data.loc[count,'Shipping_Cost']=np.nan\n",
    "    count+=1"
   ]
  },
  {
   "cell_type": "code",
   "execution_count": 36,
   "metadata": {},
   "outputs": [],
   "source": [
    "data['Shipping_Cost']=data['Shipping_Cost'].astype('float')"
   ]
  },
  {
   "cell_type": "code",
   "execution_count": 37,
   "metadata": {},
   "outputs": [
    {
     "data": {
      "text/plain": [
       "array(['25000', 'Barry French', 'Carlos Soltero', 'Carl Jackson',\n",
       "       'Monica Federle', 'Dorothy Badders', 'Neola Schneider', '25',\n",
       "       'Carlos Daly', 'Claudia Miner', 'Allen Rosenblatt', '-567',\n",
       "       'Sylvia Foulston', 'Jim Radford', 'Carl Ludwig', 'Don Miller',\n",
       "       'Annie Cyprus', 'Grant Carroll', 'Alan Barnes', 'Jack Garza',\n",
       "       'Julia West', 'Eugene Barchas', 'Edward Hooks', 'Brad Eason',\n",
       "       'Nicole Hansen', 'Dorothy Wardle', 'Aaron Bergman',\n",
       "       'Clay Rozendal', 'Don Jones', 'Beth Thompson', 'Frank Price',\n",
       "       'Michelle Lonsdale', 'Ann Chong', 'Joy Bell', 'Skye Norling',\n",
       "       'Barry Weirich', 'Adrian Hane', 'Andrew Gjertsen', 'Ralph Knight',\n",
       "       'Beth Paige', 'Bryan Davis', 'Delfina Latchford', 'Doug Bickford',\n",
       "       'Jamie Kunitz', 'Anthony Johnson', 'Brendan Dodson',\n",
       "       'Hunter Glantz', 'Muhammed MacIntyre', 'Thomas Seio',\n",
       "       'Becky Castell', 'Cari Schnelling', 'Chad Cunningham',\n",
       "       'Bryan Mills', 'Rick Reed', 'Heather Kirkland', 'Fred Wasserman',\n",
       "       'Jack Lebron', 'Mike Pelletier', 'Charles McCrossin',\n",
       "       'Charlotte Melton', 'Henry Goldwyn', 'Roy Skaria',\n",
       "       'Jeremy Lonsdale', 'Cindy Schnelling', 'Susan Vittorini',\n",
       "       'Toby Braunhardt', 'Ralph Arnett', 'Harold Engle', 'Roy French',\n",
       "       'Helen Abelman', 'Guy Armstrong', 'Jennifer Braxton',\n",
       "       'Giulietta Baptist', 'Erica Bern', 'Christopher Schild',\n",
       "       'Joy Smith', 'Evan Minnotte', 'Jenna Caffey', 'Hilary Holden',\n",
       "       'Greg Guthrie', 'Dan Reichenbach', 'Paul Gonzalez',\n",
       "       'Filia McAdams', 'Chuck Magee', 'Frank Atkinson', 'Philip Brown',\n",
       "       'Jim Sink', 'Logan Haushalter', 'Noah Childs', 'Brian Moss',\n",
       "       'Julie Creighton', 'Sanjit Chand', 'Matt Collins', 'Justin Knight',\n",
       "       'Rob Haberlin', 'Christina Vanderzanden', 'Lena Cacioppo',\n",
       "       'Kimberly Carter', 'Gene Hale', 'Sally Knutson',\n",
       "       'Marina Lichtenstein', 'Michelle Arnett', 'Seth Vernon',\n",
       "       'Luke Weiss', 'Christina DeMoss', 'Sonia Sunley',\n",
       "       \"Anthony O'Donnell\", 'Emily Grady', 'Alex Avila', 'Anna Andreadi',\n",
       "       'Barbara Fisher', 'Kelly Williams', 'Jocasta Rupert',\n",
       "       'Rick Duston', 'Angele Hood', 'Dennis Bolton',\n",
       "       'Stewart Carmichael', 'Sarah Foster', 'Jim Karlsson',\n",
       "       'Lisa DeCherney', 'Peter Buhler', 'Daniel Lacy',\n",
       "       'Giulietta Weimer', 'Mike Vittorini', 'Lela Donovan',\n",
       "       'Shahid Shariari', 'Trudy Schmidt', 'Christopher Martinez',\n",
       "       'Marc Harrigan', 'Liz Price', 'Ralph Kennedy', 'Rob Dowd',\n",
       "       'Khloe Miller', 'Shahid Hopkins', 'Kristina Nunn',\n",
       "       'Ricardo Emerson', \"Patrick O'Brill\", 'Thomas Brumley',\n",
       "       'Vicky Freymann', 'Tony Chapman', 'Sarah Bern', 'Mark Cousins',\n",
       "       'Daniel Byrd', 'John Murray', 'Lena Hernandez', 'Greg Maxwell',\n",
       "       'Justin Hirsh', 'Heather Jas', 'Philisse Overcash', 'Neil Knudson',\n",
       "       'Cathy Armstrong', 'Chuck Clark', 'Bill Eplett', 'John Grady',\n",
       "       'Tanja Norvell', 'Paul MacIntyre', 'Matt Abelman', 'Sarah Jordon',\n",
       "       'Sally Matthias', 'Theone Pippenger', 'Art Ferguson',\n",
       "       \"Jack O'Briant\", 'Nathan Cano', 'Michael Granlund',\n",
       "       'Steve Carroll', 'Scott Williamson', 'Sean Wendt', 'John Castell',\n",
       "       'David Philippe', 'Chad Sievert', 'Shaun Weien', 'Maya Herman',\n",
       "       'Ivan Liston', 'Brad Norvell', 'Ken Heidel', 'Mike Kennedy',\n",
       "       'Charles Sheldon', 'Brian Derr', 'Roland Black', 'Dana Kaydos',\n",
       "       'Darren Koutras', 'Neil Ducich', 'Parhena Norris', 'Bart Watters',\n",
       "       \"Mary O'Rourke\", 'Hunter Lopez', 'Nathan Mautz', 'Aaron Smayling',\n",
       "       'Joel Jenkins', \"Meg O'Connel\", 'Hallie Redmond', 'Liz Thompson',\n",
       "       'Robert Waldorf', 'Helen Andreada', 'Julia Dunbar',\n",
       "       'Christine Sundaresam', 'Bruce Stewart', 'Guy Thornton',\n",
       "       'Mary Zewe', 'Ken Lonsdale', 'Maria Bertelson', 'Brian Thompson',\n",
       "       'Jason Gross', 'Katrina Bavinger', 'Ivan Gibson', 'Joseph Airdo',\n",
       "       'Lycoris Saunders', 'Dorothy Dickinson', 'Janet Molinari',\n",
       "       'Julie Prescott', 'Annie Thurman', 'Rob Beeghly', \"Doug O'Connell\",\n",
       "       'Craig Carroll', 'Liz MacKendrick', 'Christine Kargatis',\n",
       "       'Bobby Odegard', 'Russell Applegate', 'Bill Donatelli', '34',\n",
       "       'Duane Benoit', 'Harold Pawlan', 'Adam Bellavance', 'Cari Sayre',\n",
       "       \"Sean O'Donnell\", 'Sandra Glassco', 'Shirley Schmidt',\n",
       "       'Rick Wilson', 'Pauline Chand', 'Jennifer Halladay',\n",
       "       'Ritsa Hightower', 'Joni Blumstein', 'Pete Armstrong',\n",
       "       'Anna Gayman', 'Nat Gilpin', \"Rose O'Brian\", 'Daniel Raglin',\n",
       "       'Corinna Mitchell', 'Eva Jacobs', \"Jas O'Carroll\", 'Paul Prost',\n",
       "       'Michael Nguyen', 'Tamara Dahlen', 'Erin Creighton',\n",
       "       'Henry MacAllister', 'Candace McMahon', 'Tamara Chand',\n",
       "       'Duane Huffman', 'Edward Nazzal', 'Kelly Lampkin', 'Anthony Witt',\n",
       "       'Ted Trevino', 'Ed Ludwig', 'Jeremy Ellison', 'Alan Hwang',\n",
       "       'Eileen Kiefer', 'James Lanier', 'Edward Becker', 'Gary Zandusky',\n",
       "       'Ann Blume', 'Erin Smith', 'Allen Golden', 'Frank Carlisle',\n",
       "       'Gary Hansen', 'Nancy Lomonaco', 'Anna Haberlin', 'Erin Ashbrook',\n",
       "       'Darren Budd', 'Bill Stewart', 'Christine Phan',\n",
       "       'Eugene Hildebrand', 'Melanie Page', 'Jesus Ocampo',\n",
       "       'Darren Powers', 'Patrick Bzostek', 'Grace Kelly', 'Dan Lawera',\n",
       "       'George Ashbrook', 'Dave Hallsten', 'Arthur Wiediger',\n",
       "       'Jim Mitchum', 'Andy Yotov', 'Frank Hawley', 'Theresa Coyne',\n",
       "       'David Smith', 'Naresj Patel', 'Ruben Ausman', 'Larry Hughes',\n",
       "       'Magdelene Morse', 'Jonathan Howell', 'Linda Cazamias',\n",
       "       'Nat Carroll', 'Gary Mitchum', 'Matt Hagelstein', 'Andy Reiter',\n",
       "       'Mike Caudle', 'Cynthia Arntzen', 'Brian Stugart', 'George Bell',\n",
       "       'Joni Sundaresam', 'Michelle Huthwaite', 'Amy Cox',\n",
       "       'Cari MacIntyre', 'Eudokia Martin', 'Fred Hopkins', 'Aimee Bixby',\n",
       "       'Anemone Ratner', 'Chris Selesnick', 'Noel Staavos', 'Dean Braden',\n",
       "       'Lena Creighton', 'Matt Collister', 'Erica Smith', 'Janet Martin',\n",
       "       'Andrew Roberts', 'Michael Dominguez', 'Thomas Boland',\n",
       "       'Olvera Toch', 'Lena Radford', 'Sean Christensen', 'Todd Boyes',\n",
       "       'Sean Miller', 'Phillip Breyer', 'Michelle Ellison', 'Scot Coram',\n",
       "       'Natalie Fritzler', 'Nathan Gelder', 'Patricia Hirasaki',\n",
       "       'Maria Zettner', 'Matthew Clasen', \"Patrick O'Donnell\",\n",
       "       'Harry Marie', 'Victoria Wilson', 'Shahid Collister',\n",
       "       'Thea Hendricks', 'Corey Catlett', 'Ed Jacobs', 'Keith Herrera',\n",
       "       'Carlos Meador', 'Raymond Fair', 'Karl Brown', 'Natalie Webber',\n",
       "       'Eric Barreto', 'Barry Franz', 'Craig Yedwab', 'Chuck Sachs',\n",
       "       'Muhammed Lee', 'Bobby Trafton', 'David Flashing', 'Troy Staebel',\n",
       "       'Nora Paige', 'Harold Dahlen', 'Jay Fine', 'Dan Campbell',\n",
       "       'George Zrebassa', 'Eleni McCrary', 'Astrea Jones',\n",
       "       'Giulietta Dortch', 'Cathy Hwang', 'Damala Kotsonis',\n",
       "       'Dianna Arnett', 'Fred McMath', 'Christy Brittain', 'Tom Prescott',\n",
       "       'Yana Sorensen', 'Brad Thomas', 'Cynthia Voltz', 'Dean Percer',\n",
       "       'Ben Peterman', 'Tracy Poddar', 'Michael Paige', 'Corey Roper',\n",
       "       'Maureen Gastineau', 'Muhammed Yedwab', 'Alex Grayson',\n",
       "       'Chris Cortes', 'Sara Luxemburg', 'Eric Murdock', 'Paul Knutson',\n",
       "       'Nicole Brennan', 'Jennifer Patt', 'Elpida Rittenbach',\n",
       "       'David Wiener', 'Peter McVee', 'Karen Carlisle',\n",
       "       'Stefania Perrino', 'Paul Lucas', 'Evan Henry', 'Alyssa Tate',\n",
       "       'Michael Stewart', 'Shirley Jackson', 'Katherine Murray',\n",
       "       'Berenike Kampe', 'Erica Hernandez', 'Tony Molinari',\n",
       "       'Elizabeth Moffitt', 'Deanra Eno', 'Mark Packer', 'Alan Shonely',\n",
       "       'Katrina Willman', 'Anthony Garverick', 'Aaron Hawkins',\n",
       "       'Dave Poirier', 'Bradley Drucker', 'Mark Haberlin',\n",
       "       'Brendan Murry', 'Emily Burns', 'Michael Oakman',\n",
       "       'Deborah Brumfield', 'Robert Barroso', 'Darrin Sayre',\n",
       "       'Michael Kennedy', 'Marc Crier', 'Bobby Elias', 'Joni Wasserman',\n",
       "       'Karen Ferguson', 'Bradley Talbott', 'Julia Barnett', 'Emily Phan',\n",
       "       'Liz Willingham', 'Denise Leinenbach', 'Bill Tyler',\n",
       "       'Debra Catini', 'Becky Martin', 'Benjamin Venier', 'Bill Shonely',\n",
       "       'Pierre Wener', 'Julie Kriz', 'David Kendrick', 'Doug Jacobs',\n",
       "       'Luke Foster', 'Dianna Wilson', 'Michelle Tran', 'Sanjit Jacobs',\n",
       "       'Barry Gonzalez', 'Vivian Mathis', 'Carol Adams', 'Vivek Gonzalez',\n",
       "       'Bradley Nguyen', 'Pete Takahito', 'Jason Klamczynski',\n",
       "       'Greg Tran', 'Gene McClure', 'Helen Wasserman', 'Ross DeVincentis',\n",
       "       'Valerie Mitchum', 'Bart Pistole', 'Chad McGuire', 'Scott Cohen',\n",
       "       'Vivek Sundaresam', 'Natalie DeCherney', 'Cynthia Delaney',\n",
       "       'Tom Stivers', 'Gary McGarr', 'Grant Thornton', 'Speros Goranitis',\n",
       "       'Ellis Ballard', 'Maribeth Dona', 'Corey Lock', 'Bart Folk',\n",
       "       'Anne Pryor', 'Dorris Love', 'Caroline Jumper', 'Pamela Stobb',\n",
       "       'Jasper Cacioppo', 'Alan Haines', 'Deirdre Greer',\n",
       "       'John Stevenson', 'Sheri Gordon', 'Ben Wallace', 'Max Engle',\n",
       "       'Fred Chung', 'Mathew Reese', 'Dennis Kane', 'Stuart Van',\n",
       "       'Jennifer Ferguson', 'Theresa Swint', 'Brenda Bowman',\n",
       "       'Katherine Nockton', 'Stewart Visinsky', 'Jeremy Farry',\n",
       "       'Clay Ludtke', 'Laurel Elliston', 'Phillip Flathmann',\n",
       "       'Mitch Webber', 'Carol Triggs', 'Justin MacKendrick',\n",
       "       'Sarah Brown', 'Tony Sayre', 'Dionis Lloyd', 'Lindsay Castell',\n",
       "       'Michael Chen', 'Toby Carlisle', 'Ted Butterfield', 'Nora Price',\n",
       "       'Shirley Daniels', 'Arthur Gainer', 'Stuart Calhoun', '123456',\n",
       "       'Arthur Prichep', 'Kean Nguyen', 'Jim Kriz', 'Harold Ryan',\n",
       "       'John Lucas', 'Alejandro Grove', 'Sam Zeldin', 'Sally Hughsby',\n",
       "       'Jane Waco', 'Sandra Flanagan', 'Steve Nguyen', 'Herbert Flentye',\n",
       "       'Xylona Price', 'Bill Overfelt', 'Robert Marley', 'Mick Hernandez',\n",
       "       'Guy Phonely', 'Jay Kimmel', 'Matt Connell', 'Vivek Grady',\n",
       "       'Ben Ferrer', 'Karen Daniels', 'Pamela Coakley', 'Denny Blanton',\n",
       "       'Laura Armstrong', 'Lindsay Shagiari', 'Cathy Prescott',\n",
       "       'Stephanie Ulpright', 'Odella Nelson', 'Ryan Akin', 'Todd Sumrall',\n",
       "       'Greg Hansen', 'Darrin Martin', 'Ken Brennan', 'Max Jones',\n",
       "       'Joe Kamberova', 'Maureen Fritzler', 'Art Foster', 'Erica Hackney',\n",
       "       'Don Weiss', 'Jessica Myrick', 'Bruce Degenhardt', 'Kalyca Meade',\n",
       "       'Troy Blackwell', 'Clytie Kelty', 'Steven Roelle',\n",
       "       'Benjamin Patterson', 'Denny Joy', 'Kristen Hastings',\n",
       "       'Alan Schoenberger', 'Alejandro Savely', 'Kean Thornton',\n",
       "       'Grant Donatelli', 'Jason Fortune', 'Dave Brooks', 'Philip Fox',\n",
       "       'Ionia McGrath', 'Lori Olson', 'Quincy Jones', 'Patrick Jones',\n",
       "       'Karen Seio', 'Patrick Gardner', 'Nona Balk', 'Erin Mull',\n",
       "       'John Lee', 'Justin Deggeller', 'Keith Dawkins', 'Joe Elijah',\n",
       "       'Stefanie Holloman', 'Ken Black', 'Lindsay Williams',\n",
       "       'Logan Currie', 'Steve Chapman', 'Thais Sissman', 'Jamie Frazer',\n",
       "       'Steven Cartwright', 'Sean Braxton', 'Linda Southworth',\n",
       "       'Roland Murray', \"Russell D'Ascenzo\", 'Rachel Payne',\n",
       "       'Steven Ward', 'Tracy Collins', 'Rick Bensley', 'Emily Ducich',\n",
       "       'Thea Hudgings', 'Sanjit Engle', 'Jill Fjeld', 'Susan MacKendrick',\n",
       "       'Peter Fuller', 'Sam Craven', 'Mitch Willingham', 'John Dryer',\n",
       "       'Susan Gilcrest', 'Patrick Ryan', 'Randy Bradley', 'William Brown',\n",
       "       'Rick Hansen', 'Toby Grace', 'Joseph Holt', 'Ashley Jarboe',\n",
       "       'Pauline Webber', 'Kean Takahito', 'Nick Zandusky', 'Neoma Murray',\n",
       "       'Sung Chung', 'Darrin Van Huff', 'Max Ludwig', 'Michelle Moray',\n",
       "       'Craig Rider', 'Maribeth Yedwab', 'Eugene Moren', 'Mark Van Huff',\n",
       "       'Mark Hamilton', 'Sung Shariari', 'Richard Eichhorn',\n",
       "       'Neil French', 'Nicole Fjeld', 'Suzanne McNair', 'Susan Pistek',\n",
       "       'Nick Crebassa', 'Aleksandra Gannaway', 'Carl Weiss', 'Joel Eaton',\n",
       "       'Justin Ellison', 'Jennifer Jackson', 'Karen Bern', 'Meg Tillman',\n",
       "       'Liz Pelletier', 'Jonathan Doherty', 'Frank Gastineau',\n",
       "       'Janet Lee', 'Maxwell Schwartz', 'Liz Carlisle', 'Denise Monton',\n",
       "       'Kelly Collister', 'Dennis Pardue', 'John Huston',\n",
       "       'MaryBeth Skach', 'Craig Carreira', 'Paul Stevenson',\n",
       "       'Valerie Takahito', 'Luke Schmidt', 'Kelly Andreada',\n",
       "       'Tracy Hopkins', 'Craig Leslie', 'Michael Grace',\n",
       "       'Saphhira Shifley', 'Laurel Beltran', 'Tracy Blumstein',\n",
       "       'Larry Blacks', 'Richard Bierner', 'Tiffany House', 'Roy Collins',\n",
       "       'Toby Swindell', 'Christina Anderson', 'Robert Dilbeck',\n",
       "       'Randy Ferguson', 'Arianne Irving', 'Andy Gerbode', 'Amy Hunt',\n",
       "       'Craig Molinari', 'Trudy Brown', 'Brian Dahlen', 'Beth Fritzler',\n",
       "       'Brosina Hoffman', 'M999999', 'Phillina Ober', 'Jim Epp',\n",
       "       'Maribeth Schnelling', 'James Galang', 'Lynn Smith',\n",
       "       'Christine Abelman', 'Pauline Johnson', 'Georgia Rosenberg',\n",
       "       'Allen Armold', 'Katherine Hughes', 'Brendan Sweed',\n",
       "       'Dario Medina', 'Ed Braxton', 'Cindy Chapman', 'Benjamin Farhat',\n",
       "       'Dianna Vittorini', 'Cindy Stewart', 'Rob Williams', 'Anna Chung',\n",
       "       'Ricardo Block', 'Trudy Bell', 'Rob Lucas', 'Adam Hart',\n",
       "       'Roland Fjeld', 'Denny Ordway', 'Charles Crestani',\n",
       "       'Bryan Spruell', 'Thomas Thornton', 'Tamara Willingham',\n",
       "       'Anne McFarland', 'Dean Katz', 'Barry Pond', 'Jeremy Pistek',\n",
       "       'Cyra Reiten', 'Victoria Pisteka', 'Dave Kipp', 'David Bremer',\n",
       "       'Jill Matthias', 'Tim Taslimi', 'Juliana Krohn', 'Duane Noonan',\n",
       "       'Paul Van Hugh', 'Tom Ashbrook', 'Maris LaWare', 'Mick Brown',\n",
       "       'Chris McAfee', 'Pete Kriz', 'Irene Maddox', 'Rick Huthwaite',\n",
       "       'Katherine Ducich', 'Carol Darley', 'Fred Harton', 'Andrew Allen',\n",
       "       'Art Miller', 'Lauren Leatherbury', 'Greg Matthias',\n",
       "       'Anthony Rawles', 'Barry Blumstein', 'Roger Barcio', 'Sung Pak',\n",
       "       'Tim Brockman', 'Resi Polking', 'Roger Demir', 'Tamara Manning',\n",
       "       'Sue Ann Reed', 'Shaun Chance', 'Penelope Sewall',\n",
       "       'Sharelle Roach', 'Ken Dana', 'Laurel Workman', 'Lisa Ryan',\n",
       "       'Chloris Kastensmidt', 'Lisa Hazard', 'Mitch Gastineau',\n",
       "       'Katharine Harms', 'Matthew Grinstein', 'Maria Etezadi',\n",
       "       'Sample Company A', 'Sonia Cooley', 'Sibella Parks', 'Becky Pak',\n",
       "       'Adam Shillingsburg', 'Brooke Gillingham', 'Tom Boeckenhauer',\n",
       "       'Alex Russell', 'Alejandro Ballentine', 'Claire Good',\n",
       "       'Alyssa Crouse', 'Cassandra Brandow', 'Adrian Barton',\n",
       "       'Catherine Glotzbach', 'Frank Olsen', 'Alice McCarthy',\n",
       "       'Frank Merwin', 'Bruce Money', 'Larry Tron', 'Brian DeCherney',\n",
       "       'Ann Steele', 'Anthony Jacobs', 'Katrina Edelman', 'Ruben Dartt',\n",
       "       'Roy Phan', 'Clay Cheatham', 'Yoseph Carroll', 'Raymond Book',\n",
       "       'Alan Dominguez', 'Stephanie Phelps', 'Tonja Turnell',\n",
       "       'Christopher Conant', 'Cyma Kinney', 'Shui Tom',\n",
       "       'Victoria Brennan', 'Adrian Shami', 'Harry Greene'], dtype=object)"
      ]
     },
     "execution_count": 37,
     "metadata": {},
     "output_type": "execute_result"
    }
   ],
   "source": [
    "data['Customer_Name'].unique()"
   ]
  },
  {
   "cell_type": "code",
   "execution_count": 38,
   "metadata": {},
   "outputs": [],
   "source": [
    "#'Customer_Name'\n",
    "count=0\n",
    "for i in data['Customer_Name']:\n",
    "    if (any(x.isalpha() for x in i)):\n",
    "        pass\n",
    "    else:\n",
    "        data.loc[count,'Customer_Name']=np.nan\n",
    "    count+=1"
   ]
  },
  {
   "cell_type": "code",
   "execution_count": 39,
   "metadata": {},
   "outputs": [
    {
     "data": {
      "text/plain": [
       "array(['Nunavut', 'Northwest Territories', 'Prince Edward Island',\n",
       "       'Manitoba', 'British Columbia', 'Nova Scotia', 'Ontario',\n",
       "       'Newfoundland', 'Quebec', 'New Brunswick', 'Saskachewan', 'Yukon',\n",
       "       'Alberta'], dtype=object)"
      ]
     },
     "execution_count": 39,
     "metadata": {},
     "output_type": "execute_result"
    }
   ],
   "source": [
    "data['Province'].unique()"
   ]
  },
  {
   "cell_type": "code",
   "execution_count": 40,
   "metadata": {},
   "outputs": [
    {
     "data": {
      "text/plain": [
       "array(['Nunavut', 'Northwest Territories', 'Atlantic', 'Prarie', 'West',\n",
       "       'Ontario', 'Quebec', 'Yukon'], dtype=object)"
      ]
     },
     "execution_count": 40,
     "metadata": {},
     "output_type": "execute_result"
    }
   ],
   "source": [
    "data['Region'].unique()"
   ]
  },
  {
   "cell_type": "code",
   "execution_count": 41,
   "metadata": {},
   "outputs": [
    {
     "data": {
      "text/plain": [
       "array(['Small Business', 'Consumer', 'Corporate', 'Home Office'],\n",
       "      dtype=object)"
      ]
     },
     "execution_count": 41,
     "metadata": {},
     "output_type": "execute_result"
    }
   ],
   "source": [
    "data['Customer_Segment'].unique()"
   ]
  },
  {
   "cell_type": "code",
   "execution_count": 42,
   "metadata": {},
   "outputs": [
    {
     "data": {
      "text/plain": [
       "array(['Office Supplies', 'Technology', 'Furniture'], dtype=object)"
      ]
     },
     "execution_count": 42,
     "metadata": {},
     "output_type": "execute_result"
    }
   ],
   "source": [
    "#Product_Category\n",
    "data['Product_Category'].unique()"
   ]
  },
  {
   "cell_type": "code",
   "execution_count": 43,
   "metadata": {},
   "outputs": [
    {
     "data": {
      "text/plain": [
       "array(['Storage & Organization', 'Appliances',\n",
       "       'Binders and Binder Accessories', 'Paper', 'Rubber Bands',\n",
       "       'Computer Peripherals', 'Office Furnishings', 'Envelopes',\n",
       "       'Bookcases', 'Tables', 'Telephones and Communication', 'Labels',\n",
       "       'Pens & Art Supplies', 'Copiers and Fax', 'Chairs & Chairmats',\n",
       "       'Scissors, Rulers and Trimmers', 'Office Machines'], dtype=object)"
      ]
     },
     "execution_count": 43,
     "metadata": {},
     "output_type": "execute_result"
    }
   ],
   "source": [
    "#Product_Sub-Category\n",
    "data['Product_Sub-Category'].unique()"
   ]
  },
  {
   "cell_type": "code",
   "execution_count": 44,
   "metadata": {},
   "outputs": [
    {
     "data": {
      "text/plain": [
       "array([-213.25,  457.81,   46.71, ...,  343.05, -159.24,  580.43])"
      ]
     },
     "execution_count": 44,
     "metadata": {},
     "output_type": "execute_result"
    }
   ],
   "source": [
    "#Profit\n",
    "data['Profit'].unique()"
   ]
  },
  {
   "cell_type": "code",
   "execution_count": 45,
   "metadata": {},
   "outputs": [
    {
     "data": {
      "text/plain": [
       "array(['Eldon Base for stackable storage shelf, platinum',\n",
       "       '1.7 Cubic Foot Compact \"Cube\" Office Refrigerators',\n",
       "       'Cardinal Slant-D® Ring Binder, Heavy Gauge Vinyl', ...,\n",
       "       'Smead Alpha-Z Color-Coded Name Labels First Letter Starter Set',\n",
       "       'Xerox 209',\n",
       "       'Sanford Uni-Blazer™ View Highlighters, Chisel Tip, Yellow'],\n",
       "      dtype=object)"
      ]
     },
     "execution_count": 45,
     "metadata": {},
     "output_type": "execute_result"
    }
   ],
   "source": [
    "#Product_Name\n",
    "data['Product_Name'].unique()"
   ]
  },
  {
   "cell_type": "code",
   "execution_count": 46,
   "metadata": {},
   "outputs": [
    {
     "data": {
      "text/plain": [
       "array(['Large Box', 'Jumbo Drum', 'Small Box', 'Medium Box', 'Wrap Bag',\n",
       "       'Small Pack', 'Jumbo Box'], dtype=object)"
      ]
     },
     "execution_count": 46,
     "metadata": {},
     "output_type": "execute_result"
    }
   ],
   "source": [
    "#Product_Container\n",
    "data['Product_Container'].unique()"
   ]
  },
  {
   "cell_type": "code",
   "execution_count": 47,
   "metadata": {},
   "outputs": [
    {
     "data": {
      "text/plain": [
       "array(['#VALUE!', '10/2/2012', '10/3/2012', ..., '12/19/2012',\n",
       "       '11/10/2011', '11/30/2010'], dtype=object)"
      ]
     },
     "execution_count": 47,
     "metadata": {},
     "output_type": "execute_result"
    }
   ],
   "source": [
    "#Ship_Date\n",
    "data['Ship_Date'].unique()"
   ]
  },
  {
   "cell_type": "code",
   "execution_count": 48,
   "metadata": {},
   "outputs": [],
   "source": [
    "#Ship_Date\n",
    "count=0\n",
    "for i in data['Ship_Date']:\n",
    "    if any(x.isalpha() for x in i):\n",
    "        data.loc[count,'Ship_Date']=np.nan\n",
    "    count+=1"
   ]
  },
  {
   "cell_type": "code",
   "execution_count": 49,
   "metadata": {},
   "outputs": [
    {
     "data": {
      "text/plain": [
       "Order_ID                 0\n",
       "Order_Date               3\n",
       "Order_Priority           1\n",
       "Order_Quantity           5\n",
       "Sales                    0\n",
       "Discount                 0\n",
       "Ship_Mode                0\n",
       "Profit                   1\n",
       "Unit_Price               0\n",
       "Shipping_Cost            1\n",
       "Customer_Name           21\n",
       "Province                 0\n",
       "Region                   0\n",
       "Customer_Segment         0\n",
       "Product_Category         0\n",
       "Product_Sub-Category     0\n",
       "Product_Name             0\n",
       "Product_Container        0\n",
       "Ship_Date                3\n",
       "dtype: int64"
      ]
     },
     "execution_count": 49,
     "metadata": {},
     "output_type": "execute_result"
    }
   ],
   "source": [
    "data.isnull().sum()"
   ]
  },
  {
   "cell_type": "code",
   "execution_count": 50,
   "metadata": {},
   "outputs": [
    {
     "name": "stdout",
     "output_type": "stream",
     "text": [
      "<class 'pandas.core.frame.DataFrame'>\n",
      "RangeIndex: 7757 entries, 0 to 7756\n",
      "Data columns (total 19 columns):\n",
      "Order_ID                7757 non-null object\n",
      "Order_Date              7754 non-null object\n",
      "Order_Priority          7756 non-null object\n",
      "Order_Quantity          7752 non-null object\n",
      "Sales                   7757 non-null float64\n",
      "Discount                7757 non-null float64\n",
      "Ship_Mode               7757 non-null object\n",
      "Profit                  7756 non-null float64\n",
      "Unit_Price              7757 non-null float64\n",
      "Shipping_Cost           7756 non-null float64\n",
      "Customer_Name           7736 non-null object\n",
      "Province                7757 non-null object\n",
      "Region                  7757 non-null object\n",
      "Customer_Segment        7757 non-null object\n",
      "Product_Category        7757 non-null object\n",
      "Product_Sub-Category    7757 non-null object\n",
      "Product_Name            7757 non-null object\n",
      "Product_Container       7757 non-null object\n",
      "Ship_Date               7754 non-null object\n",
      "dtypes: float64(5), object(14)\n",
      "memory usage: 1.1+ MB\n"
     ]
    }
   ],
   "source": [
    "data.info()"
   ]
  },
  {
   "cell_type": "code",
   "execution_count": 51,
   "metadata": {},
   "outputs": [],
   "source": [
    "#Product_Name\n",
    "count=0\n",
    "for i in data['Product_Name']:\n",
    "    if any(x.isalpha() for x in i):\n",
    "        pass\n",
    "    else:\n",
    "        data.loc[count,'Product_Name']=np.nan\n",
    "    count+=1"
   ]
  },
  {
   "cell_type": "code",
   "execution_count": 52,
   "metadata": {},
   "outputs": [],
   "source": [
    "#OrderID\n",
    "count=0\n",
    "for i in data['Order_ID']:\n",
    "    if any(x.isalpha() for x in i):\n",
    "        data.loc[count,'Order_ID']=np.nan\n",
    "    else:\n",
    "        pass\n",
    "    count+=1"
   ]
  },
  {
   "cell_type": "code",
   "execution_count": 53,
   "metadata": {},
   "outputs": [],
   "source": [
    "data.dropna(inplace=True)\n",
    "data.reset_index(drop=True,inplace=True)"
   ]
  },
  {
   "cell_type": "code",
   "execution_count": 54,
   "metadata": {},
   "outputs": [],
   "source": [
    "data['Order_Date']=pd.to_datetime(data['Order_Date'])\n",
    "data['Ship_Date']=pd.to_datetime(data['Ship_Date'])"
   ]
  },
  {
   "cell_type": "code",
   "execution_count": 55,
   "metadata": {},
   "outputs": [
    {
     "name": "stdout",
     "output_type": "stream",
     "text": [
      "<class 'pandas.core.frame.DataFrame'>\n",
      "RangeIndex: 7542 entries, 0 to 7541\n",
      "Data columns (total 19 columns):\n",
      "Order_ID                7542 non-null object\n",
      "Order_Date              7542 non-null datetime64[ns]\n",
      "Order_Priority          7542 non-null object\n",
      "Order_Quantity          7542 non-null object\n",
      "Sales                   7542 non-null float64\n",
      "Discount                7542 non-null float64\n",
      "Ship_Mode               7542 non-null object\n",
      "Profit                  7542 non-null float64\n",
      "Unit_Price              7542 non-null float64\n",
      "Shipping_Cost           7542 non-null float64\n",
      "Customer_Name           7542 non-null object\n",
      "Province                7542 non-null object\n",
      "Region                  7542 non-null object\n",
      "Customer_Segment        7542 non-null object\n",
      "Product_Category        7542 non-null object\n",
      "Product_Sub-Category    7542 non-null object\n",
      "Product_Name            7542 non-null object\n",
      "Product_Container       7542 non-null object\n",
      "Ship_Date               7542 non-null datetime64[ns]\n",
      "dtypes: datetime64[ns](2), float64(5), object(12)\n",
      "memory usage: 1.1+ MB\n"
     ]
    }
   ],
   "source": [
    "data.info()"
   ]
  },
  {
   "cell_type": "code",
   "execution_count": 56,
   "metadata": {},
   "outputs": [
    {
     "data": {
      "text/html": [
       "<div>\n",
       "<style scoped>\n",
       "    .dataframe tbody tr th:only-of-type {\n",
       "        vertical-align: middle;\n",
       "    }\n",
       "\n",
       "    .dataframe tbody tr th {\n",
       "        vertical-align: top;\n",
       "    }\n",
       "\n",
       "    .dataframe thead th {\n",
       "        text-align: right;\n",
       "    }\n",
       "</style>\n",
       "<table border=\"1\" class=\"dataframe\">\n",
       "  <thead>\n",
       "    <tr style=\"text-align: right;\">\n",
       "      <th></th>\n",
       "      <th>Order_ID</th>\n",
       "      <th>Order_Date</th>\n",
       "      <th>Order_Priority</th>\n",
       "      <th>Order_Quantity</th>\n",
       "      <th>Sales</th>\n",
       "      <th>Discount</th>\n",
       "      <th>Ship_Mode</th>\n",
       "      <th>Profit</th>\n",
       "      <th>Unit_Price</th>\n",
       "      <th>Shipping_Cost</th>\n",
       "      <th>Customer_Name</th>\n",
       "      <th>Province</th>\n",
       "      <th>Region</th>\n",
       "      <th>Customer_Segment</th>\n",
       "      <th>Product_Category</th>\n",
       "      <th>Product_Sub-Category</th>\n",
       "      <th>Product_Name</th>\n",
       "      <th>Product_Container</th>\n",
       "      <th>Ship_Date</th>\n",
       "    </tr>\n",
       "  </thead>\n",
       "  <tbody>\n",
       "    <tr>\n",
       "      <th>0</th>\n",
       "      <td>293</td>\n",
       "      <td>2012-10-01</td>\n",
       "      <td>High</td>\n",
       "      <td>49</td>\n",
       "      <td>10123.02</td>\n",
       "      <td>0.07</td>\n",
       "      <td>Delivery Truck</td>\n",
       "      <td>457.81</td>\n",
       "      <td>208.16</td>\n",
       "      <td>68.02</td>\n",
       "      <td>Barry French</td>\n",
       "      <td>Nunavut</td>\n",
       "      <td>Nunavut</td>\n",
       "      <td>Consumer</td>\n",
       "      <td>Office Supplies</td>\n",
       "      <td>Appliances</td>\n",
       "      <td>1.7 Cubic Foot Compact \"Cube\" Office Refrigera...</td>\n",
       "      <td>Jumbo Drum</td>\n",
       "      <td>2012-10-02</td>\n",
       "    </tr>\n",
       "    <tr>\n",
       "      <th>1</th>\n",
       "      <td>293</td>\n",
       "      <td>2012-10-01</td>\n",
       "      <td>High</td>\n",
       "      <td>27</td>\n",
       "      <td>244.57</td>\n",
       "      <td>0.01</td>\n",
       "      <td>Regular Air</td>\n",
       "      <td>46.71</td>\n",
       "      <td>8.69</td>\n",
       "      <td>2.99</td>\n",
       "      <td>Barry French</td>\n",
       "      <td>Nunavut</td>\n",
       "      <td>Nunavut</td>\n",
       "      <td>Consumer</td>\n",
       "      <td>Office Supplies</td>\n",
       "      <td>Binders and Binder Accessories</td>\n",
       "      <td>Cardinal Slant-D® Ring Binder, Heavy Gauge Vinyl</td>\n",
       "      <td>Small Box</td>\n",
       "      <td>2012-10-03</td>\n",
       "    </tr>\n",
       "    <tr>\n",
       "      <th>2</th>\n",
       "      <td>515</td>\n",
       "      <td>2010-08-28</td>\n",
       "      <td>Not Specified</td>\n",
       "      <td>19</td>\n",
       "      <td>394.27</td>\n",
       "      <td>0.08</td>\n",
       "      <td>Regular Air</td>\n",
       "      <td>30.94</td>\n",
       "      <td>21.78</td>\n",
       "      <td>5.94</td>\n",
       "      <td>Carlos Soltero</td>\n",
       "      <td>Nunavut</td>\n",
       "      <td>Nunavut</td>\n",
       "      <td>Consumer</td>\n",
       "      <td>Office Supplies</td>\n",
       "      <td>Appliances</td>\n",
       "      <td>Holmes HEPA Air Purifier</td>\n",
       "      <td>Medium Box</td>\n",
       "      <td>2010-08-30</td>\n",
       "    </tr>\n",
       "    <tr>\n",
       "      <th>3</th>\n",
       "      <td>613</td>\n",
       "      <td>2011-06-17</td>\n",
       "      <td>High</td>\n",
       "      <td>12</td>\n",
       "      <td>93.54</td>\n",
       "      <td>0.03</td>\n",
       "      <td>Regular Air</td>\n",
       "      <td>-54.04</td>\n",
       "      <td>7.30</td>\n",
       "      <td>7.72</td>\n",
       "      <td>Carl Jackson</td>\n",
       "      <td>Nunavut</td>\n",
       "      <td>Nunavut</td>\n",
       "      <td>Corporate</td>\n",
       "      <td>Office Supplies</td>\n",
       "      <td>Binders and Binder Accessories</td>\n",
       "      <td>Angle-D Binders with Locking Rings, Label Holders</td>\n",
       "      <td>Small Box</td>\n",
       "      <td>2011-06-17</td>\n",
       "    </tr>\n",
       "    <tr>\n",
       "      <th>4</th>\n",
       "      <td>643</td>\n",
       "      <td>2011-03-24</td>\n",
       "      <td>High</td>\n",
       "      <td>21</td>\n",
       "      <td>2781.82</td>\n",
       "      <td>0.07</td>\n",
       "      <td>Express Air</td>\n",
       "      <td>-695.26</td>\n",
       "      <td>138.14</td>\n",
       "      <td>35.00</td>\n",
       "      <td>Monica Federle</td>\n",
       "      <td>Nunavut</td>\n",
       "      <td>Nunavut</td>\n",
       "      <td>Corporate</td>\n",
       "      <td>Office Supplies</td>\n",
       "      <td>Storage &amp; Organization</td>\n",
       "      <td>SAFCO Commercial Wire Shelving, Black</td>\n",
       "      <td>Large Box</td>\n",
       "      <td>2011-03-25</td>\n",
       "    </tr>\n",
       "  </tbody>\n",
       "</table>\n",
       "</div>"
      ],
      "text/plain": [
       "  Order_ID Order_Date Order_Priority Order_Quantity     Sales  Discount  \\\n",
       "0      293 2012-10-01           High             49  10123.02      0.07   \n",
       "1      293 2012-10-01           High             27    244.57      0.01   \n",
       "2      515 2010-08-28  Not Specified             19    394.27      0.08   \n",
       "3      613 2011-06-17           High             12     93.54      0.03   \n",
       "4      643 2011-03-24           High             21   2781.82      0.07   \n",
       "\n",
       "        Ship_Mode  Profit  Unit_Price  Shipping_Cost   Customer_Name Province  \\\n",
       "0  Delivery Truck  457.81      208.16          68.02    Barry French  Nunavut   \n",
       "1     Regular Air   46.71        8.69           2.99    Barry French  Nunavut   \n",
       "2     Regular Air   30.94       21.78           5.94  Carlos Soltero  Nunavut   \n",
       "3     Regular Air  -54.04        7.30           7.72    Carl Jackson  Nunavut   \n",
       "4     Express Air -695.26      138.14          35.00  Monica Federle  Nunavut   \n",
       "\n",
       "    Region Customer_Segment Product_Category            Product_Sub-Category  \\\n",
       "0  Nunavut         Consumer  Office Supplies                      Appliances   \n",
       "1  Nunavut         Consumer  Office Supplies  Binders and Binder Accessories   \n",
       "2  Nunavut         Consumer  Office Supplies                      Appliances   \n",
       "3  Nunavut        Corporate  Office Supplies  Binders and Binder Accessories   \n",
       "4  Nunavut        Corporate  Office Supplies          Storage & Organization   \n",
       "\n",
       "                                        Product_Name Product_Container  \\\n",
       "0  1.7 Cubic Foot Compact \"Cube\" Office Refrigera...        Jumbo Drum   \n",
       "1   Cardinal Slant-D® Ring Binder, Heavy Gauge Vinyl         Small Box   \n",
       "2                           Holmes HEPA Air Purifier        Medium Box   \n",
       "3  Angle-D Binders with Locking Rings, Label Holders         Small Box   \n",
       "4              SAFCO Commercial Wire Shelving, Black         Large Box   \n",
       "\n",
       "   Ship_Date  \n",
       "0 2012-10-02  \n",
       "1 2012-10-03  \n",
       "2 2010-08-30  \n",
       "3 2011-06-17  \n",
       "4 2011-03-25  "
      ]
     },
     "execution_count": 56,
     "metadata": {},
     "output_type": "execute_result"
    }
   ],
   "source": [
    "data.head()"
   ]
  },
  {
   "cell_type": "code",
   "execution_count": 57,
   "metadata": {},
   "outputs": [
    {
     "data": {
      "text/plain": [
       "array([10123.02  ,   244.57  ,   394.27  , ...,   823.78  ,   469.8375,\n",
       "        2026.01  ])"
      ]
     },
     "execution_count": 57,
     "metadata": {},
     "output_type": "execute_result"
    }
   ],
   "source": [
    "data['Sales'].unique()"
   ]
  },
  {
   "cell_type": "markdown",
   "metadata": {},
   "source": [
    "# Univariate Analysis"
   ]
  },
  {
   "cell_type": "code",
   "execution_count": 58,
   "metadata": {},
   "outputs": [],
   "source": [
    "data['Order_Quantity']=data['Order_Quantity'].astype('int')"
   ]
  },
  {
   "cell_type": "code",
   "execution_count": 59,
   "metadata": {},
   "outputs": [
    {
     "data": {
      "text/plain": [
       "Index(['Order_ID', 'Order_Date', 'Order_Priority', 'Order_Quantity', 'Sales',\n",
       "       'Discount', 'Ship_Mode', 'Profit', 'Unit_Price', 'Shipping_Cost',\n",
       "       'Customer_Name', 'Province', 'Region', 'Customer_Segment',\n",
       "       'Product_Category', 'Product_Sub-Category', 'Product_Name',\n",
       "       'Product_Container', 'Ship_Date'],\n",
       "      dtype='object')"
      ]
     },
     "execution_count": 59,
     "metadata": {},
     "output_type": "execute_result"
    }
   ],
   "source": [
    "data.columns"
   ]
  },
  {
   "cell_type": "code",
   "execution_count": 60,
   "metadata": {},
   "outputs": [
    {
     "data": {
      "text/html": [
       "<div>\n",
       "<style scoped>\n",
       "    .dataframe tbody tr th:only-of-type {\n",
       "        vertical-align: middle;\n",
       "    }\n",
       "\n",
       "    .dataframe tbody tr th {\n",
       "        vertical-align: top;\n",
       "    }\n",
       "\n",
       "    .dataframe thead th {\n",
       "        text-align: right;\n",
       "    }\n",
       "</style>\n",
       "<table border=\"1\" class=\"dataframe\">\n",
       "  <thead>\n",
       "    <tr style=\"text-align: right;\">\n",
       "      <th></th>\n",
       "      <th>Order_Quantity</th>\n",
       "      <th>Sales</th>\n",
       "      <th>Discount</th>\n",
       "      <th>Profit</th>\n",
       "      <th>Unit_Price</th>\n",
       "      <th>Shipping_Cost</th>\n",
       "    </tr>\n",
       "  </thead>\n",
       "  <tbody>\n",
       "    <tr>\n",
       "      <th>count</th>\n",
       "      <td>7542.000000</td>\n",
       "      <td>7542.000000</td>\n",
       "      <td>7542.000000</td>\n",
       "      <td>7542.000000</td>\n",
       "      <td>7542.000000</td>\n",
       "      <td>7542.000000</td>\n",
       "    </tr>\n",
       "    <tr>\n",
       "      <th>mean</th>\n",
       "      <td>25.564041</td>\n",
       "      <td>1758.637674</td>\n",
       "      <td>0.049736</td>\n",
       "      <td>173.649857</td>\n",
       "      <td>89.383083</td>\n",
       "      <td>13.031458</td>\n",
       "    </tr>\n",
       "    <tr>\n",
       "      <th>std</th>\n",
       "      <td>14.477363</td>\n",
       "      <td>3616.945990</td>\n",
       "      <td>0.031859</td>\n",
       "      <td>1211.575577</td>\n",
       "      <td>299.516023</td>\n",
       "      <td>17.512606</td>\n",
       "    </tr>\n",
       "    <tr>\n",
       "      <th>min</th>\n",
       "      <td>1.000000</td>\n",
       "      <td>2.240000</td>\n",
       "      <td>0.000000</td>\n",
       "      <td>-14140.700000</td>\n",
       "      <td>-69.000000</td>\n",
       "      <td>0.490000</td>\n",
       "    </tr>\n",
       "    <tr>\n",
       "      <th>25%</th>\n",
       "      <td>13.000000</td>\n",
       "      <td>141.302500</td>\n",
       "      <td>0.020000</td>\n",
       "      <td>-83.740000</td>\n",
       "      <td>6.480000</td>\n",
       "      <td>3.100000</td>\n",
       "    </tr>\n",
       "    <tr>\n",
       "      <th>50%</th>\n",
       "      <td>26.000000</td>\n",
       "      <td>436.725000</td>\n",
       "      <td>0.050000</td>\n",
       "      <td>-2.340000</td>\n",
       "      <td>20.950000</td>\n",
       "      <td>6.135000</td>\n",
       "    </tr>\n",
       "    <tr>\n",
       "      <th>75%</th>\n",
       "      <td>38.000000</td>\n",
       "      <td>1663.515000</td>\n",
       "      <td>0.080000</td>\n",
       "      <td>148.752500</td>\n",
       "      <td>83.930000</td>\n",
       "      <td>13.990000</td>\n",
       "    </tr>\n",
       "    <tr>\n",
       "      <th>max</th>\n",
       "      <td>50.000000</td>\n",
       "      <td>89061.050000</td>\n",
       "      <td>0.250000</td>\n",
       "      <td>27220.690000</td>\n",
       "      <td>6783.020000</td>\n",
       "      <td>164.730000</td>\n",
       "    </tr>\n",
       "  </tbody>\n",
       "</table>\n",
       "</div>"
      ],
      "text/plain": [
       "       Order_Quantity         Sales     Discount        Profit   Unit_Price  \\\n",
       "count     7542.000000   7542.000000  7542.000000   7542.000000  7542.000000   \n",
       "mean        25.564041   1758.637674     0.049736    173.649857    89.383083   \n",
       "std         14.477363   3616.945990     0.031859   1211.575577   299.516023   \n",
       "min          1.000000      2.240000     0.000000 -14140.700000   -69.000000   \n",
       "25%         13.000000    141.302500     0.020000    -83.740000     6.480000   \n",
       "50%         26.000000    436.725000     0.050000     -2.340000    20.950000   \n",
       "75%         38.000000   1663.515000     0.080000    148.752500    83.930000   \n",
       "max         50.000000  89061.050000     0.250000  27220.690000  6783.020000   \n",
       "\n",
       "       Shipping_Cost  \n",
       "count    7542.000000  \n",
       "mean       13.031458  \n",
       "std        17.512606  \n",
       "min         0.490000  \n",
       "25%         3.100000  \n",
       "50%         6.135000  \n",
       "75%        13.990000  \n",
       "max       164.730000  "
      ]
     },
     "execution_count": 60,
     "metadata": {},
     "output_type": "execute_result"
    }
   ],
   "source": [
    "data.describe()"
   ]
  },
  {
   "cell_type": "code",
   "execution_count": 61,
   "metadata": {},
   "outputs": [],
   "source": [
    "import matplotlib.pyplot as plt\n",
    "import seaborn as sns"
   ]
  },
  {
   "cell_type": "markdown",
   "metadata": {},
   "source": [
    "# NUMERIC ATTRIBUTE"
   ]
  },
  {
   "cell_type": "code",
   "execution_count": 62,
   "metadata": {},
   "outputs": [
    {
     "data": {
      "text/plain": [
       "<matplotlib.axes._subplots.AxesSubplot at 0x7f5925f57710>"
      ]
     },
     "execution_count": 62,
     "metadata": {},
     "output_type": "execute_result"
    },
    {
     "data": {
      "image/png": "[encoded data removed]",
      "text/plain": [
       "<Figure size 432x288 with 1 Axes>"
      ]
     },
     "metadata": {
      "needs_background": "light"
     },
     "output_type": "display_data"
    }
   ],
   "source": [
    "data['Order_Quantity'].value_counts().plot.line()"
   ]
  },
  {
   "cell_type": "code",
   "execution_count": 63,
   "metadata": {},
   "outputs": [
    {
     "data": {
      "text/plain": [
       "<matplotlib.axes._subplots.AxesSubplot at 0x7f5925e8c0f0>"
      ]
     },
     "execution_count": 63,
     "metadata": {},
     "output_type": "execute_result"
    },
    {
     "data": {
      "image/png": "[encoded data removed]",
      "text/plain": [
       "<Figure size 432x288 with 1 Axes>"
      ]
     },
     "metadata": {
      "needs_background": "light"
     },
     "output_type": "display_data"
    }
   ],
   "source": [
    "sns.boxplot(x='Order_Quantity',data=data)"
   ]
  },
  {
   "cell_type": "code",
   "execution_count": 64,
   "metadata": {},
   "outputs": [
    {
     "data": {
      "text/plain": [
       "<matplotlib.axes._subplots.AxesSubplot at 0x7f5925e6f748>"
      ]
     },
     "execution_count": 64,
     "metadata": {},
     "output_type": "execute_result"
    },
    {
     "data": {
      "image/png": "[encoded data removed]",
      "text/plain": [
       "<Figure size 432x288 with 1 Axes>"
      ]
     },
     "metadata": {
      "needs_background": "light"
     },
     "output_type": "display_data"
    }
   ],
   "source": [
    "sns.boxplot(x='Sales',data=data)"
   ]
  },
  {
   "cell_type": "code",
   "execution_count": 65,
   "metadata": {},
   "outputs": [
    {
     "data": {
      "text/plain": [
       "<matplotlib.axes._subplots.AxesSubplot at 0x7f5925dd27f0>"
      ]
     },
     "execution_count": 65,
     "metadata": {},
     "output_type": "execute_result"
    },
    {
     "data": {
      "image/png": "[encoded data removed]",
      "text/plain": [
       "<Figure size 432x288 with 1 Axes>"
      ]
     },
     "metadata": {
      "needs_background": "light"
     },
     "output_type": "display_data"
    }
   ],
   "source": [
    "data['Sales'].value_counts().plot.line()"
   ]
  },
  {
   "cell_type": "code",
   "execution_count": 66,
   "metadata": {},
   "outputs": [
    {
     "data": {
      "text/plain": [
       "<matplotlib.axes._subplots.AxesSubplot at 0x7f5925d54c50>"
      ]
     },
     "execution_count": 66,
     "metadata": {},
     "output_type": "execute_result"
    },
    {
     "data": {
      "image/png": "[encoded data removed]",
      "text/plain": [
       "<Figure size 432x288 with 1 Axes>"
      ]
     },
     "metadata": {
      "needs_background": "light"
     },
     "output_type": "display_data"
    }
   ],
   "source": [
    "sns.boxplot(x='Discount',data=data)"
   ]
  },
  {
   "cell_type": "code",
   "execution_count": 67,
   "metadata": {},
   "outputs": [
    {
     "data": {
      "text/plain": [
       "<matplotlib.axes._subplots.AxesSubplot at 0x7f5925d30f28>"
      ]
     },
     "execution_count": 67,
     "metadata": {},
     "output_type": "execute_result"
    },
    {
     "data": {
      "image/png": "[encoded data removed]",
      "text/plain": [
       "<Figure size 432x288 with 1 Axes>"
      ]
     },
     "metadata": {
      "needs_background": "light"
     },
     "output_type": "display_data"
    }
   ],
   "source": [
    "sns.boxplot(x='Profit',data=data)"
   ]
  },
  {
   "cell_type": "code",
   "execution_count": 68,
   "metadata": {},
   "outputs": [
    {
     "data": {
      "text/plain": [
       "<matplotlib.axes._subplots.AxesSubplot at 0x7f59544ca518>"
      ]
     },
     "execution_count": 68,
     "metadata": {},
     "output_type": "execute_result"
    },
    {
     "data": {
      "image/png": "[encoded data removed]",
      "text/plain": [
       "<Figure size 432x288 with 1 Axes>"
      ]
     },
     "metadata": {
      "needs_background": "light"
     },
     "output_type": "display_data"
    }
   ],
   "source": [
    "sns.boxplot(x='Unit_Price',data=data)"
   ]
  },
  {
   "cell_type": "code",
   "execution_count": 69,
   "metadata": {},
   "outputs": [
    {
     "data": {
      "text/plain": [
       "<matplotlib.axes._subplots.AxesSubplot at 0x7f5925c5ec18>"
      ]
     },
     "execution_count": 69,
     "metadata": {},
     "output_type": "execute_result"
    },
    {
     "data": {
      "image/png": "[encoded data removed]",
      "text/plain": [
       "<Figure size 432x288 with 1 Axes>"
      ]
     },
     "metadata": {
      "needs_background": "light"
     },
     "output_type": "display_data"
    }
   ],
   "source": [
    "sns.boxplot(x='Shipping_Cost',data=data)"
   ]
  },
  {
   "cell_type": "markdown",
   "metadata": {},
   "source": [
    "# Categorical ATTRIBUTE"
   ]
  },
  {
   "cell_type": "code",
   "execution_count": 70,
   "metadata": {},
   "outputs": [
    {
     "data": {
      "text/plain": [
       "<matplotlib.axes._subplots.AxesSubplot at 0x7f5925c3abe0>"
      ]
     },
     "execution_count": 70,
     "metadata": {},
     "output_type": "execute_result"
    },
    {
     "data": {
      "image/png": "[encoded data removed]",
      "text/plain": [
       "<Figure size 432x288 with 1 Axes>"
      ]
     },
     "metadata": {
      "needs_background": "light"
     },
     "output_type": "display_data"
    }
   ],
   "source": [
    "plt.xlabel(\"Dates\")\n",
    "plt.ylabel(\"Frequency\")\n",
    "data['Order_Date'].hist(bins=5)"
   ]
  },
  {
   "cell_type": "code",
   "execution_count": 71,
   "metadata": {},
   "outputs": [
    {
     "data": {
      "text/plain": [
       "<matplotlib.axes._subplots.AxesSubplot at 0x7f5925dd2978>"
      ]
     },
     "execution_count": 71,
     "metadata": {},
     "output_type": "execute_result"
    },
    {
     "data": {
      "image/png": "[encoded data removed]",
      "text/plain": [
       "<Figure size 432x288 with 1 Axes>"
      ]
     },
     "metadata": {
      "needs_background": "light"
     },
     "output_type": "display_data"
    }
   ],
   "source": [
    "#plt.xlabel(\"Dates\")\n",
    "#plt.ylabel(\"Frequency\")\n",
    "data['Order_Priority'].hist(bins=10)"
   ]
  },
  {
   "cell_type": "code",
   "execution_count": 72,
   "metadata": {},
   "outputs": [
    {
     "data": {
      "text/plain": [
       "<matplotlib.axes._subplots.AxesSubplot at 0x7f5900a3ce80>"
      ]
     },
     "execution_count": 72,
     "metadata": {},
     "output_type": "execute_result"
    },
    {
     "data": {
      "image/png": "[encoded data removed]",
      "text/plain": [
       "<Figure size 432x288 with 1 Axes>"
      ]
     },
     "metadata": {
      "needs_background": "light"
     },
     "output_type": "display_data"
    }
   ],
   "source": [
    "data['Ship_Mode'].hist(bins=10)"
   ]
  },
  {
   "cell_type": "code",
   "execution_count": 73,
   "metadata": {},
   "outputs": [
    {
     "data": {
      "text/plain": [
       "<matplotlib.axes._subplots.AxesSubplot at 0x7f58d001f710>"
      ]
     },
     "execution_count": 73,
     "metadata": {},
     "output_type": "execute_result"
    },
    {
     "data": {
      "image/png": "[encoded data removed]",
      "text/plain": [
       "<Figure size 432x288 with 1 Axes>"
      ]
     },
     "metadata": {
      "needs_background": "light"
     },
     "output_type": "display_data"
    }
   ],
   "source": [
    "data['Province'].hist(bins=10)"
   ]
  },
  {
   "cell_type": "code",
   "execution_count": 74,
   "metadata": {},
   "outputs": [
    {
     "data": {
      "text/plain": [
       "<matplotlib.axes._subplots.AxesSubplot at 0x7f58a378afd0>"
      ]
     },
     "execution_count": 74,
     "metadata": {},
     "output_type": "execute_result"
    },
    {
     "data": {
      "image/png": "[encoded data removed]",
      "text/plain": [
       "<Figure size 432x288 with 1 Axes>"
      ]
     },
     "metadata": {
      "needs_background": "light"
     },
     "output_type": "display_data"
    }
   ],
   "source": [
    "data['Province'].value_counts().plot.area()\n"
   ]
  },
  {
   "cell_type": "code",
   "execution_count": 75,
   "metadata": {},
   "outputs": [
    {
     "data": {
      "text/plain": [
       "<matplotlib.axes._subplots.AxesSubplot at 0x7f588ffb7978>"
      ]
     },
     "execution_count": 75,
     "metadata": {},
     "output_type": "execute_result"
    },
    {
     "data": {
      "image/png": "[encoded data removed]",
      "text/plain": [
       "<Figure size 432x288 with 1 Axes>"
      ]
     },
     "metadata": {
      "needs_background": "light"
     },
     "output_type": "display_data"
    }
   ],
   "source": [
    "data['Region'].hist(bins=10)"
   ]
  },
  {
   "cell_type": "code",
   "execution_count": 76,
   "metadata": {},
   "outputs": [
    {
     "data": {
      "text/plain": [
       "<matplotlib.axes._subplots.AxesSubplot at 0x7f5865e24048>"
      ]
     },
     "execution_count": 76,
     "metadata": {},
     "output_type": "execute_result"
    },
    {
     "data": {
      "image/png": "[encoded data removed]",
      "text/plain": [
       "<Figure size 432x288 with 1 Axes>"
      ]
     },
     "metadata": {
      "needs_background": "light"
     },
     "output_type": "display_data"
    }
   ],
   "source": [
    "data['Customer_Segment'].hist(bins=10)"
   ]
  },
  {
   "cell_type": "code",
   "execution_count": 77,
   "metadata": {},
   "outputs": [
    {
     "data": {
      "text/plain": [
       "<matplotlib.axes._subplots.AxesSubplot at 0x7f58319589b0>"
      ]
     },
     "execution_count": 77,
     "metadata": {},
     "output_type": "execute_result"
    },
    {
     "data": {
      "image/png": "[encoded data removed]",
      "text/plain": [
       "<Figure size 432x288 with 1 Axes>"
      ]
     },
     "metadata": {
      "needs_background": "light"
     },
     "output_type": "display_data"
    }
   ],
   "source": [
    "data['Product_Category'].hist(bins=10)"
   ]
  },
  {
   "cell_type": "code",
   "execution_count": null,
   "metadata": {},
   "outputs": [],
   "source": []
  },
  {
   "cell_type": "code",
   "execution_count": 78,
   "metadata": {},
   "outputs": [
    {
     "data": {
      "text/plain": [
       "<matplotlib.axes._subplots.AxesSubplot at 0x7f5803f66cf8>"
      ]
     },
     "execution_count": 78,
     "metadata": {},
     "output_type": "execute_result"
    },
    {
     "data": {
      "image/png": "[encoded data removed]",
      "text/plain": [
       "<Figure size 432x288 with 1 Axes>"
      ]
     },
     "metadata": {
      "needs_background": "light"
     },
     "output_type": "display_data"
    }
   ],
   "source": [
    "data['Product_Container'].hist(bins=10)"
   ]
  },
  {
   "cell_type": "code",
   "execution_count": 79,
   "metadata": {},
   "outputs": [
    {
     "data": {
      "text/plain": [
       "<matplotlib.axes._subplots.AxesSubplot at 0x7f57d02b16d8>"
      ]
     },
     "execution_count": 79,
     "metadata": {},
     "output_type": "execute_result"
    },
    {
     "data": {
      "image/png": "[encoded data removed]",
      "text/plain": [
       "<Figure size 432x288 with 1 Axes>"
      ]
     },
     "metadata": {
      "needs_background": "light"
     },
     "output_type": "display_data"
    }
   ],
   "source": [
    "data['Ship_Date'].hist(bins=10)"
   ]
  }
 ],
 "metadata": {
  "kernelspec": {
   "display_name": "Python 3",
   "language": "python",
   "name": "python3"
  },
  "language_info": {
   "codemirror_mode": {
    "name": "ipython",
    "version": 3
   },
   "file_extension": ".py",
   "mimetype": "text/x-python",
   "name": "python",
   "nbconvert_exporter": "python",
   "pygments_lexer": "ipython3",
   "version": "3.7.4"
  }
 },
 "nbformat": 4,
 "nbformat_minor": 2
}
